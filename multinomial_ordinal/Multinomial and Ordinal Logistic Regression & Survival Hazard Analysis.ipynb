{
 "cells": [
  {
   "cell_type": "markdown",
   "metadata": {},
   "source": [
    "### Multinomial and logistic regression "
   ]
  },
  {
   "cell_type": "code",
   "execution_count": 65,
   "metadata": {},
   "outputs": [],
   "source": [
    "library(MASS)\n",
    "library(VGAM)\n",
    "library(foreign)"
   ]
  },
  {
   "cell_type": "code",
   "execution_count": 66,
   "metadata": {},
   "outputs": [],
   "source": [
    "dat <- read.dta(\"https://stats.idre.ucla.edu/stat/data/ologit.dta\") "
   ]
  },
  {
   "cell_type": "code",
   "execution_count": 67,
   "metadata": {},
   "outputs": [
    {
     "data": {
      "text/html": [
       "<table>\n",
       "<caption>A data.frame: 2 × 4</caption>\n",
       "<thead>\n",
       "\t<tr><th></th><th scope=col>apply</th><th scope=col>pared</th><th scope=col>public</th><th scope=col>gpa</th></tr>\n",
       "\t<tr><th></th><th scope=col>&lt;fct&gt;</th><th scope=col>&lt;int&gt;</th><th scope=col>&lt;int&gt;</th><th scope=col>&lt;dbl&gt;</th></tr>\n",
       "</thead>\n",
       "<tbody>\n",
       "\t<tr><th scope=row>1</th><td>very likely    </td><td>0</td><td>0</td><td>3.26</td></tr>\n",
       "\t<tr><th scope=row>2</th><td>somewhat likely</td><td>1</td><td>0</td><td>3.21</td></tr>\n",
       "</tbody>\n",
       "</table>\n"
      ],
      "text/latex": [
       "A data.frame: 2 × 4\n",
       "\\begin{tabular}{r|llll}\n",
       "  & apply & pared & public & gpa\\\\\n",
       "  & <fct> & <int> & <int> & <dbl>\\\\\n",
       "\\hline\n",
       "\t1 & very likely     & 0 & 0 & 3.26\\\\\n",
       "\t2 & somewhat likely & 1 & 0 & 3.21\\\\\n",
       "\\end{tabular}\n"
      ],
      "text/markdown": [
       "\n",
       "A data.frame: 2 × 4\n",
       "\n",
       "| <!--/--> | apply &lt;fct&gt; | pared &lt;int&gt; | public &lt;int&gt; | gpa &lt;dbl&gt; |\n",
       "|---|---|---|---|---|\n",
       "| 1 | very likely     | 0 | 0 | 3.26 |\n",
       "| 2 | somewhat likely | 1 | 0 | 3.21 |\n",
       "\n"
      ],
      "text/plain": [
       "  apply           pared public gpa \n",
       "1 very likely     0     0      3.26\n",
       "2 somewhat likely 1     0      3.21"
      ]
     },
     "metadata": {},
     "output_type": "display_data"
    }
   ],
   "source": [
    "head(dat, 2)"
   ]
  },
  {
   "cell_type": "code",
   "execution_count": 68,
   "metadata": {},
   "outputs": [],
   "source": [
    "# help(xtabs)"
   ]
  },
  {
   "cell_type": "markdown",
   "metadata": {},
   "source": [
    "Create a contingency table (optionally a sparse matrix) from cross-classifying factors, usually contained in a data frame, using a formula interface. \n",
    "\n",
    "We only have 4 variables. The variable of interest is the first one, apply, how likely an undergrad student will apply to grad school (unlikely, somwhat, very).\n",
    "\n",
    "parent education: pared, is if at least one of the 2 parents has a graduate degree. \n",
    "\n",
    "public: if the undergrad institute is public or private. \n",
    "\n",
    "gpa: undergrad gpa\n"
   ]
  },
  {
   "cell_type": "code",
   "execution_count": 69,
   "metadata": {},
   "outputs": [
    {
     "data": {
      "text/plain": [
       ", , pared = 0\n",
       "\n",
       "      apply\n",
       "public unlikely somewhat likely very likely\n",
       "     0      175              98          20\n",
       "     1       25              12           7\n",
       "\n",
       ", , pared = 1\n",
       "\n",
       "      apply\n",
       "public unlikely somewhat likely very likely\n",
       "     0       14              26          10\n",
       "     1        6               4           3\n"
      ]
     },
     "metadata": {},
     "output_type": "display_data"
    }
   ],
   "source": [
    "xtabs(~ public + apply + pared, data=dat)"
   ]
  },
  {
   "cell_type": "markdown",
   "metadata": {},
   "source": [
    "what r the predictors of the lieklihood of graduate school application? "
   ]
  },
  {
   "cell_type": "markdown",
   "metadata": {},
   "source": [
    "proportional odds ordinal logistic regression from the library MASS\n",
    "\n",
    "REMEMBER proportional odds logistic regression the predictors are shared. were modeling the cumularive odds of being in category less than euqal to k vs a cat greater than k. in this model the covariates, the effect sizes, are shared for all regressions. with 3 cats, we have 2 regressions. 2 vs baseline. \n",
    "\n",
    "Call our cats 0 1 2:\n",
    "\n",
    "0: unlikely\n",
    "1: somewhat\n",
    "2: very \n",
    "\n",
    "So one of the regressions will be \n",
    "log odds of being in group one given covariates vs group greater than group one given covariates:\n",
    "\n",
    "LN(P(Y<=0 | X) / P(Y>0 | X)) = b01 + B1X1 + B2X2+B3X3\n",
    "\n",
    "the other two models will be \n",
    "\n",
    "different intercept but same estimates:\n",
    "\n",
    "LN(P(Y<=1 | X) / P(Y>1 | X)) = b02 + B1X1 + B2X2+B3X3"
   ]
  },
  {
   "cell_type": "code",
   "execution_count": 70,
   "metadata": {},
   "outputs": [
    {
     "data": {
      "text/plain": [
       "Call:\n",
       "polr(formula = apply ~ pared + public + gpa, data = dat, Hess = TRUE)\n",
       "\n",
       "Coefficients:\n",
       "      pared      public         gpa \n",
       " 1.04769010 -0.05878572  0.61594057 \n",
       "\n",
       "Intercepts:\n",
       "   unlikely|somewhat likely somewhat likely|very likely \n",
       "                   2.203915                    4.299363 \n",
       "\n",
       "Residual Deviance: 717.0249 \n",
       "AIC: 727.0249 "
      ]
     },
     "metadata": {},
     "output_type": "display_data"
    }
   ],
   "source": [
    "polr(apply ~ pared + public + gpa, data=dat, Hess=TRUE)"
   ]
  },
  {
   "cell_type": "code",
   "execution_count": 71,
   "metadata": {},
   "outputs": [
    {
     "data": {
      "text/plain": [
       "Call:\n",
       "polr(formula = apply ~ pared + public + gpa, data = dat, Hess = TRUE)\n",
       "\n",
       "Coefficients:\n",
       "          Value Std. Error t value\n",
       "pared   1.04769     0.2658  3.9418\n",
       "public -0.05879     0.2979 -0.1974\n",
       "gpa     0.61594     0.2606  2.3632\n",
       "\n",
       "Intercepts:\n",
       "                            Value   Std. Error t value\n",
       "unlikely|somewhat likely     2.2039  0.7795     2.8272\n",
       "somewhat likely|very likely  4.2994  0.8043     5.3453\n",
       "\n",
       "Residual Deviance: 717.0249 \n",
       "AIC: 727.0249 "
      ]
     },
     "metadata": {},
     "output_type": "display_data"
    }
   ],
   "source": [
    "summary(polr(apply ~ pared + public + gpa, data=dat, Hess=TRUE))"
   ]
  },
  {
   "cell_type": "markdown",
   "metadata": {},
   "source": [
    "We see two intercepts and 3 coefs, which is what we expect. r they statistically significant? something mildly annoying is that there are no p values. this function doesnt report p values but we can extract p values from the t values.\n",
    "\n",
    "ASsume great degrees of freedom so compare to critical values for standard normal. \n",
    "\n",
    "BTW whats the interpretation of these coefs?\n",
    "\n",
    "exponentiate them . these r odd ratios comparing, the odds of being in one group vs another but the groups are cumulative groups, so the interpretation "
   ]
  },
  {
   "cell_type": "code",
   "execution_count": 72,
   "metadata": {},
   "outputs": [
    {
     "data": {
      "text/html": [
       "2.82921701435156"
      ],
      "text/latex": [
       "2.82921701435156"
      ],
      "text/markdown": [
       "2.82921701435156"
      ],
      "text/plain": [
       "[1] 2.829217"
      ]
     },
     "metadata": {},
     "output_type": "display_data"
    }
   ],
   "source": [
    "exp(1.04)"
   ]
  },
  {
   "cell_type": "markdown",
   "metadata": {},
   "source": [
    "parental education being in the group 1 2 is 282% higher chance of being in the somewhat and very likely group comapred to the unlikely group. "
   ]
  },
  {
   "cell_type": "markdown",
   "metadata": {},
   "source": [
    "the odds ratio has two intepretations/\n"
   ]
  },
  {
   "cell_type": "markdown",
   "metadata": {},
   "source": [
    "this thing is forcing the effect sizes to be the same. we can use the vgam package "
   ]
  },
  {
   "cell_type": "markdown",
   "metadata": {},
   "source": [
    "vector generalized linear models"
   ]
  },
  {
   "cell_type": "code",
   "execution_count": 73,
   "metadata": {},
   "outputs": [
    {
     "data": {
      "text/plain": [
       "\n",
       "Call:\n",
       "vglm(formula = apply ~ pared + public + gpa, family = multinomial, \n",
       "    data = dat)\n",
       "\n",
       "Coefficients: \n",
       "              Estimate Std. Error z value Pr(>|z|)    \n",
       "(Intercept):1   4.8478     1.4490   3.346 0.000821 ***\n",
       "(Intercept):2   2.9688     1.4907   1.991 0.046426 *  \n",
       "pared:1        -1.3742     0.4222  -3.255 0.001134 ** \n",
       "pared:2        -0.4225     0.4083  -1.035 0.300731    \n",
       "public:1       -0.3601     0.4435  -0.812 0.416832    \n",
       "public:2       -0.7789     0.4706  -1.655 0.097907 .  \n",
       "gpa:1          -0.9240     0.4742  -1.949 0.051324 .  \n",
       "gpa:2          -0.4753     0.4871  -0.976 0.329229    \n",
       "---\n",
       "Signif. codes:  0 ‘***’ 0.001 ‘**’ 0.01 ‘*’ 0.05 ‘.’ 0.1 ‘ ’ 1\n",
       "\n",
       "Names of linear predictors: log(mu[,1]/mu[,3]), log(mu[,2]/mu[,3])\n",
       "\n",
       "Residual deviance: 713.994 on 792 degrees of freedom\n",
       "\n",
       "Log-likelihood: -356.997 on 792 degrees of freedom\n",
       "\n",
       "Number of Fisher scoring iterations: 5 \n",
       "\n",
       "No Hauck-Donner effect found in any of the estimates\n",
       "\n",
       "\n",
       "Reference group is level  3  of the response"
      ]
     },
     "metadata": {},
     "output_type": "display_data"
    }
   ],
   "source": [
    "summary(vglm(apply ~ pared + public + gpa, family=multinomial, data=dat))"
   ]
  },
  {
   "cell_type": "markdown",
   "metadata": {},
   "source": [
    "What exactly is being modeled here?\n",
    "\n",
    "The basline group is unlikely. the effect of parental education is \n",
    "(we expect parental education should make one more likely to go to grad school) "
   ]
  },
  {
   "cell_type": "code",
   "execution_count": null,
   "metadata": {},
   "outputs": [],
   "source": []
  },
  {
   "cell_type": "code",
   "execution_count": null,
   "metadata": {},
   "outputs": [],
   "source": []
  },
  {
   "cell_type": "markdown",
   "metadata": {},
   "source": [
    "here we havent specified proportional odds so R fits models with everything different (different intercepts and not shared effect sizes, thats why each model has different betas associated with each variable). \n",
    "\n",
    "do u think forcing the effect sizes to be the same with the proportional odds assumption is a good idea by looking at this?\n",
    "so are u surprised that the effect sizes are negative? \n",
    "\n",
    "names of linear predictors\"\" is telling u whats actually being modeled. the baseline is 3 on the bottom. its modeling the odds of being in group 1 vs 3 and 2 vs 3. \n",
    "(unlikely vs very, somewhat vs very)\n",
    "makes sense why its negative odds now \n",
    "\n"
   ]
  },
  {
   "cell_type": "code",
   "execution_count": 74,
   "metadata": {},
   "outputs": [
    {
     "data": {
      "text/html": [
       "0.272531793034013"
      ],
      "text/latex": [
       "0.272531793034013"
      ],
      "text/markdown": [
       "0.272531793034013"
      ],
      "text/plain": [
       "[1] 0.2725318"
      ]
     },
     "metadata": {},
     "output_type": "display_data"
    }
   ],
   "source": [
    "exp(-1.3)"
   ]
  },
  {
   "cell_type": "code",
   "execution_count": 75,
   "metadata": {},
   "outputs": [
    {
     "data": {
      "text/html": [
       "0.657046819815057"
      ],
      "text/latex": [
       "0.657046819815057"
      ],
      "text/markdown": [
       "0.657046819815057"
      ],
      "text/plain": [
       "[1] 0.6570468"
      ]
     },
     "metadata": {},
     "output_type": "display_data"
    }
   ],
   "source": [
    "exp(-.42)"
   ]
  },
  {
   "cell_type": "markdown",
   "metadata": {},
   "source": [
    "We can think of this as two LRs on top of each other. if we had actually fitted two LRs separately would we get the same effect sizes? is it really two independent LRs? no...\n",
    "\n",
    "this model enforces multinomial, not binomial, so the sum of the probs is 1. if we fit two binomials the prob that we add up is not equal to 1.\n",
    "\n",
    "\n",
    "all these coefs coming from a multinomial likelihood guarantees the probs add up to 1 for everyone in the 3 grad school cats. \n"
   ]
  },
  {
   "cell_type": "markdown",
   "metadata": {},
   "source": [
    "This is the most general model we can apply. they dont share any coefs or intercepts, they only share the likelihood add up to 1. ***\n",
    "\n",
    "This is the most flexible model. is it really needed? can we get away with forcing the two regression models to share betas like in the proportional odds? we can fit PO with this package as well. \n",
    "\n",
    "instead of family=multinomial we just say family=propodds.\n",
    "\n",
    "if u do that we can see only the two intercepts are diff and the other coefs are shared. this is a more parsimonious model, but its a strong assumption. is it a reasonable assumption to make?\n",
    "\n",
    "it has to be tested. its hard to eyeball. if u had to eyeball it, what would u say?\n",
    "\n",
    "\n"
   ]
  },
  {
   "cell_type": "code",
   "execution_count": 76,
   "metadata": {},
   "outputs": [
    {
     "name": "stderr",
     "output_type": "stream",
     "text": [
      "Warning message in eval(slot(family, \"initialize\")):\n",
      "“response should be ordinal---see ordered()”\n"
     ]
    },
    {
     "data": {
      "text/plain": [
       "\n",
       "Call:\n",
       "vglm(formula = apply ~ pared + public + gpa, family = propodds, \n",
       "    data = dat)\n",
       "\n",
       "Coefficients: \n",
       "              Estimate Std. Error z value Pr(>|z|)    \n",
       "(Intercept):1 -2.20335    0.78440  -2.809  0.00497 ** \n",
       "(Intercept):2 -4.29879    0.80915  -5.313 1.08e-07 ***\n",
       "pared          1.04766    0.26845   3.903 9.52e-05 ***\n",
       "public        -0.05867    0.28861  -0.203  0.83891    \n",
       "gpa            0.61575    0.26258   2.345  0.01903 *  \n",
       "---\n",
       "Signif. codes:  0 ‘***’ 0.001 ‘**’ 0.01 ‘*’ 0.05 ‘.’ 0.1 ‘ ’ 1\n",
       "\n",
       "Names of linear predictors: logitlink(P[Y>=2]), logitlink(P[Y>=3])\n",
       "\n",
       "Residual deviance: 717.0249 on 795 degrees of freedom\n",
       "\n",
       "Log-likelihood: -358.5124 on 795 degrees of freedom\n",
       "\n",
       "Number of Fisher scoring iterations: 4 \n",
       "\n",
       "No Hauck-Donner effect found in any of the estimates\n",
       "\n",
       "\n",
       "Exponentiated coefficients:\n",
       "    pared    public       gpa \n",
       "2.8509581 0.9430165 1.8510513 "
      ]
     },
     "metadata": {},
     "output_type": "display_data"
    }
   ],
   "source": [
    "summary(vglm(apply ~ pared + public + gpa, family=propodds, data=dat))"
   ]
  },
  {
   "cell_type": "markdown",
   "metadata": {},
   "source": [
    "there are a lot of graphical tests, like we can plot the odds changing, and after some transformations if theyre proportional we see parallel lines. theres a there is a formal statistical test for proportional odds.\n",
    "\n",
    "five years ago they couldnt find a package to do it so they wrote their own. a day before he finished it he found an obscure package that did it. "
   ]
  },
  {
   "cell_type": "markdown",
   "metadata": {},
   "source": [
    "\n",
    "is it a good model? we have to see how well it classifies people. we know the true values. lets compare to model predicted values."
   ]
  },
  {
   "cell_type": "markdown",
   "metadata": {},
   "source": [
    "we will finish this and do survival analysis next time too. "
   ]
  },
  {
   "cell_type": "markdown",
   "metadata": {},
   "source": [
    "model building with MNLR is not easy. we talk about this next time. "
   ]
  },
  {
   "cell_type": "markdown",
   "metadata": {},
   "source": [
    "And were back\n",
    "12.3.20\n"
   ]
  },
  {
   "cell_type": "markdown",
   "metadata": {},
   "source": [
    "# Survival Analysis"
   ]
  },
  {
   "cell_type": "code",
   "execution_count": 77,
   "metadata": {},
   "outputs": [],
   "source": [
    "library(survival)\n",
    "library(survminer)"
   ]
  },
  {
   "cell_type": "code",
   "execution_count": 78,
   "metadata": {},
   "outputs": [
    {
     "data": {
      "text/html": [
       "<table>\n",
       "<caption>A data.frame: 2 × 6</caption>\n",
       "<thead>\n",
       "\t<tr><th></th><th scope=col>futime</th><th scope=col>fustat</th><th scope=col>age</th><th scope=col>resid.ds</th><th scope=col>rx</th><th scope=col>ecog.ps</th></tr>\n",
       "\t<tr><th></th><th scope=col>&lt;dbl&gt;</th><th scope=col>&lt;dbl&gt;</th><th scope=col>&lt;dbl&gt;</th><th scope=col>&lt;dbl&gt;</th><th scope=col>&lt;dbl&gt;</th><th scope=col>&lt;dbl&gt;</th></tr>\n",
       "</thead>\n",
       "<tbody>\n",
       "\t<tr><th scope=row>1</th><td> 59</td><td>1</td><td>72.3315</td><td>2</td><td>1</td><td>1</td></tr>\n",
       "\t<tr><th scope=row>2</th><td>115</td><td>1</td><td>74.4932</td><td>2</td><td>1</td><td>1</td></tr>\n",
       "</tbody>\n",
       "</table>\n"
      ],
      "text/latex": [
       "A data.frame: 2 × 6\n",
       "\\begin{tabular}{r|llllll}\n",
       "  & futime & fustat & age & resid.ds & rx & ecog.ps\\\\\n",
       "  & <dbl> & <dbl> & <dbl> & <dbl> & <dbl> & <dbl>\\\\\n",
       "\\hline\n",
       "\t1 &  59 & 1 & 72.3315 & 2 & 1 & 1\\\\\n",
       "\t2 & 115 & 1 & 74.4932 & 2 & 1 & 1\\\\\n",
       "\\end{tabular}\n"
      ],
      "text/markdown": [
       "\n",
       "A data.frame: 2 × 6\n",
       "\n",
       "| <!--/--> | futime &lt;dbl&gt; | fustat &lt;dbl&gt; | age &lt;dbl&gt; | resid.ds &lt;dbl&gt; | rx &lt;dbl&gt; | ecog.ps &lt;dbl&gt; |\n",
       "|---|---|---|---|---|---|---|\n",
       "| 1 |  59 | 1 | 72.3315 | 2 | 1 | 1 |\n",
       "| 2 | 115 | 1 | 74.4932 | 2 | 1 | 1 |\n",
       "\n"
      ],
      "text/plain": [
       "  futime fustat age     resid.ds rx ecog.ps\n",
       "1  59    1      72.3315 2        1  1      \n",
       "2 115    1      74.4932 2        1  1      "
      ]
     },
     "metadata": {},
     "output_type": "display_data"
    }
   ],
   "source": [
    "# Ovarian cancer data\n",
    "df <- ovarian\n",
    "head(df,2)"
   ]
  },
  {
   "cell_type": "code",
   "execution_count": 79,
   "metadata": {},
   "outputs": [
    {
     "data": {
      "image/png": "[encoded data removed]",
      "text/plain": [
       "Plot with title “Histogram of df$age”"
      ]
     },
     "metadata": {
      "image/png": {
       "height": 420,
       "width": 420
      },
      "text/plain": {
       "height": 420,
       "width": 420
      }
     },
     "output_type": "display_data"
    }
   ],
   "source": [
    "hist(df$age, breaks=30)"
   ]
  },
  {
   "cell_type": "markdown",
   "metadata": {},
   "source": [
    "the outcome variable in survival anlysis is two things:\n",
    "time to event (Death or cure or left study censor time)\n",
    "variable measured survival/death or left study\n",
    "\n",
    "so one is the continuous variable, time, and the other one is the dichotomous variable. \n",
    "so before we do anything we have to define survival objective."
   ]
  },
  {
   "cell_type": "code",
   "execution_count": 119,
   "metadata": {},
   "outputs": [],
   "source": [
    "?ovarian"
   ]
  },
  {
   "cell_type": "code",
   "execution_count": 81,
   "metadata": {},
   "outputs": [],
   "source": [
    "# function called Surv with capital S, very annoying\n",
    "surv.obj = Surv(time=ovarian$futime, event=ovarian$fustat)"
   ]
  },
  {
   "cell_type": "code",
   "execution_count": 82,
   "metadata": {},
   "outputs": [
    {
     "data": {
      "text/plain": [
       " [1]   59   115   156   421+  431   448+  464   475   477+  563   638   744+\n",
       "[13]  769+  770+  803+  855+ 1040+ 1106+ 1129+ 1206+ 1227+  268   329   353 \n",
       "[25]  365   377+"
      ]
     },
     "metadata": {},
     "output_type": "display_data"
    }
   ],
   "source": [
    "surv.obj"
   ]
  },
  {
   "cell_type": "markdown",
   "metadata": {},
   "source": [
    "if the guy lady the study, there is a 421+. we know she survied up to 421 days and possibly more. thats a censoring then. "
   ]
  },
  {
   "cell_type": "markdown",
   "metadata": {},
   "source": [
    "#### Lets create the kaplan meyer survival function and plot it"
   ]
  },
  {
   "cell_type": "code",
   "execution_count": 83,
   "metadata": {},
   "outputs": [],
   "source": [
    "model = survfit(surv.obj~1, data=ovarian) # (give it a model with just intercept)"
   ]
  },
  {
   "cell_type": "code",
   "execution_count": 84,
   "metadata": {},
   "outputs": [
    {
     "data": {
      "image/png": "[encoded data removed]",
      "text/plain": [
       "plot without title"
      ]
     },
     "metadata": {
      "image/png": {
       "height": 420,
       "width": 420
      },
      "text/plain": {
       "height": 420,
       "width": 420
      }
     },
     "output_type": "display_data"
    }
   ],
   "source": [
    "plot(model)"
   ]
  },
  {
   "cell_type": "markdown",
   "metadata": {},
   "source": [
    "Shows 95% CIs\n",
    "The CIs dont seem symmetric. The ones we created with greenwoods formula were symmetric. why is the KM not in the middle of the CI?\n",
    "\n",
    "\n",
    "because there is another transformation that ensures that the CIs will not drop below 0 so this nonsymmetric transformation is the one they use here. \n",
    "\n",
    "next time: more serious survival analysis models. "
   ]
  },
  {
   "cell_type": "code",
   "execution_count": 85,
   "metadata": {},
   "outputs": [],
   "source": [
    "?ovarian"
   ]
  },
  {
   "cell_type": "markdown",
   "metadata": {},
   "source": [
    "Dec 8. 2020\n",
    "\n",
    "## Cox Proportional Hazard Model\n",
    "\n",
    "baseline hazard absorbed all the time dependent features, other varations allow for it not to absorb it all. \n",
    "stratified proportional hazard model allows for multiple baseline hazards (stratified by women, men, other variations). \n",
    "\n",
    "Goodness of fit statistic for Cox model - measure that gives us this Concordance Index. Its very closely related to AUC. \n"
   ]
  },
  {
   "cell_type": "code",
   "execution_count": 86,
   "metadata": {},
   "outputs": [],
   "source": [
    "library(survival)\n",
    "library(survminer)\n",
    "?ovarian"
   ]
  },
  {
   "cell_type": "code",
   "execution_count": 87,
   "metadata": {},
   "outputs": [],
   "source": [
    "surv.obj = Surv(time=ovarian$futime, event=ovarian$fustat) # Event type if its censoring or real event\n",
    "# If there is a plus that means the person left and survived at least that much"
   ]
  },
  {
   "cell_type": "code",
   "execution_count": 88,
   "metadata": {},
   "outputs": [],
   "source": [
    "# nonparametric- constructs kaplan meyer curve\n",
    "# this guy needs survival object, we write a 1 cuz everyones put\n",
    "# in the same group, not stratified. produced one curve for the\n",
    "# entire cohort regardless of treatment.\n",
    "model=survfit(surv.obj~1, data=ovarian)"
   ]
  },
  {
   "cell_type": "code",
   "execution_count": 89,
   "metadata": {},
   "outputs": [
    {
     "data": {
      "text/plain": [
       "Call: survfit(formula = surv.obj ~ 1, data = ovarian)\n",
       "\n",
       " time n.risk n.event survival std.err lower 95% CI upper 95% CI\n",
       "   59     26       1    0.962  0.0377        0.890        1.000\n",
       "  115     25       1    0.923  0.0523        0.826        1.000\n",
       "  156     24       1    0.885  0.0627        0.770        1.000\n",
       "  268     23       1    0.846  0.0708        0.718        0.997\n",
       "  329     22       1    0.808  0.0773        0.670        0.974\n",
       "  353     21       1    0.769  0.0826        0.623        0.949\n",
       "  365     20       1    0.731  0.0870        0.579        0.923\n",
       "  431     17       1    0.688  0.0919        0.529        0.894\n",
       "  464     15       1    0.642  0.0965        0.478        0.862\n",
       "  475     14       1    0.596  0.0999        0.429        0.828\n",
       "  563     12       1    0.546  0.1032        0.377        0.791\n",
       "  638     11       1    0.497  0.1051        0.328        0.752"
      ]
     },
     "metadata": {},
     "output_type": "display_data"
    }
   ],
   "source": [
    "summary(model)"
   ]
  },
  {
   "cell_type": "markdown",
   "metadata": {},
   "source": [
    "compare the actual times when people die to the output from the model. every time someone dies, we have the number of people at risk, how many experienced the event, the survival probability (calculated n-d/n, (26-1)/26, remember the KM estimator is the product of such guys), \n",
    "\n",
    "by the way, what wa sthe survival from time 0 to 59? 100%. Cuz first death occured at time 59. no two people can die at the exact same time. how did we end up with the .923 probability for survival? what wa sthe survival between 115 and 156? how did they get this number? hwo does the KM estimator work?\n",
    "\n",
    "(26-1)/26  * (25-1)/25\n",
    "\n",
    "They keep multiplying the interval specific probabilities and keep going down and down. ... ni-di / ni, and also using greenwoods forumla they find the std dev at any time point of the survival probability, from there they get the CI. this is what this table is showing us. "
   ]
  },
  {
   "cell_type": "code",
   "execution_count": 90,
   "metadata": {},
   "outputs": [
    {
     "data": {
      "image/png": "[encoded data removed]",
      "text/plain": [
       "plot without title"
      ]
     },
     "metadata": {
      "image/png": {
       "height": 420,
       "width": 420
      },
      "text/plain": {
       "height": 420,
       "width": 420
      }
     },
     "output_type": "display_data"
    }
   ],
   "source": [
    "plot(model) # last time"
   ]
  },
  {
   "cell_type": "markdown",
   "metadata": {},
   "source": [
    "We can create slightly bette rgraph"
   ]
  },
  {
   "cell_type": "code",
   "execution_count": 91,
   "metadata": {},
   "outputs": [
    {
     "data": {
      "image/png": "[encoded data removed]",
      "text/plain": [
       "plot without title"
      ]
     },
     "metadata": {
      "image/png": {
       "height": 420,
       "width": 420
      },
      "text/plain": {
       "height": 420,
       "width": 420
      }
     },
     "output_type": "display_data"
    }
   ],
   "source": [
    "ggsurvplot(model)\n",
    "# The notches on the graph are when people left the study \n",
    "# the line keeps flat until someone actually dies"
   ]
  },
  {
   "cell_type": "markdown",
   "metadata": {},
   "source": [
    "Remember we talked about logrank statistic?\n",
    "observed - expected died \n",
    "(1 hr***)\n",
    "\n",
    "Any discrpenacy points of the two groups having different survival. well create a simple nonpara model, where we stratify by treatment."
   ]
  },
  {
   "cell_type": "code",
   "execution_count": 92,
   "metadata": {},
   "outputs": [
    {
     "data": {
      "text/plain": [
       "Call: survfit(formula = surv.obj ~ rx, data = ovarian)\n",
       "\n",
       "                rx=1 \n",
       " time n.risk n.event survival std.err lower 95% CI upper 95% CI\n",
       "   59     13       1    0.923  0.0739        0.789        1.000\n",
       "  115     12       1    0.846  0.1001        0.671        1.000\n",
       "  156     11       1    0.769  0.1169        0.571        1.000\n",
       "  268     10       1    0.692  0.1280        0.482        0.995\n",
       "  329      9       1    0.615  0.1349        0.400        0.946\n",
       "  431      8       1    0.538  0.1383        0.326        0.891\n",
       "  638      5       1    0.431  0.1467        0.221        0.840\n",
       "\n",
       "                rx=2 \n",
       " time n.risk n.event survival std.err lower 95% CI upper 95% CI\n",
       "  353     13       1    0.923  0.0739        0.789        1.000\n",
       "  365     12       1    0.846  0.1001        0.671        1.000\n",
       "  464      9       1    0.752  0.1256        0.542        1.000\n",
       "  475      8       1    0.658  0.1407        0.433        1.000\n",
       "  563      7       1    0.564  0.1488        0.336        0.946\n"
      ]
     },
     "metadata": {},
     "output_type": "display_data"
    }
   ],
   "source": [
    "model2 = survfit(surv.obj~rx, data=ovarian)\n",
    "summary(model2)"
   ]
  },
  {
   "cell_type": "markdown",
   "metadata": {},
   "source": [
    "split the model into two groups. treatment-specific risks and deaths "
   ]
  },
  {
   "cell_type": "code",
   "execution_count": 93,
   "metadata": {},
   "outputs": [
    {
     "data": {
      "image/png": "[encoded data removed]",
      "text/plain": [
       "plot without title"
      ]
     },
     "metadata": {
      "image/png": {
       "height": 420,
       "width": 420
      },
      "text/plain": {
       "height": 420,
       "width": 420
      }
     },
     "output_type": "display_data"
    }
   ],
   "source": [
    "ggsurvplot(model2, pval=TRUE)"
   ]
  },
  {
   "cell_type": "markdown",
   "metadata": {},
   "source": [
    "Two treatment arms. in the left corner we have the p value from the log rank stat that compares the survivor funciton in the two groups which here suggests theres no difference in the survival times for the people under the two treatments. \n",
    "\n",
    "alternative is that one group survives longer. p=.3>.05 suggests no difference in the survival times of the patients is supported by the data as evidenced by this log rank test. \n",
    "\n",
    "from this table, u can reconstruct the logrank statistic every time someone dies, if u want, with 2x2 contingency tables , and get the p value.\n",
    "\n",
    "theres another variable in the data called ds. we can stratify by this guy. "
   ]
  },
  {
   "cell_type": "code",
   "execution_count": 94,
   "metadata": {},
   "outputs": [
    {
     "data": {
      "text/plain": [
       "Call: survfit(formula = surv.obj ~ resid.ds, data = ovarian)\n",
       "\n",
       "                resid.ds=1 \n",
       " time n.risk n.event survival std.err lower 95% CI upper 95% CI\n",
       "  353     11       1    0.909  0.0867        0.754            1\n",
       "  563      8       1    0.795  0.1306        0.577            1\n",
       "  638      7       1    0.682  0.1536        0.438            1\n",
       "\n",
       "                resid.ds=2 \n",
       " time n.risk n.event survival std.err lower 95% CI upper 95% CI\n",
       "   59     15       1    0.933  0.0644        0.815        1.000\n",
       "  115     14       1    0.867  0.0878        0.711        1.000\n",
       "  156     13       1    0.800  0.1033        0.621        1.000\n",
       "  268     12       1    0.733  0.1142        0.540        0.995\n",
       "  329     11       1    0.667  0.1217        0.466        0.953\n",
       "  365     10       1    0.600  0.1265        0.397        0.907\n",
       "  431      8       1    0.525  0.1310        0.322        0.856\n",
       "  464      7       1    0.450  0.1321        0.253        0.800\n",
       "  475      6       1    0.375  0.1296        0.190        0.738\n"
      ]
     },
     "metadata": {},
     "output_type": "display_data"
    }
   ],
   "source": [
    "model3 = survfit(surv.obj~resid.ds, data=ovarian)\n",
    "summary(model3)"
   ]
  },
  {
   "cell_type": "markdown",
   "metadata": {},
   "source": [
    "Lets build our Cox model\n",
    "outcome variable is the survival object we created **"
   ]
  },
  {
   "cell_type": "code",
   "execution_count": 95,
   "metadata": {},
   "outputs": [
    {
     "data": {
      "text/plain": [
       "Call:\n",
       "coxph(formula = surv.obj ~ rx + resid.ds + age, data = ovarian)\n",
       "\n",
       "            coef exp(coef) se(coef)      z       p\n",
       "rx       -0.8489    0.4279   0.6392 -1.328 0.18416\n",
       "resid.ds  0.6964    2.0065   0.7585  0.918 0.35858\n",
       "age       0.1285    1.1372   0.0473  2.718 0.00657\n",
       "\n",
       "Likelihood ratio test=16.77  on 3 df, p=0.0007889\n",
       "n= 26, number of events= 12 "
      ]
     },
     "metadata": {},
     "output_type": "display_data"
    }
   ],
   "source": [
    "model4 = coxph(surv.obj~rx+resid.ds+age, data=ovarian)\n",
    "model4"
   ]
  },
  {
   "cell_type": "markdown",
   "metadata": {},
   "source": [
    "rx is treatment arm, should we have this a factor variable?\n"
   ]
  },
  {
   "cell_type": "code",
   "execution_count": 96,
   "metadata": {},
   "outputs": [
    {
     "data": {
      "text/plain": [
       "Call:\n",
       "coxph(formula = surv.obj ~ factor(rx) + factor(resid.ds) + age, \n",
       "    data = ovarian)\n",
       "\n",
       "                     coef exp(coef) se(coef)      z       p\n",
       "factor(rx)2       -0.8489    0.4279   0.6392 -1.328 0.18416\n",
       "factor(resid.ds)2  0.6964    2.0065   0.7585  0.918 0.35858\n",
       "age                0.1285    1.1372   0.0473  2.718 0.00657\n",
       "\n",
       "Likelihood ratio test=16.77  on 3 df, p=0.0007889\n",
       "n= 26, number of events= 12 "
      ]
     },
     "metadata": {},
     "output_type": "display_data"
    }
   ],
   "source": [
    "model4 = coxph(surv.obj~factor(rx)+factor(resid.ds)+age, data=ovarian)\n",
    "model4"
   ]
  },
  {
   "cell_type": "markdown",
   "metadata": {},
   "source": [
    "did anything change? look at the coefs. theyre the same, why? because they were coded one unit away initially. thats the only way we can get away with numeric is if theyre numerically coded with adjacent numbers. \n",
    "\n",
    "every addtl year of age increases the risk of dying by 13%. \n",
    "residual disease markers on the test - this is not sig, people that do have it their hazard is twice as high as the hazards of those who dont have evidence of residual disease, or theres a 100% increase risk in instantaneous risk of dying\n",
    "\n",
    "treatment group 2 compared to tmt group 1, tmt 2 people have 57% decrease in risk of dying at any time point. 57% lower compared to tmt group 1 which is the baselin gorup. "
   ]
  },
  {
   "cell_type": "code",
   "execution_count": 97,
   "metadata": {},
   "outputs": [
    {
     "data": {
      "text/plain": [
       "     futime           fustat            age           resid.ds    \n",
       " Min.   :  59.0   Min.   :0.0000   Min.   :38.89   Min.   :1.000  \n",
       " 1st Qu.: 368.0   1st Qu.:0.0000   1st Qu.:50.17   1st Qu.:1.000  \n",
       " Median : 476.0   Median :0.0000   Median :56.85   Median :2.000  \n",
       " Mean   : 599.5   Mean   :0.4615   Mean   :56.17   Mean   :1.577  \n",
       " 3rd Qu.: 794.8   3rd Qu.:1.0000   3rd Qu.:62.38   3rd Qu.:2.000  \n",
       " Max.   :1227.0   Max.   :1.0000   Max.   :74.50   Max.   :2.000  \n",
       "       rx         ecog.ps     \n",
       " Min.   :1.0   Min.   :1.000  \n",
       " 1st Qu.:1.0   1st Qu.:1.000  \n",
       " Median :1.5   Median :1.000  \n",
       " Mean   :1.5   Mean   :1.462  \n",
       " 3rd Qu.:2.0   3rd Qu.:2.000  \n",
       " Max.   :2.0   Max.   :2.000  "
      ]
     },
     "metadata": {},
     "output_type": "display_data"
    }
   ],
   "source": [
    "summary(ovarian)"
   ]
  },
  {
   "cell_type": "markdown",
   "metadata": {},
   "source": [
    "baseline hazard is canceled out in ratio. only effective covariates ther eis no baseline hazard. cox model doesnt allow us to estimate the baseline hazard intercepts.\n",
    "\n",
    "its funny u compbined NP est of KM with semiparametric of cox (1 hr 18)\n",
    "\n",
    "straitfied cox proportional models, add interactions. \n",
    "btw the CPH is not always true, it can be tested. "
   ]
  },
  {
   "cell_type": "markdown",
   "metadata": {},
   "source": [
    "12.10.20"
   ]
  },
  {
   "cell_type": "code",
   "execution_count": 99,
   "metadata": {},
   "outputs": [],
   "source": [
    "# fit <- coxph(surv.obj ~rx + resid.id + ecog.ps, data=ovarian)\n",
    "temp <- cox.zph(model4)"
   ]
  },
  {
   "cell_type": "markdown",
   "metadata": {},
   "source": [
    "31 min** \n",
    "\n",
    "PH assumption seems to hoold\n",
    "if the PHA holds, "
   ]
  },
  {
   "cell_type": "code",
   "execution_count": 100,
   "metadata": {},
   "outputs": [
    {
     "data": {
      "image/png": "[encoded data removed]",
      "text/plain": [
       "plot without title"
      ]
     },
     "metadata": {
      "image/png": {
       "height": 420,
       "width": 420
      },
      "text/plain": {
       "height": 420,
       "width": 420
      }
     },
     "output_type": "display_data"
    },
    {
     "data": {
      "image/png": "[encoded data removed]",
      "text/plain": [
       "plot without title"
      ]
     },
     "metadata": {
      "image/png": {
       "height": 420,
       "width": 420
      },
      "text/plain": {
       "height": 420,
       "width": 420
      }
     },
     "output_type": "display_data"
    },
    {
     "data": {
      "image/png": "[encoded data removed]",
      "text/plain": [
       "plot without title"
      ]
     },
     "metadata": {
      "image/png": {
       "height": 420,
       "width": 420
      },
      "text/plain": {
       "height": 420,
       "width": 420
      }
     },
     "output_type": "display_data"
    }
   ],
   "source": [
    "plot(temp)"
   ]
  },
  {
   "cell_type": "markdown",
   "metadata": {},
   "source": [
    "plot analysis at 32-33\n",
    "having a flat line on the 0 confirms that the p values are greater then 0.05 and the PHA Holds. all the variables do not contradict the PHA of the cox model . \n",
    "\n",
    "imagine somehow this test for PH was rejected WRT a certain variable rx, this will tell me that the variable being just covariate in the model is not enough, and that we have to assume different baseline hazards for the people in the two groups.\n",
    "\n",
    "instead of having the variable as a covariate in the cox model, well do the strata. "
   ]
  },
  {
   "cell_type": "code",
   "execution_count": 101,
   "metadata": {},
   "outputs": [
    {
     "ename": "ERROR",
     "evalue": "Error in ggsurvplot(model4, data = ovarian): object 'ggsurv' not found\n",
     "output_type": "error",
     "traceback": [
      "Error in ggsurvplot(model4, data = ovarian): object 'ggsurv' not found\nTraceback:\n",
      "1. ggsurvplot(model4, data = ovarian)"
     ]
    }
   ],
   "source": [
    "# ggsurvplot(model4, data=ovarian)\n",
    "# ggforest(model4, data=ovarian)"
   ]
  },
  {
   "cell_type": "code",
   "execution_count": 104,
   "metadata": {},
   "outputs": [
    {
     "data": {
      "text/plain": [
       "Call:\n",
       "coxph(formula = surv.obj ~ factor(rx) + strata(resid.ds) + ecog.ps, \n",
       "    data = ovarian)\n",
       "\n",
       "  n= 26, number of events= 12 \n",
       "\n",
       "               coef exp(coef) se(coef)      z Pr(>|z|)\n",
       "factor(rx)2 -0.6831    0.5051   0.5981 -1.142    0.253\n",
       "ecog.ps      0.5291    1.6975   0.5911  0.895    0.371\n",
       "\n",
       "            exp(coef) exp(-coef) lower .95 upper .95\n",
       "factor(rx)2    0.5051     1.9799    0.1564     1.631\n",
       "ecog.ps        1.6975     0.5891    0.5329     5.407\n",
       "\n",
       "Concordance= 0.65  (se = 0.082 )\n",
       "Likelihood ratio test= 2.08  on 2 df,   p=0.4\n",
       "Wald test            = 2.03  on 2 df,   p=0.4\n",
       "Score (logrank) test = 2.09  on 2 df,   p=0.4\n"
      ]
     },
     "metadata": {},
     "output_type": "display_data"
    }
   ],
   "source": [
    "model5 = coxph(surv.obj~factor(rx)+strata(resid.ds)+ecog.ps, data=ovarian)\n",
    "summary(model5)\n",
    "# Using it as a stratification variable"
   ]
  },
  {
   "cell_type": "markdown",
   "metadata": {},
   "source": [
    "whats the interpretation of the effect sizes now \n",
    "\n",
    "assuming different baseline hazards for some people who have resid disease diagnostics and those that dont. \n",
    "\n",
    "whats interpretation of treatment group and this other test?\n",
    "\n",
    "Can we say that ppl in tmt group 1 have 50% reduced risk of dying compared to baseline?\n",
    "remember the hazards now different for each strata for (resid )\n",
    "\n",
    "can only give interpretation within a group since the baseline hazards dont cancel in the ratio of hazards\n",
    "\n",
    "we see concordance score of .65. remember we strat for no good reason, the conc idx without strat was .74, so we had a good baseline model. there is a price to pay for uncessary strat. \n",
    "if you do strat when u need, the conc improves, and u gain precision. \n",
    "\n",
    "\n",
    "\n",
    "\n",
    "\n"
   ]
  },
  {
   "cell_type": "markdown",
   "metadata": {},
   "source": [
    "### Longitudinal Study"
   ]
  },
  {
   "cell_type": "code",
   "execution_count": 105,
   "metadata": {},
   "outputs": [],
   "source": [
    "d = read.csv(\"/home/celeste/Documents/git/cs-624/classwork/hafr.csv\")"
   ]
  },
  {
   "cell_type": "markdown",
   "metadata": {},
   "source": [
    "24 animals were measured 20+ times repeatedly over time\n",
    "they were touched/attacked, the important variable is dur, the length of time is took them to protect themselves. \n",
    "\n",
    "the head variable is if they touched their tail or their head. \n",
    "\n",
    "were attacked by a predator at time 0 \n",
    "\n",
    "q: how does the big attack at time 0 effect their ability to defend themselves after the attack and how long does this deteriorated state last? This is definitely a longitudinal study.\n",
    "\n",
    "If someone gave us this data what would we do?\n",
    "We have repreated msmts per animal\n",
    "interested in explaining the time it took the animal to react. what is the pattern? what model would be appropriate for such data? we dont know yet cuz we never had longitudinal data, which is repeated msmts per obs. \n",
    "\n",
    "when u have repeated msmts ( over time or at same time) \n",
    "measure thickness of leaf in multiple locations, but time is not improtant, is at the same time. \n",
    "\n",
    "here time is critically important. correlated for same subjects, a longitudinal model needs to be deployed. the big difference is that  instead of indept obs, here we have bunches of correlated obs, so we have to model this correlation, and this is achieved thru \"random effects\". other models were \"Fixed effect\" with intercept and slope coefs, std devs, to do z tests. \n",
    "\n",
    "Random effects are RVs that u put into the model to model the correlation structure, not the mean of the model (Fixed effect, how does the mean change). This models complex correlation structure. unless there is a complex sampling, we dont need it but this example needs to explicitly model the corr structure in the obs. one of the ways to do this is with random effects. well need a new pkg. \n",
    "\n"
   ]
  },
  {
   "cell_type": "markdown",
   "metadata": {},
   "source": [
    "the model needs to know which obs are form the same animal. so we need to create an ID variable."
   ]
  },
  {
   "cell_type": "code",
   "execution_count": 110,
   "metadata": {},
   "outputs": [],
   "source": [
    "library(lme4)"
   ]
  },
  {
   "cell_type": "code",
   "execution_count": 114,
   "metadata": {},
   "outputs": [],
   "source": [
    "# Making this up for the example\n",
    "d$ID=c(rep(1:57, rep(10,57)),rep(58,6))"
   ]
  },
  {
   "cell_type": "code",
   "execution_count": 115,
   "metadata": {},
   "outputs": [],
   "source": [
    "# In longitudinal studies its critically important to have an ID\n",
    "# You dont need to have the same number of obs per person\n",
    "# we use this to define our random effects, use this to create a \n",
    "# corr struc matrix that explicitly reflects the corr stuct for the rep msmts of the same subject"
   ]
  },
  {
   "cell_type": "markdown",
   "metadata": {},
   "source": [
    "What is the q of interest here?\n",
    "Duration of how long it takes for them to defend themselves in the big attack.\n",
    "\n",
    "touch, touch, 5 min, attack, 5 min touch, touch \n",
    "\n",
    "is there a difference in response time befroe and after the attack?\n",
    "is there a delayed reaction after the attack?\n",
    "how long does the effect last if it exists? \n",
    "is there a difference between touching the head and touching the tail?\n",
    "\n",
    "is there a complex relationship between time and response time, not only between pre and post attack... nonlinear pattern of repsonse time. \n",
    "\n",
    "Well answer at least 1 question before we go. "
   ]
  },
  {
   "cell_type": "code",
   "execution_count": 117,
   "metadata": {},
   "outputs": [
    {
     "data": {
      "text/plain": [
       "\n",
       "Call:\n",
       "lm(formula = Dur ~ I(Time > 0), data = d)\n",
       "\n",
       "Coefficients:\n",
       "    (Intercept)  I(Time > 0)TRUE  \n",
       "          8.089            2.342  \n"
      ]
     },
     "metadata": {},
     "output_type": "display_data"
    }
   ],
   "source": [
    "lm(Dur~I(Time>0), data=d)"
   ]
  },
  {
   "cell_type": "markdown",
   "metadata": {},
   "source": [
    "we would do something like this if the obs were indept but theyre not. "
   ]
  },
  {
   "cell_type": "code",
   "execution_count": 118,
   "metadata": {},
   "outputs": [
    {
     "data": {
      "text/plain": [
       "Linear mixed model fit by REML ['lmerMod']\n",
       "Formula: Dur ~ I(Time > 0) + (1 | ID)\n",
       "   Data: d\n",
       "\n",
       "REML criterion at convergence: 2877\n",
       "\n",
       "Scaled residuals: \n",
       "    Min      1Q  Median      3Q     Max \n",
       "-2.0541 -0.5623 -0.1837  0.3452  7.9343 \n",
       "\n",
       "Random effects:\n",
       " Groups   Name        Variance Std.Dev.\n",
       " ID       (Intercept)  3.36    1.833   \n",
       " Residual             18.53    4.305   \n",
       "Number of obs: 491, groups:  ID, 56\n",
       "\n",
       "Fixed effects:\n",
       "                Estimate Std. Error t value\n",
       "(Intercept)       8.0140     0.5205  15.397\n",
       "I(Time > 0)TRUE   2.3959     0.6494   3.689\n",
       "\n",
       "Correlation of Fixed Effects:\n",
       "            (Intr)\n",
       "I(Tm>0)TRUE -0.795"
      ]
     },
     "metadata": {},
     "output_type": "display_data"
    }
   ],
   "source": [
    "# Linear mixed effect models \n",
    "# this will not run without the random effect, with is\n",
    "# the second part with the id variable\n",
    "\n",
    "# Says roles with the same ID index pertain to the same person\n",
    "# model the correlation structure that way \n",
    "# We have a fixed effect, effect of time (discretized), and\n",
    "# have accounted for the correlation scrutcure and we see\n",
    "# what is the effect of time?\n",
    "summary(lmer(Dur~I(Time>0) + (1|ID), data=d))"
   ]
  },
  {
   "cell_type": "markdown",
   "metadata": {},
   "source": [
    "U can see the effect of time is 3.698 after accounting for the corr. structure. its a t disn so u can kind of compare to std normal so anything above 1.95 is stat sig, so there is def a sig difference accounting for the correlation structure before and after the attack. \n",
    "\n",
    "how much bigger is the response time after they were attacked? 2.39 seconds longer. the animal is distraught and reacts slower to gentle stimulation. "
   ]
  },
  {
   "cell_type": "code",
   "execution_count": null,
   "metadata": {},
   "outputs": [],
   "source": []
  },
  {
   "cell_type": "code",
   "execution_count": null,
   "metadata": {},
   "outputs": [],
   "source": []
  },
  {
   "cell_type": "code",
   "execution_count": null,
   "metadata": {},
   "outputs": [],
   "source": []
  },
  {
   "cell_type": "code",
   "execution_count": null,
   "metadata": {},
   "outputs": [],
   "source": []
  },
  {
   "cell_type": "code",
   "execution_count": null,
   "metadata": {},
   "outputs": [],
   "source": []
  },
  {
   "cell_type": "code",
   "execution_count": null,
   "metadata": {},
   "outputs": [],
   "source": []
  },
  {
   "cell_type": "code",
   "execution_count": null,
   "metadata": {},
   "outputs": [],
   "source": []
  }
 ],
 "metadata": {
  "kernelspec": {
   "display_name": "R",
   "language": "R",
   "name": "ir"
  },
  "language_info": {
   "codemirror_mode": "r",
   "file_extension": ".r",
   "mimetype": "text/x-r-source",
   "name": "R",
   "pygments_lexer": "r",
   "version": "3.6.1"
  }
 },
 "nbformat": 4,
 "nbformat_minor": 2
}
