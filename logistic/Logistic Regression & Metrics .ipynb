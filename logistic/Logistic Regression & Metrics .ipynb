{
 "cells": [
  {
   "cell_type": "markdown",
   "metadata": {},
   "source": [
    "Logistic regression for numerical and categorical input variables\n",
    "\n"
   ]
  },
  {
   "cell_type": "markdown",
   "metadata": {},
   "source": [
    " "
   ]
  },
  {
   "cell_type": "code",
   "execution_count": 1,
   "metadata": {},
   "outputs": [
    {
     "data": {
      "text/html": [
       "<table>\n",
       "<caption>A data.frame: 3 × 11</caption>\n",
       "<thead>\n",
       "\t<tr><th></th><th scope=col>id</th><th scope=col>low</th><th scope=col>age</th><th scope=col>lwt</th><th scope=col>race</th><th scope=col>smoke</th><th scope=col>ptl</th><th scope=col>ht</th><th scope=col>ui</th><th scope=col>ftv</th><th scope=col>bwt</th></tr>\n",
       "\t<tr><th></th><th scope=col>&lt;int&gt;</th><th scope=col>&lt;int&gt;</th><th scope=col>&lt;int&gt;</th><th scope=col>&lt;int&gt;</th><th scope=col>&lt;int&gt;</th><th scope=col>&lt;int&gt;</th><th scope=col>&lt;int&gt;</th><th scope=col>&lt;int&gt;</th><th scope=col>&lt;int&gt;</th><th scope=col>&lt;int&gt;</th><th scope=col>&lt;int&gt;</th></tr>\n",
       "</thead>\n",
       "<tbody>\n",
       "\t<tr><th scope=row>1</th><td>85</td><td>0</td><td>19</td><td>182</td><td>2</td><td>0</td><td>0</td><td>0</td><td>1</td><td>0</td><td>2523</td></tr>\n",
       "\t<tr><th scope=row>2</th><td>86</td><td>0</td><td>33</td><td>155</td><td>3</td><td>0</td><td>0</td><td>0</td><td>0</td><td>3</td><td>2551</td></tr>\n",
       "\t<tr><th scope=row>3</th><td>87</td><td>0</td><td>20</td><td>105</td><td>1</td><td>1</td><td>0</td><td>0</td><td>0</td><td>1</td><td>2557</td></tr>\n",
       "</tbody>\n",
       "</table>\n"
      ],
      "text/latex": [
       "A data.frame: 3 × 11\n",
       "\\begin{tabular}{r|lllllllllll}\n",
       "  & id & low & age & lwt & race & smoke & ptl & ht & ui & ftv & bwt\\\\\n",
       "  & <int> & <int> & <int> & <int> & <int> & <int> & <int> & <int> & <int> & <int> & <int>\\\\\n",
       "\\hline\n",
       "\t1 & 85 & 0 & 19 & 182 & 2 & 0 & 0 & 0 & 1 & 0 & 2523\\\\\n",
       "\t2 & 86 & 0 & 33 & 155 & 3 & 0 & 0 & 0 & 0 & 3 & 2551\\\\\n",
       "\t3 & 87 & 0 & 20 & 105 & 1 & 1 & 0 & 0 & 0 & 1 & 2557\\\\\n",
       "\\end{tabular}\n"
      ],
      "text/markdown": [
       "\n",
       "A data.frame: 3 × 11\n",
       "\n",
       "| <!--/--> | id &lt;int&gt; | low &lt;int&gt; | age &lt;int&gt; | lwt &lt;int&gt; | race &lt;int&gt; | smoke &lt;int&gt; | ptl &lt;int&gt; | ht &lt;int&gt; | ui &lt;int&gt; | ftv &lt;int&gt; | bwt &lt;int&gt; |\n",
       "|---|---|---|---|---|---|---|---|---|---|---|---|\n",
       "| 1 | 85 | 0 | 19 | 182 | 2 | 0 | 0 | 0 | 1 | 0 | 2523 |\n",
       "| 2 | 86 | 0 | 33 | 155 | 3 | 0 | 0 | 0 | 0 | 3 | 2551 |\n",
       "| 3 | 87 | 0 | 20 | 105 | 1 | 1 | 0 | 0 | 0 | 1 | 2557 |\n",
       "\n"
      ],
      "text/plain": [
       "  id low age lwt race smoke ptl ht ui ftv bwt \n",
       "1 85 0   19  182 2    0     0   0  1  0   2523\n",
       "2 86 0   33  155 3    0     0   0  0  3   2551\n",
       "3 87 0   20  105 1    1     0   0  0  1   2557"
      ]
     },
     "metadata": {},
     "output_type": "display_data"
    },
    {
     "data": {
      "text/html": [
       "<style>\n",
       ".list-inline {list-style: none; margin:0; padding: 0}\n",
       ".list-inline>li {display: inline-block}\n",
       ".list-inline>li:not(:last-child)::after {content: \"\\00b7\"; padding: 0 .5ex}\n",
       "</style>\n",
       "<ol class=list-inline><li>189</li><li>11</li></ol>\n"
      ],
      "text/latex": [
       "\\begin{enumerate*}\n",
       "\\item 189\n",
       "\\item 11\n",
       "\\end{enumerate*}\n"
      ],
      "text/markdown": [
       "1. 189\n",
       "2. 11\n",
       "\n",
       "\n"
      ],
      "text/plain": [
       "[1] 189  11"
      ]
     },
     "metadata": {},
     "output_type": "display_data"
    }
   ],
   "source": [
    "df <- read.table('lowbwt.dat', header=TRUE)\n",
    "#lowercase the col names\n",
    "names(df) <- tolower(names(df))\n",
    "# Check the data\n",
    "head(df,3)\n",
    "# Check the dim\n",
    "dim(df)"
   ]
  },
  {
   "cell_type": "code",
   "execution_count": 2,
   "metadata": {},
   "outputs": [
    {
     "name": "stdout",
     "output_type": "stream",
     "text": [
      "'data.frame':\t189 obs. of  11 variables:\n",
      " $ id   : int  85 86 87 88 89 91 92 93 94 95 ...\n",
      " $ low  : int  0 0 0 0 0 0 0 0 0 0 ...\n",
      " $ age  : int  19 33 20 21 18 21 22 17 29 26 ...\n",
      " $ lwt  : int  182 155 105 108 107 124 118 103 123 113 ...\n",
      " $ race : int  2 3 1 1 1 3 1 3 1 1 ...\n",
      " $ smoke: int  0 0 1 1 1 0 0 0 1 1 ...\n",
      " $ ptl  : int  0 0 0 0 0 0 0 0 0 0 ...\n",
      " $ ht   : int  0 0 0 0 0 0 0 0 0 0 ...\n",
      " $ ui   : int  1 0 0 1 1 0 0 0 0 0 ...\n",
      " $ ftv  : int  0 3 1 2 0 0 1 1 1 0 ...\n",
      " $ bwt  : int  2523 2551 2557 2594 2600 2622 2637 2637 2663 2665 ...\n"
     ]
    },
    {
     "data": {
      "text/plain": [
       "       id             low              age             lwt       \n",
       " Min.   :  4.0   Min.   :0.0000   Min.   :14.00   Min.   : 80.0  \n",
       " 1st Qu.: 68.0   1st Qu.:0.0000   1st Qu.:19.00   1st Qu.:110.0  \n",
       " Median :123.0   Median :0.0000   Median :23.00   Median :121.0  \n",
       " Mean   :121.1   Mean   :0.3122   Mean   :23.24   Mean   :129.8  \n",
       " 3rd Qu.:176.0   3rd Qu.:1.0000   3rd Qu.:26.00   3rd Qu.:140.0  \n",
       " Max.   :226.0   Max.   :1.0000   Max.   :45.00   Max.   :250.0  \n",
       "      race           smoke             ptl               ht         \n",
       " Min.   :1.000   Min.   :0.0000   Min.   :0.0000   Min.   :0.00000  \n",
       " 1st Qu.:1.000   1st Qu.:0.0000   1st Qu.:0.0000   1st Qu.:0.00000  \n",
       " Median :1.000   Median :0.0000   Median :0.0000   Median :0.00000  \n",
       " Mean   :1.847   Mean   :0.3915   Mean   :0.1958   Mean   :0.06349  \n",
       " 3rd Qu.:3.000   3rd Qu.:1.0000   3rd Qu.:0.0000   3rd Qu.:0.00000  \n",
       " Max.   :3.000   Max.   :1.0000   Max.   :3.0000   Max.   :1.00000  \n",
       "       ui              ftv              bwt      \n",
       " Min.   :0.0000   Min.   :0.0000   Min.   : 709  \n",
       " 1st Qu.:0.0000   1st Qu.:0.0000   1st Qu.:2414  \n",
       " Median :0.0000   Median :0.0000   Median :2977  \n",
       " Mean   :0.1481   Mean   :0.7937   Mean   :2945  \n",
       " 3rd Qu.:0.0000   3rd Qu.:1.0000   3rd Qu.:3475  \n",
       " Max.   :1.0000   Max.   :6.0000   Max.   :4990  "
      ]
     },
     "metadata": {},
     "output_type": "display_data"
    }
   ],
   "source": [
    "# See the structure of the dataset\n",
    "str(df)\n",
    "# R believes everything is a variable. race shouldnt be an int\n",
    "# See summary\n",
    "summary(df)\n",
    "df <- df[,-c(1,11)]"
   ]
  },
  {
   "cell_type": "code",
   "execution_count": 3,
   "metadata": {},
   "outputs": [],
   "source": [
    "df <- within(df, {race.cat=factor(race, \n",
    "                                 levels=1:3, \n",
    "                                 labels=c(\"White\", \"AA\", \"Other\"))\n",
    "                 ftv.cat=cut(ftv,\n",
    "                               breaks=c(-Inf,0,2,Inf),\n",
    "                               labels=c(\"None\", \"Normal\", \"Many\"))\n",
    "                 ptl.cat=factor(ptl>=1, \n",
    "                               levels=c(F,T),\n",
    "                               labels=c(\"0\", \"1+\"))\n",
    "                race=NULL\n",
    "                ftv=NULL\n",
    "                ptl=NULL\n",
    "                })"
   ]
  },
  {
   "cell_type": "markdown",
   "metadata": {},
   "source": [
    "The variable low is the low birthweight staus. This will be our outcome variable in logreg."
   ]
  },
  {
   "cell_type": "code",
   "execution_count": 4,
   "metadata": {},
   "outputs": [
    {
     "data": {
      "text/html": [
       "<table>\n",
       "<caption>A data.frame: 6 × 9</caption>\n",
       "<thead>\n",
       "\t<tr><th></th><th scope=col>low</th><th scope=col>age</th><th scope=col>lwt</th><th scope=col>smoke</th><th scope=col>ht</th><th scope=col>ui</th><th scope=col>ptl.cat</th><th scope=col>ftv.cat</th><th scope=col>race.cat</th></tr>\n",
       "\t<tr><th></th><th scope=col>&lt;int&gt;</th><th scope=col>&lt;int&gt;</th><th scope=col>&lt;int&gt;</th><th scope=col>&lt;int&gt;</th><th scope=col>&lt;int&gt;</th><th scope=col>&lt;int&gt;</th><th scope=col>&lt;fct&gt;</th><th scope=col>&lt;fct&gt;</th><th scope=col>&lt;fct&gt;</th></tr>\n",
       "</thead>\n",
       "<tbody>\n",
       "\t<tr><th scope=row>1</th><td>0</td><td>19</td><td>182</td><td>0</td><td>0</td><td>1</td><td>0</td><td>None  </td><td>AA   </td></tr>\n",
       "\t<tr><th scope=row>2</th><td>0</td><td>33</td><td>155</td><td>0</td><td>0</td><td>0</td><td>0</td><td>Many  </td><td>Other</td></tr>\n",
       "\t<tr><th scope=row>3</th><td>0</td><td>20</td><td>105</td><td>1</td><td>0</td><td>0</td><td>0</td><td>Normal</td><td>White</td></tr>\n",
       "\t<tr><th scope=row>4</th><td>0</td><td>21</td><td>108</td><td>1</td><td>0</td><td>1</td><td>0</td><td>Normal</td><td>White</td></tr>\n",
       "\t<tr><th scope=row>5</th><td>0</td><td>18</td><td>107</td><td>1</td><td>0</td><td>1</td><td>0</td><td>None  </td><td>White</td></tr>\n",
       "\t<tr><th scope=row>6</th><td>0</td><td>21</td><td>124</td><td>0</td><td>0</td><td>0</td><td>0</td><td>None  </td><td>Other</td></tr>\n",
       "</tbody>\n",
       "</table>\n"
      ],
      "text/latex": [
       "A data.frame: 6 × 9\n",
       "\\begin{tabular}{r|lllllllll}\n",
       "  & low & age & lwt & smoke & ht & ui & ptl.cat & ftv.cat & race.cat\\\\\n",
       "  & <int> & <int> & <int> & <int> & <int> & <int> & <fct> & <fct> & <fct>\\\\\n",
       "\\hline\n",
       "\t1 & 0 & 19 & 182 & 0 & 0 & 1 & 0 & None   & AA   \\\\\n",
       "\t2 & 0 & 33 & 155 & 0 & 0 & 0 & 0 & Many   & Other\\\\\n",
       "\t3 & 0 & 20 & 105 & 1 & 0 & 0 & 0 & Normal & White\\\\\n",
       "\t4 & 0 & 21 & 108 & 1 & 0 & 1 & 0 & Normal & White\\\\\n",
       "\t5 & 0 & 18 & 107 & 1 & 0 & 1 & 0 & None   & White\\\\\n",
       "\t6 & 0 & 21 & 124 & 0 & 0 & 0 & 0 & None   & Other\\\\\n",
       "\\end{tabular}\n"
      ],
      "text/markdown": [
       "\n",
       "A data.frame: 6 × 9\n",
       "\n",
       "| <!--/--> | low &lt;int&gt; | age &lt;int&gt; | lwt &lt;int&gt; | smoke &lt;int&gt; | ht &lt;int&gt; | ui &lt;int&gt; | ptl.cat &lt;fct&gt; | ftv.cat &lt;fct&gt; | race.cat &lt;fct&gt; |\n",
       "|---|---|---|---|---|---|---|---|---|---|\n",
       "| 1 | 0 | 19 | 182 | 0 | 0 | 1 | 0 | None   | AA    |\n",
       "| 2 | 0 | 33 | 155 | 0 | 0 | 0 | 0 | Many   | Other |\n",
       "| 3 | 0 | 20 | 105 | 1 | 0 | 0 | 0 | Normal | White |\n",
       "| 4 | 0 | 21 | 108 | 1 | 0 | 1 | 0 | Normal | White |\n",
       "| 5 | 0 | 18 | 107 | 1 | 0 | 1 | 0 | None   | White |\n",
       "| 6 | 0 | 21 | 124 | 0 | 0 | 0 | 0 | None   | Other |\n",
       "\n"
      ],
      "text/plain": [
       "  low age lwt smoke ht ui ptl.cat ftv.cat race.cat\n",
       "1 0   19  182 0     0  1  0       None    AA      \n",
       "2 0   33  155 0     0  0  0       Many    Other   \n",
       "3 0   20  105 1     0  0  0       Normal  White   \n",
       "4 0   21  108 1     0  1  0       Normal  White   \n",
       "5 0   18  107 1     0  1  0       None    White   \n",
       "6 0   21  124 0     0  0  0       None    Other   "
      ]
     },
     "metadata": {},
     "output_type": "display_data"
    }
   ],
   "source": [
    "head(df)"
   ]
  },
  {
   "cell_type": "markdown",
   "metadata": {},
   "source": [
    "No matter what regression youre using, its almost the same guidelines for preprocessing the data. decalring categorical, labeling levels, cutting first trim into 3 factor groups. after we create the categorical versions we removed the original ones. "
   ]
  },
  {
   "cell_type": "markdown",
   "metadata": {},
   "source": [
    "instead of lm for linear model, its glm for generalized linear model.\n",
    "\n",
    "glm has a transformation of expected value of the outcome variables***\n",
    "\n",
    "in linear regression the transformation is the identity trans, in logreg its the logit transformation. you can fit linreg with glm as well. the default is linreg. \n",
    "\n",
    "Remember our outcome variable is \"low\"\n",
    "\n",
    "Lets start with age:\n"
   ]
  },
  {
   "cell_type": "code",
   "execution_count": 5,
   "metadata": {},
   "outputs": [
    {
     "data": {
      "text/plain": [
       "\n",
       "Call:\n",
       "glm(formula = low ~ age, data = df)\n",
       "\n",
       "Deviance Residuals: \n",
       "    Min       1Q   Median       3Q      Max  \n",
       "-0.4085  -0.3355  -0.2625   0.6332   0.8001  \n",
       "\n",
       "Coefficients:\n",
       "             Estimate Std. Error t value Pr(>|t|)    \n",
       "(Intercept)  0.554521   0.151724   3.655 0.000334 ***\n",
       "age         -0.010429   0.006367  -1.638 0.103083    \n",
       "---\n",
       "Signif. codes:  0 ‘***’ 0.001 ‘**’ 0.01 ‘*’ 0.05 ‘.’ 0.1 ‘ ’ 1\n",
       "\n",
       "(Dispersion parameter for gaussian family taken to be 0.2139461)\n",
       "\n",
       "    Null deviance: 40.582  on 188  degrees of freedom\n",
       "Residual deviance: 40.008  on 187  degrees of freedom\n",
       "AIC: 248.9\n",
       "\n",
       "Number of Fisher Scoring iterations: 2\n"
      ]
     },
     "metadata": {},
     "output_type": "display_data"
    }
   ],
   "source": [
    "summary(glm(low~age, data=df)) # default linear reg"
   ]
  },
  {
   "cell_type": "code",
   "execution_count": 6,
   "metadata": {},
   "outputs": [
    {
     "data": {
      "text/plain": [
       "\n",
       "Call:\n",
       "glm(formula = low ~ age, family = binomial, data = df)\n",
       "\n",
       "Deviance Residuals: \n",
       "    Min       1Q   Median       3Q      Max  \n",
       "-1.0402  -0.9018  -0.7754   1.4119   1.7800  \n",
       "\n",
       "Coefficients:\n",
       "            Estimate Std. Error z value Pr(>|z|)\n",
       "(Intercept)  0.38458    0.73212   0.525    0.599\n",
       "age         -0.05115    0.03151  -1.623    0.105\n",
       "\n",
       "(Dispersion parameter for binomial family taken to be 1)\n",
       "\n",
       "    Null deviance: 234.67  on 188  degrees of freedom\n",
       "Residual deviance: 231.91  on 187  degrees of freedom\n",
       "AIC: 235.91\n",
       "\n",
       "Number of Fisher Scoring iterations: 4\n"
      ]
     },
     "metadata": {},
     "output_type": "display_data"
    }
   ],
   "source": [
    "# Tell R to fit logistic regression\n",
    "summary(glm(low~age, data=df, family = binomial))"
   ]
  },
  {
   "cell_type": "markdown",
   "metadata": {},
   "source": [
    "First what we see if the p value is .1, def not sig, as evidenced by lack of stars. \n",
    "if we were forced to give interpretation to age coef, we woud say:\n",
    "\n",
    "probability of low birthweight given 0 age is .38\n",
    "for a person who is one year older than the other person,\n",
    "\n",
    "Age is bad, will give lower odds of having low birthweight baby \n",
    "\n",
    "effect of age on low birthweight:\n",
    "\n",
    "each year of age, decreases the odds of having a low birthweight baby by 5%. \n",
    "\n",
    "But this is not significant so well keep looking. \n"
   ]
  },
  {
   "cell_type": "code",
   "execution_count": 7,
   "metadata": {},
   "outputs": [
    {
     "data": {
      "text/html": [
       "0.950136139421948"
      ],
      "text/latex": [
       "0.950136139421948"
      ],
      "text/markdown": [
       "0.950136139421948"
      ],
      "text/plain": [
       "[1] 0.9501361"
      ]
     },
     "metadata": {},
     "output_type": "display_data"
    }
   ],
   "source": [
    "exp(-0.05115)"
   ]
  },
  {
   "cell_type": "markdown",
   "metadata": {},
   "source": [
    "Small trick: e^small ~ 1+small\n",
    "follows from taylor expansion of e^power"
   ]
  },
  {
   "cell_type": "markdown",
   "metadata": {},
   "source": [
    "Remember lwt is the weight of mom before preggo.\n",
    "\n",
    "This looks significant:"
   ]
  },
  {
   "cell_type": "code",
   "execution_count": 8,
   "metadata": {},
   "outputs": [
    {
     "data": {
      "text/plain": [
       "\n",
       "Call:\n",
       "glm(formula = low ~ lwt, family = binomial, data = df)\n",
       "\n",
       "Deviance Residuals: \n",
       "    Min       1Q   Median       3Q      Max  \n",
       "-1.0951  -0.9022  -0.8018   1.3609   1.9821  \n",
       "\n",
       "Coefficients:\n",
       "            Estimate Std. Error z value Pr(>|z|)  \n",
       "(Intercept)  0.99831    0.78529   1.271   0.2036  \n",
       "lwt         -0.01406    0.00617  -2.279   0.0227 *\n",
       "---\n",
       "Signif. codes:  0 ‘***’ 0.001 ‘**’ 0.01 ‘*’ 0.05 ‘.’ 0.1 ‘ ’ 1\n",
       "\n",
       "(Dispersion parameter for binomial family taken to be 1)\n",
       "\n",
       "    Null deviance: 234.67  on 188  degrees of freedom\n",
       "Residual deviance: 228.69  on 187  degrees of freedom\n",
       "AIC: 232.69\n",
       "\n",
       "Number of Fisher Scoring iterations: 4\n"
      ]
     },
     "metadata": {},
     "output_type": "display_data"
    }
   ],
   "source": [
    "# Tell R to fit logistic regression\n",
    "summary(glm(low~lwt, data=df, family = binomial))"
   ]
  },
  {
   "cell_type": "markdown",
   "metadata": {},
   "source": [
    "interpretation of lwt:\n",
    "\n",
    "adds decreases by 1.4% every unit pound increase of lwt "
   ]
  },
  {
   "cell_type": "code",
   "execution_count": 9,
   "metadata": {},
   "outputs": [
    {
     "data": {
      "text/html": [
       "0.986038380185146"
      ],
      "text/latex": [
       "0.986038380185146"
      ],
      "text/markdown": [
       "0.986038380185146"
      ],
      "text/plain": [
       "[1] 0.9860384"
      ]
     },
     "metadata": {},
     "output_type": "display_data"
    }
   ],
   "source": [
    "exp(-0.01406)"
   ]
  },
  {
   "cell_type": "markdown",
   "metadata": {},
   "source": [
    "There is no unit un the outcome variable in logreg. now it is just lowered probability or not.\n",
    "\n",
    "For each addition unit pound in weight of the mum (lwt) decreases the odds of having a low birthweight baby by 1.4%. **** "
   ]
  },
  {
   "cell_type": "code",
   "execution_count": 10,
   "metadata": {},
   "outputs": [
    {
     "data": {
      "text/plain": [
       "\n",
       "Call:\n",
       "glm(formula = low ~ smoke, family = binomial, data = df)\n",
       "\n",
       "Deviance Residuals: \n",
       "    Min       1Q   Median       3Q      Max  \n",
       "-1.0197  -0.7623  -0.7623   1.3438   1.6599  \n",
       "\n",
       "Coefficients:\n",
       "            Estimate Std. Error z value Pr(>|z|)    \n",
       "(Intercept)  -1.0871     0.2147  -5.062 4.14e-07 ***\n",
       "smoke         0.7041     0.3196   2.203   0.0276 *  \n",
       "---\n",
       "Signif. codes:  0 ‘***’ 0.001 ‘**’ 0.01 ‘*’ 0.05 ‘.’ 0.1 ‘ ’ 1\n",
       "\n",
       "(Dispersion parameter for binomial family taken to be 1)\n",
       "\n",
       "    Null deviance: 234.67  on 188  degrees of freedom\n",
       "Residual deviance: 229.80  on 187  degrees of freedom\n",
       "AIC: 233.8\n",
       "\n",
       "Number of Fisher Scoring iterations: 4\n"
      ]
     },
     "metadata": {},
     "output_type": "display_data"
    }
   ],
   "source": [
    "summary(glm(low~smoke, data=df, family = binomial))"
   ]
  },
  {
   "cell_type": "markdown",
   "metadata": {},
   "source": [
    "Can pretend smoking 0,1 is contunious\n",
    "R makes it a dummy variable so it will be the same thing\n",
    "Output will look slightly different.\n",
    "\n",
    "(70 min**) \n",
    "\n",
    "One unit increase in smoking will be the right interpretaiton\n",
    "\n",
    "For every 1 unit increase in smoking, the odds of having a low birthweight baby inrease by 102%\n",
    "(doubles)"
   ]
  },
  {
   "cell_type": "code",
   "execution_count": 11,
   "metadata": {},
   "outputs": [
    {
     "data": {
      "text/html": [
       "2.02202604231798"
      ],
      "text/latex": [
       "2.02202604231798"
      ],
      "text/markdown": [
       "2.02202604231798"
      ],
      "text/plain": [
       "[1] 2.022026"
      ]
     },
     "metadata": {},
     "output_type": "display_data"
    }
   ],
   "source": [
    "exp(.7041)"
   ]
  },
  {
   "cell_type": "code",
   "execution_count": 12,
   "metadata": {},
   "outputs": [
    {
     "data": {
      "text/plain": [
       "\n",
       "Call:\n",
       "glm(formula = low ~ factor(ht), family = binomial, data = df)\n",
       "\n",
       "Deviance Residuals: \n",
       "    Min       1Q   Median       3Q      Max  \n",
       "-1.3232  -0.8341  -0.8341   1.5652   1.5652  \n",
       "\n",
       "Coefficients:\n",
       "            Estimate Std. Error z value Pr(>|z|)    \n",
       "(Intercept)  -0.8771     0.1650  -5.315 1.07e-07 ***\n",
       "factor(ht)1   1.2135     0.6083   1.995   0.0461 *  \n",
       "---\n",
       "Signif. codes:  0 ‘***’ 0.001 ‘**’ 0.01 ‘*’ 0.05 ‘.’ 0.1 ‘ ’ 1\n",
       "\n",
       "(Dispersion parameter for binomial family taken to be 1)\n",
       "\n",
       "    Null deviance: 234.67  on 188  degrees of freedom\n",
       "Residual deviance: 230.65  on 187  degrees of freedom\n",
       "AIC: 234.65\n",
       "\n",
       "Number of Fisher Scoring iterations: 4\n"
      ]
     },
     "metadata": {},
     "output_type": "display_data"
    }
   ],
   "source": [
    "summary(glm(low~factor(ht), data=df, family = binomial))"
   ]
  },
  {
   "cell_type": "markdown",
   "metadata": {},
   "source": [
    "People with hypertension are 3.36x more likely to have a low birthweight baby than those without,\n",
    "or there is a 236% increase in the odds attributable to hypertension. "
   ]
  },
  {
   "cell_type": "code",
   "execution_count": 13,
   "metadata": {},
   "outputs": [
    {
     "data": {
      "text/html": [
       "336.524241291087"
      ],
      "text/latex": [
       "336.524241291087"
      ],
      "text/markdown": [
       "336.524241291087"
      ],
      "text/plain": [
       "[1] 336.5242"
      ]
     },
     "metadata": {},
     "output_type": "display_data"
    }
   ],
   "source": [
    "exp(1.2135)*100"
   ]
  },
  {
   "cell_type": "code",
   "execution_count": 14,
   "metadata": {},
   "outputs": [
    {
     "data": {
      "text/plain": [
       "\n",
       "Call:\n",
       "glm(formula = low ~ factor(ui), family = binomial, data = df)\n",
       "\n",
       "Deviance Residuals: \n",
       "    Min       1Q   Median       3Q      Max  \n",
       "-1.1774  -0.8097  -0.8097   1.1774   1.5967  \n",
       "\n",
       "Coefficients:\n",
       "            Estimate Std. Error z value Pr(>|z|)    \n",
       "(Intercept)  -0.9469     0.1756  -5.392 6.97e-08 ***\n",
       "factor(ui)1   0.9469     0.4168   2.272   0.0231 *  \n",
       "---\n",
       "Signif. codes:  0 ‘***’ 0.001 ‘**’ 0.01 ‘*’ 0.05 ‘.’ 0.1 ‘ ’ 1\n",
       "\n",
       "(Dispersion parameter for binomial family taken to be 1)\n",
       "\n",
       "    Null deviance: 234.67  on 188  degrees of freedom\n",
       "Residual deviance: 229.60  on 187  degrees of freedom\n",
       "AIC: 233.6\n",
       "\n",
       "Number of Fisher Scoring iterations: 4\n"
      ]
     },
     "metadata": {},
     "output_type": "display_data"
    }
   ],
   "source": [
    "summary(glm(low~factor(ui), data=df, family = binomial))"
   ]
  },
  {
   "cell_type": "markdown",
   "metadata": {},
   "source": [
    "This condition is associated with 157% increase in odds compared to those who dont have it. 2.57x increase. "
   ]
  },
  {
   "cell_type": "code",
   "execution_count": 15,
   "metadata": {},
   "outputs": [
    {
     "data": {
      "text/plain": [
       "\n",
       "Call:\n",
       "glm(formula = low ~ race.cat, family = binomial, data = df)\n",
       "\n",
       "Deviance Residuals: \n",
       "    Min       1Q   Median       3Q      Max  \n",
       "-1.0489  -0.9665  -0.7401   1.4042   1.6905  \n",
       "\n",
       "Coefficients:\n",
       "              Estimate Std. Error z value Pr(>|z|)    \n",
       "(Intercept)    -1.1550     0.2391  -4.830 1.36e-06 ***\n",
       "race.catAA      0.8448     0.4634   1.823   0.0683 .  \n",
       "race.catOther   0.6362     0.3478   1.829   0.0674 .  \n",
       "---\n",
       "Signif. codes:  0 ‘***’ 0.001 ‘**’ 0.01 ‘*’ 0.05 ‘.’ 0.1 ‘ ’ 1\n",
       "\n",
       "(Dispersion parameter for binomial family taken to be 1)\n",
       "\n",
       "    Null deviance: 234.67  on 188  degrees of freedom\n",
       "Residual deviance: 229.66  on 186  degrees of freedom\n",
       "AIC: 235.66\n",
       "\n",
       "Number of Fisher Scoring iterations: 4\n"
      ]
     },
     "metadata": {},
     "output_type": "display_data"
    }
   ],
   "source": [
    "summary(glm(low~race.cat, data=df, family = binomial))"
   ]
  },
  {
   "cell_type": "code",
   "execution_count": 16,
   "metadata": {},
   "outputs": [
    {
     "data": {
      "text/html": [
       "2.32751226556377"
      ],
      "text/latex": [
       "2.32751226556377"
      ],
      "text/markdown": [
       "2.32751226556377"
      ],
      "text/plain": [
       "[1] 2.327512"
      ]
     },
     "metadata": {},
     "output_type": "display_data"
    }
   ],
   "source": [
    "exp(.8448)"
   ]
  },
  {
   "cell_type": "code",
   "execution_count": 17,
   "metadata": {},
   "outputs": [
    {
     "data": {
      "text/html": [
       "1.88928792722806"
      ],
      "text/latex": [
       "1.88928792722806"
      ],
      "text/markdown": [
       "1.88928792722806"
      ],
      "text/plain": [
       "[1] 1.889288"
      ]
     },
     "metadata": {},
     "output_type": "display_data"
    }
   ],
   "source": [
    "exp(.6362)"
   ]
  },
  {
   "cell_type": "markdown",
   "metadata": {},
   "source": [
    "These are odds ratios and the baseline category is caucasian. \n",
    "\n",
    "Compared to whites, AA mothers have an extra 132% increase in the odds of having a low birthweight baby.\n",
    "\n",
    "Compared to whites, Other-race mothers have an extra 89% increase in the odds of having a low birthweight baby.\n",
    "\n",
    "Both are not quite significant but pretty close, so possibly when we ftr the model with other variables this might push it into significance, so we have to be prepared to look at this variable. "
   ]
  },
  {
   "cell_type": "markdown",
   "metadata": {},
   "source": [
    "### Model evaluation\n",
    "\n",
    "Sensitivity, specificity, F1, AUROC, and finding threshold for optimal sensitivity and specificity \n"
   ]
  },
  {
   "cell_type": "code",
   "execution_count": 18,
   "metadata": {},
   "outputs": [
    {
     "name": "stderr",
     "output_type": "stream",
     "text": [
      "Type 'citation(\"pROC\")' for a citation.\n",
      "\n",
      "\n",
      "Attaching package: ‘pROC’\n",
      "\n",
      "\n",
      "The following objects are masked from ‘package:stats’:\n",
      "\n",
      "    cov, smooth, var\n",
      "\n",
      "\n"
     ]
    }
   ],
   "source": [
    "library(MASS)\n",
    "library(pROC)"
   ]
  },
  {
   "cell_type": "code",
   "execution_count": 54,
   "metadata": {},
   "outputs": [],
   "source": [
    "# Lets build automatically\n",
    "base = glm(low~., data=df, family=binomial)"
   ]
  },
  {
   "cell_type": "code",
   "execution_count": 53,
   "metadata": {},
   "outputs": [
    {
     "name": "stdout",
     "output_type": "stream",
     "text": [
      "Start:  AIC=22\n",
      "low ~ age + lwt + smoke + ht + ui + ptl.cat + ftv.cat + race.cat\n",
      "\n",
      "           Df   Deviance AIC\n",
      "- ftv.cat   2 5.8016e-10  18\n",
      "- race.cat  2 5.8016e-10  18\n",
      "- age       1 5.8016e-10  20\n",
      "- lwt       1 5.8016e-10  20\n",
      "- smoke     1 5.8016e-10  20\n",
      "- ht        1 5.8016e-10  20\n",
      "- ui        1 5.8016e-10  20\n",
      "- ptl.cat   1 5.8016e-10  20\n",
      "<none>        5.8016e-10  22\n",
      "\n",
      "Step:  AIC=18\n",
      "low ~ age + lwt + smoke + ht + ui + ptl.cat + race.cat\n",
      "\n",
      "           Df   Deviance AIC\n",
      "- race.cat  2 5.8016e-10  14\n",
      "- age       1 5.8016e-10  16\n",
      "- lwt       1 5.8016e-10  16\n",
      "- smoke     1 5.8016e-10  16\n",
      "- ht        1 5.8016e-10  16\n",
      "- ui        1 5.8016e-10  16\n",
      "- ptl.cat   1 5.8016e-10  16\n",
      "<none>        5.8016e-10  18\n",
      "\n",
      "Step:  AIC=14\n",
      "low ~ age + lwt + smoke + ht + ui + ptl.cat\n",
      "\n",
      "          Df   Deviance AIC\n",
      "- age      1 5.8016e-10  12\n",
      "- lwt      1 5.8016e-10  12\n",
      "- smoke    1 5.8016e-10  12\n",
      "- ht       1 5.8016e-10  12\n",
      "- ui       1 5.8016e-10  12\n",
      "- ptl.cat  1 5.8016e-10  12\n",
      "<none>       5.8016e-10  14\n",
      "\n",
      "Step:  AIC=12\n",
      "low ~ lwt + smoke + ht + ui + ptl.cat\n",
      "\n",
      "          Df   Deviance AIC\n",
      "- lwt      1 5.8016e-10  10\n",
      "- smoke    1 5.8016e-10  10\n",
      "- ht       1 5.8016e-10  10\n",
      "- ui       1 5.8016e-10  10\n",
      "- ptl.cat  1 5.8016e-10  10\n",
      "<none>       5.8016e-10  12\n",
      "\n",
      "Step:  AIC=10\n",
      "low ~ smoke + ht + ui + ptl.cat\n",
      "\n",
      "          Df   Deviance AIC\n",
      "- smoke    1 5.8016e-10   8\n",
      "- ht       1 5.8016e-10   8\n",
      "- ui       1 5.8016e-10   8\n",
      "- ptl.cat  1 5.8016e-10   8\n",
      "<none>       5.8016e-10  10\n",
      "\n",
      "Step:  AIC=8\n",
      "low ~ ht + ui + ptl.cat\n",
      "\n",
      "          Df   Deviance AIC\n",
      "- ht       1 5.8016e-10   6\n",
      "- ui       1 5.8016e-10   6\n",
      "- ptl.cat  1 5.8016e-10   6\n",
      "<none>       5.8016e-10   8\n",
      "\n",
      "Step:  AIC=6\n",
      "low ~ ui + ptl.cat\n",
      "\n",
      "          Df   Deviance AIC\n",
      "- ui       1 5.8016e-10   4\n",
      "- ptl.cat  1 5.8016e-10   4\n",
      "<none>       5.8016e-10   6\n",
      "\n",
      "Step:  AIC=4\n",
      "low ~ ptl.cat\n",
      "\n",
      "          Df   Deviance AIC\n",
      "- ptl.cat  1 5.8016e-10   2\n",
      "<none>       5.8016e-10   4\n",
      "\n",
      "Step:  AIC=2\n",
      "low ~ 1\n",
      "\n"
     ]
    }
   ],
   "source": [
    "final1 = stepAIC(base)"
   ]
  },
  {
   "cell_type": "code",
   "execution_count": 21,
   "metadata": {},
   "outputs": [
    {
     "data": {
      "text/plain": [
       "\n",
       "Call:\n",
       "glm(formula = low ~ lwt + smoke + ht + ui + ptl.cat + race.cat, \n",
       "    family = binomial, data = df)\n",
       "\n",
       "Deviance Residuals: \n",
       "    Min       1Q   Median       3Q      Max  \n",
       "-1.7308  -0.7841  -0.5144   0.9539   2.1980  \n",
       "\n",
       "Coefficients:\n",
       "               Estimate Std. Error z value Pr(>|z|)   \n",
       "(Intercept)   -0.125326   0.967561  -0.130  0.89694   \n",
       "lwt           -0.015918   0.006954  -2.289  0.02207 * \n",
       "smoke          0.866582   0.404469   2.143  0.03215 * \n",
       "ht             1.866895   0.707373   2.639  0.00831 **\n",
       "ui             0.750649   0.458815   1.636  0.10183   \n",
       "ptl.cat1+      1.128857   0.450388   2.506  0.01220 * \n",
       "race.catAA     1.300856   0.528484   2.461  0.01384 * \n",
       "race.catOther  0.854414   0.440907   1.938  0.05264 . \n",
       "---\n",
       "Signif. codes:  0 ‘***’ 0.001 ‘**’ 0.01 ‘*’ 0.05 ‘.’ 0.1 ‘ ’ 1\n",
       "\n",
       "(Dispersion parameter for binomial family taken to be 1)\n",
       "\n",
       "    Null deviance: 234.67  on 188  degrees of freedom\n",
       "Residual deviance: 197.85  on 181  degrees of freedom\n",
       "AIC: 213.85\n",
       "\n",
       "Number of Fisher Scoring iterations: 4\n"
      ]
     },
     "metadata": {},
     "output_type": "display_data"
    }
   ],
   "source": [
    "summary(final1)"
   ]
  },
  {
   "cell_type": "markdown",
   "metadata": {},
   "source": [
    "We built a best AIC-minimized logreg model using all the variables. \n",
    "\n",
    "Here the ui variable is not significant, so we can decide if we want to keep. We'll keep it for today.\n",
    "\n",
    "Anyway, is this  good model? Lets fund the AUROC"
   ]
  },
  {
   "cell_type": "markdown",
   "metadata": {},
   "source": [
    "Before we do this, we need to get the model-predicted probabilities for each person. \n",
    "\n"
   ]
  },
  {
   "cell_type": "code",
   "execution_count": 22,
   "metadata": {},
   "outputs": [],
   "source": [
    "low2=predict(final1, type=\"response\") # predict on the probability scale, type=\"response\""
   ]
  },
  {
   "cell_type": "code",
   "execution_count": 23,
   "metadata": {},
   "outputs": [
    {
     "data": {
      "text/html": [
       "<style>\n",
       ".dl-inline {width: auto; margin:0; padding: 0}\n",
       ".dl-inline>dt, .dl-inline>dd {float: none; width: auto; display: inline-block}\n",
       ".dl-inline>dt::after {content: \":\\0020\"; padding-right: .5ex}\n",
       ".dl-inline>dt:not(:first-of-type) {padding-left: .5ex}\n",
       "</style><dl class=dl-inline><dt>1</dt><dd>0.274684459388519</dd><dt>2</dt><dd>0.149532134954481</dd><dt>3</dt><dd>0.282887392989241</dd><dt>4</dt><dd>0.443420721111561</dd><dt>5</dt><dd>0.447352839569958</dd><dt>6</dt><dd>0.223601126811357</dd><dt>7</dt><dd>0.118814369457088</dd><dt>8</dt><dd>0.286894531659201</dd><dt>9</dt><dd>0.228514802327021</dd><dt>10</dt><dd>0.257781421397779</dd><dt>11</dt><dd>0.313637753028859</dd><dt>12</dt><dd>0.159938875938611</dd><dt>13</dt><dd>0.747198897125581</dd><dt>14</dt><dd>0.712040888640297</dd><dt>15</dt><dd>0.299308771015612</dd><dt>16</dt><dd>0.299308771015612</dd><dt>17</dt><dd>0.405046647275292</dd><dt>18</dt><dd>0.242848765889573</dd><dt>19</dt><dd>0.394011735270065</dd><dt>20</dt><dd>0.23704282618372</dd><dt>21</dt><dd>0.232000920049395</dd><dt>22</dt><dd>0.275573759378434</dd><dt>23</dt><dd>0.0341958177292373</dd><dt>24</dt><dd>0.23484930936348</dd><dt>25</dt><dd>0.394011735270065</dd><dt>26</dt><dd>0.0582107667941165</dd><dt>27</dt><dd>0.2313332831222</dd><dt>28</dt><dd>0.0749451086896468</dd><dt>29</dt><dd>0.347013650432586</dd><dt>30</dt><dd>0.349040862323157</dd><dt>31</dt><dd>0.349040862323157</dd><dt>32</dt><dd>0.607651189539185</dd><dt>33</dt><dd>0.776404107794769</dd><dt>34</dt><dd>0.0696103971653871</dd><dt>35</dt><dd>0.306979298275491</dd><dt>36</dt><dd>0.184322735098586</dd><dt>37</dt><dd>0.189157534526342</dd><dt>38</dt><dd>0.225720577058652</dd><dt>39</dt><dd>0.0640908927185063</dd><dt>40</dt><dd>0.270150751309231</dd><dt>41</dt><dd>0.288474171654217</dd><dt>42</dt><dd>0.0417296674912686</dd><dt>43</dt><dd>0.290311444241353</dd><dt>44</dt><dd>0.0646288888239714</dd><dt>45</dt><dd>0.514806154213855</dd><dt>46</dt><dd>0.514806154213855</dd><dt>47</dt><dd>0.0973902147765621</dd><dt>48</dt><dd>0.202272637515794</dd><dt>49</dt><dd>0.123905961523596</dd><dt>50</dt><dd>0.560354201339548</dd><dt>51</dt><dd>0.457937738149738</dd><dt>52</dt><dd>0.212741890017109</dd><dt>53</dt><dd>0.209466234816344</dd><dt>54</dt><dd>0.316262992596715</dd><dt>55</dt><dd>0.249452138495565</dd><dt>56</dt><dd>0.26464890871973</dd><dt>57</dt><dd>0.644577224352035</dd><dt>58</dt><dd>0.153626247631656</dd><dt>59</dt><dd>0.286894531659201</dd><dt>60</dt><dd>0.23772184501535</dd><dt>61</dt><dd>0.23772184501535</dd><dt>62</dt><dd>0.23772184501535</dd><dt>63</dt><dd>0.26464890871973</dd><dt>64</dt><dd>0.0867552978018659</dd><dt>65</dt><dd>0.647340527934188</dd><dt>66</dt><dd>0.479604189906817</dd><dt>67</dt><dd>0.249452138495565</dd><dt>68</dt><dd>0.0844049218607386</dd><dt>69</dt><dd>0.379816903973035</dd><dt>70</dt><dd>0.447510955329673</dd><dt>71</dt><dd>0.521797007467831</dd><dt>72</dt><dd>0.311717697867224</dd><dt>73</dt><dd>0.441530099919436</dd><dt>74</dt><dd>0.352666355719681</dd><dt>75</dt><dd>0.19659104947274</dd><dt>76</dt><dd>0.0780025573262527</dd><dt>77</dt><dd>0.0867552978018659</dd><dt>78</dt><dd>0.434635452676172</dd><dt>79</dt><dd>0.528961585802044</dd><dt>80</dt><dd>0.0410977379938152</dd><dt>81</dt><dd>0.0987985300233092</dd><dt>82</dt><dd>0.0556472772561157</dd><dt>83</dt><dd>0.26464890871973</dd><dt>84</dt><dd>0.215420150596551</dd><dt>85</dt><dd>0.226376786044809</dd><dt>86</dt><dd>0.422005282452562</dd><dt>87</dt><dd>0.280425571873063</dd><dt>88</dt><dd>0.100224948960451</dd><dt>89</dt><dd>0.0516095788515774</dd><dt>90</dt><dd>0.107634433090528</dd><dt>91</dt><dd>0.0959998357957891</dd><dt>92</dt><dd>0.197184140307697</dd><dt>93</dt><dd>0.243664956923512</dd><dt>94</dt><dd>0.751850511775582</dd><dt>95</dt><dd>0.19659104947274</dd><dt>96</dt><dd>0.0932722157491801</dd><dt>97</dt><dd>0.0706484436649148</dd><dt>98</dt><dd>0.168155011701106</dd><dt>99</dt><dd>0.168155011701106</dd><dt>100</dt><dd>0.0906143266159714</dd><dt>101</dt><dd>0.132807742779124</dd><dt>102</dt><dd>0.420469064373102</dd><dt>103</dt><dd>0.526702725687901</dd><dt>104</dt><dd>0.132807742779124</dd><dt>105</dt><dd>0.23484930936348</dd><dt>106</dt><dd>0.311326033302678</dd><dt>107</dt><dd>0.129183757909113</dd><dt>108</dt><dd>0.0564897448622699</dd><dt>109</dt><dd>0.23704282618372</dd><dt>110</dt><dd>0.1779043241764</dd><dt>111</dt><dd>0.0436816742218762</dd><dt>112</dt><dd>0.23484930936348</dd><dt>113</dt><dd>0.209466234816344</dd><dt>114</dt><dd>0.224934432106703</dd><dt>115</dt><dd>0.122939375334467</dd><dt>116</dt><dd>0.197184140307697</dd><dt>117</dt><dd>0.0932722157491801</dd><dt>118</dt><dd>0.207458514522593</dd><dt>119</dt><dd>0.115521361533111</dd><dt>120</dt><dd>0.313637753028859</dd><dt>121</dt><dd>0.0665803804164966</dd><dt>122</dt><dd>0.139689931526432</dd><dt>123</dt><dd>0.123905961523596</dd><dt>124</dt><dd>0.101669638698117</dd><dt>125</dt><dd>0.100224948960451</dd><dt>126</dt><dd>0.115521361533111</dd><dt>127</dt><dd>0.154124693514822</dd><dt>128</dt><dd>0.23704282618372</dd><dt>129</dt><dd>0.122188278835925</dd><dt>130</dt><dd>0.110730765408432</dd><dt>131</dt><dd>0.827063715646774</dd><dt>132</dt><dd>0.190914510988694</dd><dt>133</dt><dd>0.717531975212405</dd><dt>134</dt><dd>0.886290745116957</dd><dt>135</dt><dd>0.531624392667554</dd><dt>136</dt><dd>0.159938875938611</dd><dt>137</dt><dd>0.483916793257191</dd><dt>138</dt><dd>0.566312453792861</dd><dt>139</dt><dd>0.621223559959895</dd><dt>140</dt><dd>0.495400846288026</dd><dt>141</dt><dd>0.282887392989241</dd><dt>142</dt><dd>0.763538847962362</dd><dt>143</dt><dd>0.249452138495565</dd><dt>144</dt><dd>0.207458514522593</dd><dt>145</dt><dd>0.326679074737171</dd><dt>146</dt><dd>0.161580474428869</dd><dt>147</dt><dd>0.221401743768922</dd><dt>148</dt><dd>0.354972861675145</dd><dt>149</dt><dd>0.286894531659201</dd><dt>150</dt><dd>0.375176577782947</dd><dt>151</dt><dd>0.608545066310947</dd><dt>152</dt><dd>0.148172062517348</dd><dt>153</dt><dd>0.427767761015788</dd><dt>154</dt><dd>0.501912729561142</dd><dt>155</dt><dd>0.0893111110278931</dd><dt>156</dt><dd>0.803098500337645</dd><dt>157</dt><dd>0.532925940891504</dd><dt>158</dt><dd>0.634450969337967</dd><dt>159</dt><dd>0.464255298664359</dd><dt>160</dt><dd>0.745136791950506</dd><dt>161</dt><dd>0.267023624321322</dd><dt>162</dt><dd>0.546491562260642</dd><dt>163</dt><dd>0.267758384518799</dd><dt>164</dt><dd>0.16426288702084</dd><dt>165</dt><dd>0.805328380582797</dd><dt>166</dt><dd>0.66699518045688</dd><dt>167</dt><dd>0.56613456328326</dd><dt>168</dt><dd>0.310221204972404</dd><dt>169</dt><dd>0.561297131116344</dd><dt>170</dt><dd>0.132807742779124</dd><dt>171</dt><dd>0.281983678274643</dd><dt>172</dt><dd>0.524993573776237</dd><dt>173</dt><dd>0.591621285607683</dd><dt>174</dt><dd>0.413167207197895</dd><dt>175</dt><dd>0.23484930936348</dd><dt>176</dt><dd>0.403642462415265</dd><dt>177</dt><dd>0.209466234816344</dd><dt>178</dt><dd>0.23704282618372</dd><dt>179</dt><dd>0.529734939346447</dd><dt>180</dt><dd>0.324166999959236</dd><dt>181</dt><dd>0.781323368577936</dd><dt>182</dt><dd>0.280425571873063</dd><dt>183</dt><dd>0.0925193657936031</dd><dt>184</dt><dd>0.753387367959486</dd><dt>185</dt><dd>0.316262992596715</dd><dt>186</dt><dd>0.296763182391067</dd><dt>187</dt><dd>0.524812956124635</dd><dt>188</dt><dd>0.686111355002899</dd><dt>189</dt><dd>0.631521460151831</dd></dl>\n"
      ],
      "text/latex": [
       "\\begin{description*}\n",
       "\\item[1] 0.274684459388519\n",
       "\\item[2] 0.149532134954481\n",
       "\\item[3] 0.282887392989241\n",
       "\\item[4] 0.443420721111561\n",
       "\\item[5] 0.447352839569958\n",
       "\\item[6] 0.223601126811357\n",
       "\\item[7] 0.118814369457088\n",
       "\\item[8] 0.286894531659201\n",
       "\\item[9] 0.228514802327021\n",
       "\\item[10] 0.257781421397779\n",
       "\\item[11] 0.313637753028859\n",
       "\\item[12] 0.159938875938611\n",
       "\\item[13] 0.747198897125581\n",
       "\\item[14] 0.712040888640297\n",
       "\\item[15] 0.299308771015612\n",
       "\\item[16] 0.299308771015612\n",
       "\\item[17] 0.405046647275292\n",
       "\\item[18] 0.242848765889573\n",
       "\\item[19] 0.394011735270065\n",
       "\\item[20] 0.23704282618372\n",
       "\\item[21] 0.232000920049395\n",
       "\\item[22] 0.275573759378434\n",
       "\\item[23] 0.0341958177292373\n",
       "\\item[24] 0.23484930936348\n",
       "\\item[25] 0.394011735270065\n",
       "\\item[26] 0.0582107667941165\n",
       "\\item[27] 0.2313332831222\n",
       "\\item[28] 0.0749451086896468\n",
       "\\item[29] 0.347013650432586\n",
       "\\item[30] 0.349040862323157\n",
       "\\item[31] 0.349040862323157\n",
       "\\item[32] 0.607651189539185\n",
       "\\item[33] 0.776404107794769\n",
       "\\item[34] 0.0696103971653871\n",
       "\\item[35] 0.306979298275491\n",
       "\\item[36] 0.184322735098586\n",
       "\\item[37] 0.189157534526342\n",
       "\\item[38] 0.225720577058652\n",
       "\\item[39] 0.0640908927185063\n",
       "\\item[40] 0.270150751309231\n",
       "\\item[41] 0.288474171654217\n",
       "\\item[42] 0.0417296674912686\n",
       "\\item[43] 0.290311444241353\n",
       "\\item[44] 0.0646288888239714\n",
       "\\item[45] 0.514806154213855\n",
       "\\item[46] 0.514806154213855\n",
       "\\item[47] 0.0973902147765621\n",
       "\\item[48] 0.202272637515794\n",
       "\\item[49] 0.123905961523596\n",
       "\\item[50] 0.560354201339548\n",
       "\\item[51] 0.457937738149738\n",
       "\\item[52] 0.212741890017109\n",
       "\\item[53] 0.209466234816344\n",
       "\\item[54] 0.316262992596715\n",
       "\\item[55] 0.249452138495565\n",
       "\\item[56] 0.26464890871973\n",
       "\\item[57] 0.644577224352035\n",
       "\\item[58] 0.153626247631656\n",
       "\\item[59] 0.286894531659201\n",
       "\\item[60] 0.23772184501535\n",
       "\\item[61] 0.23772184501535\n",
       "\\item[62] 0.23772184501535\n",
       "\\item[63] 0.26464890871973\n",
       "\\item[64] 0.0867552978018659\n",
       "\\item[65] 0.647340527934188\n",
       "\\item[66] 0.479604189906817\n",
       "\\item[67] 0.249452138495565\n",
       "\\item[68] 0.0844049218607386\n",
       "\\item[69] 0.379816903973035\n",
       "\\item[70] 0.447510955329673\n",
       "\\item[71] 0.521797007467831\n",
       "\\item[72] 0.311717697867224\n",
       "\\item[73] 0.441530099919436\n",
       "\\item[74] 0.352666355719681\n",
       "\\item[75] 0.19659104947274\n",
       "\\item[76] 0.0780025573262527\n",
       "\\item[77] 0.0867552978018659\n",
       "\\item[78] 0.434635452676172\n",
       "\\item[79] 0.528961585802044\n",
       "\\item[80] 0.0410977379938152\n",
       "\\item[81] 0.0987985300233092\n",
       "\\item[82] 0.0556472772561157\n",
       "\\item[83] 0.26464890871973\n",
       "\\item[84] 0.215420150596551\n",
       "\\item[85] 0.226376786044809\n",
       "\\item[86] 0.422005282452562\n",
       "\\item[87] 0.280425571873063\n",
       "\\item[88] 0.100224948960451\n",
       "\\item[89] 0.0516095788515774\n",
       "\\item[90] 0.107634433090528\n",
       "\\item[91] 0.0959998357957891\n",
       "\\item[92] 0.197184140307697\n",
       "\\item[93] 0.243664956923512\n",
       "\\item[94] 0.751850511775582\n",
       "\\item[95] 0.19659104947274\n",
       "\\item[96] 0.0932722157491801\n",
       "\\item[97] 0.0706484436649148\n",
       "\\item[98] 0.168155011701106\n",
       "\\item[99] 0.168155011701106\n",
       "\\item[100] 0.0906143266159714\n",
       "\\item[101] 0.132807742779124\n",
       "\\item[102] 0.420469064373102\n",
       "\\item[103] 0.526702725687901\n",
       "\\item[104] 0.132807742779124\n",
       "\\item[105] 0.23484930936348\n",
       "\\item[106] 0.311326033302678\n",
       "\\item[107] 0.129183757909113\n",
       "\\item[108] 0.0564897448622699\n",
       "\\item[109] 0.23704282618372\n",
       "\\item[110] 0.1779043241764\n",
       "\\item[111] 0.0436816742218762\n",
       "\\item[112] 0.23484930936348\n",
       "\\item[113] 0.209466234816344\n",
       "\\item[114] 0.224934432106703\n",
       "\\item[115] 0.122939375334467\n",
       "\\item[116] 0.197184140307697\n",
       "\\item[117] 0.0932722157491801\n",
       "\\item[118] 0.207458514522593\n",
       "\\item[119] 0.115521361533111\n",
       "\\item[120] 0.313637753028859\n",
       "\\item[121] 0.0665803804164966\n",
       "\\item[122] 0.139689931526432\n",
       "\\item[123] 0.123905961523596\n",
       "\\item[124] 0.101669638698117\n",
       "\\item[125] 0.100224948960451\n",
       "\\item[126] 0.115521361533111\n",
       "\\item[127] 0.154124693514822\n",
       "\\item[128] 0.23704282618372\n",
       "\\item[129] 0.122188278835925\n",
       "\\item[130] 0.110730765408432\n",
       "\\item[131] 0.827063715646774\n",
       "\\item[132] 0.190914510988694\n",
       "\\item[133] 0.717531975212405\n",
       "\\item[134] 0.886290745116957\n",
       "\\item[135] 0.531624392667554\n",
       "\\item[136] 0.159938875938611\n",
       "\\item[137] 0.483916793257191\n",
       "\\item[138] 0.566312453792861\n",
       "\\item[139] 0.621223559959895\n",
       "\\item[140] 0.495400846288026\n",
       "\\item[141] 0.282887392989241\n",
       "\\item[142] 0.763538847962362\n",
       "\\item[143] 0.249452138495565\n",
       "\\item[144] 0.207458514522593\n",
       "\\item[145] 0.326679074737171\n",
       "\\item[146] 0.161580474428869\n",
       "\\item[147] 0.221401743768922\n",
       "\\item[148] 0.354972861675145\n",
       "\\item[149] 0.286894531659201\n",
       "\\item[150] 0.375176577782947\n",
       "\\item[151] 0.608545066310947\n",
       "\\item[152] 0.148172062517348\n",
       "\\item[153] 0.427767761015788\n",
       "\\item[154] 0.501912729561142\n",
       "\\item[155] 0.0893111110278931\n",
       "\\item[156] 0.803098500337645\n",
       "\\item[157] 0.532925940891504\n",
       "\\item[158] 0.634450969337967\n",
       "\\item[159] 0.464255298664359\n",
       "\\item[160] 0.745136791950506\n",
       "\\item[161] 0.267023624321322\n",
       "\\item[162] 0.546491562260642\n",
       "\\item[163] 0.267758384518799\n",
       "\\item[164] 0.16426288702084\n",
       "\\item[165] 0.805328380582797\n",
       "\\item[166] 0.66699518045688\n",
       "\\item[167] 0.56613456328326\n",
       "\\item[168] 0.310221204972404\n",
       "\\item[169] 0.561297131116344\n",
       "\\item[170] 0.132807742779124\n",
       "\\item[171] 0.281983678274643\n",
       "\\item[172] 0.524993573776237\n",
       "\\item[173] 0.591621285607683\n",
       "\\item[174] 0.413167207197895\n",
       "\\item[175] 0.23484930936348\n",
       "\\item[176] 0.403642462415265\n",
       "\\item[177] 0.209466234816344\n",
       "\\item[178] 0.23704282618372\n",
       "\\item[179] 0.529734939346447\n",
       "\\item[180] 0.324166999959236\n",
       "\\item[181] 0.781323368577936\n",
       "\\item[182] 0.280425571873063\n",
       "\\item[183] 0.0925193657936031\n",
       "\\item[184] 0.753387367959486\n",
       "\\item[185] 0.316262992596715\n",
       "\\item[186] 0.296763182391067\n",
       "\\item[187] 0.524812956124635\n",
       "\\item[188] 0.686111355002899\n",
       "\\item[189] 0.631521460151831\n",
       "\\end{description*}\n"
      ],
      "text/markdown": [
       "1\n",
       ":   0.2746844593885192\n",
       ":   0.1495321349544813\n",
       ":   0.2828873929892414\n",
       ":   0.4434207211115615\n",
       ":   0.4473528395699586\n",
       ":   0.2236011268113577\n",
       ":   0.1188143694570888\n",
       ":   0.2868945316592019\n",
       ":   0.22851480232702110\n",
       ":   0.25778142139777911\n",
       ":   0.31363775302885912\n",
       ":   0.15993887593861113\n",
       ":   0.74719889712558114\n",
       ":   0.71204088864029715\n",
       ":   0.29930877101561216\n",
       ":   0.29930877101561217\n",
       ":   0.40504664727529218\n",
       ":   0.24284876588957319\n",
       ":   0.39401173527006520\n",
       ":   0.2370428261837221\n",
       ":   0.23200092004939522\n",
       ":   0.27557375937843423\n",
       ":   0.034195817729237324\n",
       ":   0.2348493093634825\n",
       ":   0.39401173527006526\n",
       ":   0.058210766794116527\n",
       ":   0.231333283122228\n",
       ":   0.074945108689646829\n",
       ":   0.34701365043258630\n",
       ":   0.34904086232315731\n",
       ":   0.34904086232315732\n",
       ":   0.60765118953918533\n",
       ":   0.77640410779476934\n",
       ":   0.069610397165387135\n",
       ":   0.30697929827549136\n",
       ":   0.18432273509858637\n",
       ":   0.18915753452634238\n",
       ":   0.22572057705865239\n",
       ":   0.064090892718506340\n",
       ":   0.27015075130923141\n",
       ":   0.28847417165421742\n",
       ":   0.041729667491268643\n",
       ":   0.29031144424135344\n",
       ":   0.064628888823971445\n",
       ":   0.51480615421385546\n",
       ":   0.51480615421385547\n",
       ":   0.097390214776562148\n",
       ":   0.20227263751579449\n",
       ":   0.12390596152359650\n",
       ":   0.56035420133954851\n",
       ":   0.45793773814973852\n",
       ":   0.21274189001710953\n",
       ":   0.20946623481634454\n",
       ":   0.31626299259671555\n",
       ":   0.24945213849556556\n",
       ":   0.2646489087197357\n",
       ":   0.64457722435203558\n",
       ":   0.15362624763165659\n",
       ":   0.28689453165920160\n",
       ":   0.2377218450153561\n",
       ":   0.2377218450153562\n",
       ":   0.2377218450153563\n",
       ":   0.2646489087197364\n",
       ":   0.086755297801865965\n",
       ":   0.64734052793418866\n",
       ":   0.47960418990681767\n",
       ":   0.24945213849556568\n",
       ":   0.084404921860738669\n",
       ":   0.37981690397303570\n",
       ":   0.44751095532967371\n",
       ":   0.52179700746783172\n",
       ":   0.31171769786722473\n",
       ":   0.44153009991943674\n",
       ":   0.35266635571968175\n",
       ":   0.1965910494727476\n",
       ":   0.078002557326252777\n",
       ":   0.086755297801865978\n",
       ":   0.43463545267617279\n",
       ":   0.52896158580204480\n",
       ":   0.041097737993815281\n",
       ":   0.098798530023309282\n",
       ":   0.055647277256115783\n",
       ":   0.2646489087197384\n",
       ":   0.21542015059655185\n",
       ":   0.22637678604480986\n",
       ":   0.42200528245256287\n",
       ":   0.28042557187306388\n",
       ":   0.10022494896045189\n",
       ":   0.051609578851577490\n",
       ":   0.10763443309052891\n",
       ":   0.095999835795789192\n",
       ":   0.19718414030769793\n",
       ":   0.24366495692351294\n",
       ":   0.75185051177558295\n",
       ":   0.1965910494727496\n",
       ":   0.093272215749180197\n",
       ":   0.070648443664914898\n",
       ":   0.16815501170110699\n",
       ":   0.168155011701106100\n",
       ":   0.0906143266159714101\n",
       ":   0.132807742779124102\n",
       ":   0.420469064373102103\n",
       ":   0.526702725687901104\n",
       ":   0.132807742779124105\n",
       ":   0.23484930936348106\n",
       ":   0.311326033302678107\n",
       ":   0.129183757909113108\n",
       ":   0.0564897448622699109\n",
       ":   0.23704282618372110\n",
       ":   0.1779043241764111\n",
       ":   0.0436816742218762112\n",
       ":   0.23484930936348113\n",
       ":   0.209466234816344114\n",
       ":   0.224934432106703115\n",
       ":   0.122939375334467116\n",
       ":   0.197184140307697117\n",
       ":   0.0932722157491801118\n",
       ":   0.207458514522593119\n",
       ":   0.115521361533111120\n",
       ":   0.313637753028859121\n",
       ":   0.0665803804164966122\n",
       ":   0.139689931526432123\n",
       ":   0.123905961523596124\n",
       ":   0.101669638698117125\n",
       ":   0.100224948960451126\n",
       ":   0.115521361533111127\n",
       ":   0.154124693514822128\n",
       ":   0.23704282618372129\n",
       ":   0.122188278835925130\n",
       ":   0.110730765408432131\n",
       ":   0.827063715646774132\n",
       ":   0.190914510988694133\n",
       ":   0.717531975212405134\n",
       ":   0.886290745116957135\n",
       ":   0.531624392667554136\n",
       ":   0.159938875938611137\n",
       ":   0.483916793257191138\n",
       ":   0.566312453792861139\n",
       ":   0.621223559959895140\n",
       ":   0.495400846288026141\n",
       ":   0.282887392989241142\n",
       ":   0.763538847962362143\n",
       ":   0.249452138495565144\n",
       ":   0.207458514522593145\n",
       ":   0.326679074737171146\n",
       ":   0.161580474428869147\n",
       ":   0.221401743768922148\n",
       ":   0.354972861675145149\n",
       ":   0.286894531659201150\n",
       ":   0.375176577782947151\n",
       ":   0.608545066310947152\n",
       ":   0.148172062517348153\n",
       ":   0.427767761015788154\n",
       ":   0.501912729561142155\n",
       ":   0.0893111110278931156\n",
       ":   0.803098500337645157\n",
       ":   0.532925940891504158\n",
       ":   0.634450969337967159\n",
       ":   0.464255298664359160\n",
       ":   0.745136791950506161\n",
       ":   0.267023624321322162\n",
       ":   0.546491562260642163\n",
       ":   0.267758384518799164\n",
       ":   0.16426288702084165\n",
       ":   0.805328380582797166\n",
       ":   0.66699518045688167\n",
       ":   0.56613456328326168\n",
       ":   0.310221204972404169\n",
       ":   0.561297131116344170\n",
       ":   0.132807742779124171\n",
       ":   0.281983678274643172\n",
       ":   0.524993573776237173\n",
       ":   0.591621285607683174\n",
       ":   0.413167207197895175\n",
       ":   0.23484930936348176\n",
       ":   0.403642462415265177\n",
       ":   0.209466234816344178\n",
       ":   0.23704282618372179\n",
       ":   0.529734939346447180\n",
       ":   0.324166999959236181\n",
       ":   0.781323368577936182\n",
       ":   0.280425571873063183\n",
       ":   0.0925193657936031184\n",
       ":   0.753387367959486185\n",
       ":   0.316262992596715186\n",
       ":   0.296763182391067187\n",
       ":   0.524812956124635188\n",
       ":   0.686111355002899189\n",
       ":   0.631521460151831\n",
       "\n"
      ],
      "text/plain": [
       "         1          2          3          4          5          6          7 \n",
       "0.27468446 0.14953213 0.28288739 0.44342072 0.44735284 0.22360113 0.11881437 \n",
       "         8          9         10         11         12         13         14 \n",
       "0.28689453 0.22851480 0.25778142 0.31363775 0.15993888 0.74719890 0.71204089 \n",
       "        15         16         17         18         19         20         21 \n",
       "0.29930877 0.29930877 0.40504665 0.24284877 0.39401174 0.23704283 0.23200092 \n",
       "        22         23         24         25         26         27         28 \n",
       "0.27557376 0.03419582 0.23484931 0.39401174 0.05821077 0.23133328 0.07494511 \n",
       "        29         30         31         32         33         34         35 \n",
       "0.34701365 0.34904086 0.34904086 0.60765119 0.77640411 0.06961040 0.30697930 \n",
       "        36         37         38         39         40         41         42 \n",
       "0.18432274 0.18915753 0.22572058 0.06409089 0.27015075 0.28847417 0.04172967 \n",
       "        43         44         45         46         47         48         49 \n",
       "0.29031144 0.06462889 0.51480615 0.51480615 0.09739021 0.20227264 0.12390596 \n",
       "        50         51         52         53         54         55         56 \n",
       "0.56035420 0.45793774 0.21274189 0.20946623 0.31626299 0.24945214 0.26464891 \n",
       "        57         58         59         60         61         62         63 \n",
       "0.64457722 0.15362625 0.28689453 0.23772185 0.23772185 0.23772185 0.26464891 \n",
       "        64         65         66         67         68         69         70 \n",
       "0.08675530 0.64734053 0.47960419 0.24945214 0.08440492 0.37981690 0.44751096 \n",
       "        71         72         73         74         75         76         77 \n",
       "0.52179701 0.31171770 0.44153010 0.35266636 0.19659105 0.07800256 0.08675530 \n",
       "        78         79         80         81         82         83         84 \n",
       "0.43463545 0.52896159 0.04109774 0.09879853 0.05564728 0.26464891 0.21542015 \n",
       "        85         86         87         88         89         90         91 \n",
       "0.22637679 0.42200528 0.28042557 0.10022495 0.05160958 0.10763443 0.09599984 \n",
       "        92         93         94         95         96         97         98 \n",
       "0.19718414 0.24366496 0.75185051 0.19659105 0.09327222 0.07064844 0.16815501 \n",
       "        99        100        101        102        103        104        105 \n",
       "0.16815501 0.09061433 0.13280774 0.42046906 0.52670273 0.13280774 0.23484931 \n",
       "       106        107        108        109        110        111        112 \n",
       "0.31132603 0.12918376 0.05648974 0.23704283 0.17790432 0.04368167 0.23484931 \n",
       "       113        114        115        116        117        118        119 \n",
       "0.20946623 0.22493443 0.12293938 0.19718414 0.09327222 0.20745851 0.11552136 \n",
       "       120        121        122        123        124        125        126 \n",
       "0.31363775 0.06658038 0.13968993 0.12390596 0.10166964 0.10022495 0.11552136 \n",
       "       127        128        129        130        131        132        133 \n",
       "0.15412469 0.23704283 0.12218828 0.11073077 0.82706372 0.19091451 0.71753198 \n",
       "       134        135        136        137        138        139        140 \n",
       "0.88629075 0.53162439 0.15993888 0.48391679 0.56631245 0.62122356 0.49540085 \n",
       "       141        142        143        144        145        146        147 \n",
       "0.28288739 0.76353885 0.24945214 0.20745851 0.32667907 0.16158047 0.22140174 \n",
       "       148        149        150        151        152        153        154 \n",
       "0.35497286 0.28689453 0.37517658 0.60854507 0.14817206 0.42776776 0.50191273 \n",
       "       155        156        157        158        159        160        161 \n",
       "0.08931111 0.80309850 0.53292594 0.63445097 0.46425530 0.74513679 0.26702362 \n",
       "       162        163        164        165        166        167        168 \n",
       "0.54649156 0.26775838 0.16426289 0.80532838 0.66699518 0.56613456 0.31022120 \n",
       "       169        170        171        172        173        174        175 \n",
       "0.56129713 0.13280774 0.28198368 0.52499357 0.59162129 0.41316721 0.23484931 \n",
       "       176        177        178        179        180        181        182 \n",
       "0.40364246 0.20946623 0.23704283 0.52973494 0.32416700 0.78132337 0.28042557 \n",
       "       183        184        185        186        187        188        189 \n",
       "0.09251937 0.75338737 0.31626299 0.29676318 0.52481296 0.68611136 0.63152146 "
      ]
     },
     "metadata": {},
     "output_type": "display_data"
    }
   ],
   "source": [
    "# These are the model predicted probabilities\n",
    "# These are the guys we will slice with the thresholds\n",
    "# To do the ROC \n",
    "low2"
   ]
  },
  {
   "cell_type": "markdown",
   "metadata": {},
   "source": [
    "This can be done automatically "
   ]
  },
  {
   "cell_type": "code",
   "execution_count": 24,
   "metadata": {},
   "outputs": [
    {
     "name": "stderr",
     "output_type": "stream",
     "text": [
      "Setting levels: control = 0, case = 1\n",
      "\n",
      "Setting direction: controls < cases\n",
      "\n"
     ]
    },
    {
     "data": {
      "text/plain": [
       "\n",
       "Call:\n",
       "roc.default(response = df$low, predictor = low2, plot = T)\n",
       "\n",
       "Data: low2 in 130 controls (df$low 0) < 59 cases (df$low 1).\n",
       "Area under the curve: 0.758"
      ]
     },
     "metadata": {},
     "output_type": "display_data"
    },
    {
     "data": {
      "image/png": "[encoded data removed]",
      "text/plain": [
       "plot without title"
      ]
     },
     "metadata": {
      "image/png": {
       "height": 420,
       "width": 420
      },
      "text/plain": {
       "height": 420,
       "width": 420
      }
     },
     "output_type": "display_data"
    }
   ],
   "source": [
    "roc(df$low, low2, plot=T)"
   ]
  },
  {
   "cell_type": "markdown",
   "metadata": {},
   "source": [
    "Usually the x axis is 1-specificity. R orders it in the opposite direction. "
   ]
  },
  {
   "cell_type": "markdown",
   "metadata": {},
   "source": [
    "Lets give interpretation to our optimal model.\n"
   ]
  },
  {
   "cell_type": "code",
   "execution_count": 25,
   "metadata": {},
   "outputs": [
    {
     "data": {
      "text/html": [
       "<style>\n",
       ".dl-inline {width: auto; margin:0; padding: 0}\n",
       ".dl-inline>dt, .dl-inline>dd {float: none; width: auto; display: inline-block}\n",
       ".dl-inline>dt::after {content: \":\\0020\"; padding-right: .5ex}\n",
       ".dl-inline>dt:not(:first-of-type) {padding-left: .5ex}\n",
       "</style><dl class=dl-inline><dt>(Intercept)</dt><dd>-0.125326040617679</dd><dt>lwt</dt><dd>-0.0159184738376727</dd><dt>smoke</dt><dd>0.866581826118136</dd><dt>ht</dt><dd>1.86689526400243</dd><dt>ui</dt><dd>0.750648796993784</dd><dt>ptl.cat1+</dt><dd>1.12885660907367</dd><dt>race.catAA</dt><dd>1.30085571195084</dd><dt>race.catOther</dt><dd>0.8544141771987</dd></dl>\n"
      ],
      "text/latex": [
       "\\begin{description*}\n",
       "\\item[(Intercept)] -0.125326040617679\n",
       "\\item[lwt] -0.0159184738376727\n",
       "\\item[smoke] 0.866581826118136\n",
       "\\item[ht] 1.86689526400243\n",
       "\\item[ui] 0.750648796993784\n",
       "\\item[ptl.cat1+] 1.12885660907367\n",
       "\\item[race.catAA] 1.30085571195084\n",
       "\\item[race.catOther] 0.8544141771987\n",
       "\\end{description*}\n"
      ],
      "text/markdown": [
       "(Intercept)\n",
       ":   -0.125326040617679lwt\n",
       ":   -0.0159184738376727smoke\n",
       ":   0.866581826118136ht\n",
       ":   1.86689526400243ui\n",
       ":   0.750648796993784ptl.cat1+\n",
       ":   1.12885660907367race.catAA\n",
       ":   1.30085571195084race.catOther\n",
       ":   0.8544141771987\n",
       "\n"
      ],
      "text/plain": [
       "  (Intercept)           lwt         smoke            ht            ui \n",
       "  -0.12532604   -0.01591847    0.86658183    1.86689526    0.75064880 \n",
       "    ptl.cat1+    race.catAA race.catOther \n",
       "   1.12885661    1.30085571    0.85441418 "
      ]
     },
     "metadata": {},
     "output_type": "display_data"
    },
    {
     "data": {
      "text/html": [
       "<style>\n",
       ".dl-inline {width: auto; margin:0; padding: 0}\n",
       ".dl-inline>dt, .dl-inline>dd {float: none; width: auto; display: inline-block}\n",
       ".dl-inline>dt::after {content: \":\\0020\"; padding-right: .5ex}\n",
       ".dl-inline>dt:not(:first-of-type) {padding-left: .5ex}\n",
       "</style><dl class=dl-inline><dt>(Intercept)</dt><dd>0.882209219650087</dd><dt>lwt</dt><dd>0.984207555449528</dd><dt>smoke</dt><dd>2.37876590554106</dd><dt>ht</dt><dd>6.46818319115017</dd><dt>ui</dt><dd>2.11837396551806</dd><dt>ptl.cat1+</dt><dd>3.09211897734256</dd><dt>race.catAA</dt><dd>3.67243787242048</dd><dt>race.catOther</dt><dd>2.34999729525174</dd></dl>\n"
      ],
      "text/latex": [
       "\\begin{description*}\n",
       "\\item[(Intercept)] 0.882209219650087\n",
       "\\item[lwt] 0.984207555449528\n",
       "\\item[smoke] 2.37876590554106\n",
       "\\item[ht] 6.46818319115017\n",
       "\\item[ui] 2.11837396551806\n",
       "\\item[ptl.cat1+] 3.09211897734256\n",
       "\\item[race.catAA] 3.67243787242048\n",
       "\\item[race.catOther] 2.34999729525174\n",
       "\\end{description*}\n"
      ],
      "text/markdown": [
       "(Intercept)\n",
       ":   0.882209219650087lwt\n",
       ":   0.984207555449528smoke\n",
       ":   2.37876590554106ht\n",
       ":   6.46818319115017ui\n",
       ":   2.11837396551806ptl.cat1+\n",
       ":   3.09211897734256race.catAA\n",
       ":   3.67243787242048race.catOther\n",
       ":   2.34999729525174\n",
       "\n"
      ],
      "text/plain": [
       "  (Intercept)           lwt         smoke            ht            ui \n",
       "    0.8822092     0.9842076     2.3787659     6.4681832     2.1183740 \n",
       "    ptl.cat1+    race.catAA race.catOther \n",
       "    3.0921190     3.6724379     2.3499973 "
      ]
     },
     "metadata": {},
     "output_type": "display_data"
    }
   ],
   "source": [
    "summary(final1)$coef[,1] # Grab the coefs then grab the effect\n",
    "# sizes and exponentiate them all at once\n",
    "# Remember when we give interpretation of logreg\n",
    "# coefs we always exponentiate it. cuz these have\n",
    "# interpretation in terms of logs ratio.\n",
    "\n",
    "exp(summary(final1)$coef[,1])"
   ]
  },
  {
   "cell_type": "code",
   "execution_count": 26,
   "metadata": {},
   "outputs": [
    {
     "data": {
      "text/html": [
       "<style>\n",
       ".dl-inline {width: auto; margin:0; padding: 0}\n",
       ".dl-inline>dt, .dl-inline>dd {float: none; width: auto; display: inline-block}\n",
       ".dl-inline>dt::after {content: \":\\0020\"; padding-right: .5ex}\n",
       ".dl-inline>dt:not(:first-of-type) {padding-left: .5ex}\n",
       "</style><dl class=dl-inline><dt>(Intercept)</dt><dd>0.882209219650087</dd><dt>lwt</dt><dd>0.984207555449528</dd><dt>smoke</dt><dd>2.37876590554106</dd><dt>ht</dt><dd>6.46818319115017</dd><dt>ui</dt><dd>2.11837396551806</dd><dt>ptl.cat1+</dt><dd>3.09211897734256</dd><dt>race.catAA</dt><dd>3.67243787242048</dd><dt>race.catOther</dt><dd>2.34999729525174</dd></dl>\n"
      ],
      "text/latex": [
       "\\begin{description*}\n",
       "\\item[(Intercept)] 0.882209219650087\n",
       "\\item[lwt] 0.984207555449528\n",
       "\\item[smoke] 2.37876590554106\n",
       "\\item[ht] 6.46818319115017\n",
       "\\item[ui] 2.11837396551806\n",
       "\\item[ptl.cat1+] 3.09211897734256\n",
       "\\item[race.catAA] 3.67243787242048\n",
       "\\item[race.catOther] 2.34999729525174\n",
       "\\end{description*}\n"
      ],
      "text/markdown": [
       "(Intercept)\n",
       ":   0.882209219650087lwt\n",
       ":   0.984207555449528smoke\n",
       ":   2.37876590554106ht\n",
       ":   6.46818319115017ui\n",
       ":   2.11837396551806ptl.cat1+\n",
       ":   3.09211897734256race.catAA\n",
       ":   3.67243787242048race.catOther\n",
       ":   2.34999729525174\n",
       "\n"
      ],
      "text/plain": [
       "  (Intercept)           lwt         smoke            ht            ui \n",
       "    0.8822092     0.9842076     2.3787659     6.4681832     2.1183740 \n",
       "    ptl.cat1+    race.catAA race.catOther \n",
       "    3.0921190     3.6724379     2.3499973 "
      ]
     },
     "metadata": {},
     "output_type": "display_data"
    }
   ],
   "source": [
    "exp(summary(final1)$coef[,1])"
   ]
  },
  {
   "cell_type": "markdown",
   "metadata": {},
   "source": [
    ".88 to 1 odds, would be the odds ratio for the mom to have low birthweight child if she was white, didnt smoke, no hypertension, no ui, no preterm labor events, and a 0 pound mom\n",
    "Odds is probability of having it vs the odds she doesnt.\n",
    "\n",
    "lwt: weight of mum\n",
    "for every pound, each pound of weight reduces the odds of low birth weight by 1.5 % \n",
    "\n",
    "odds of having a lbwt baby is 137% higher for smokers vs non smokers\n",
    "\n",
    "for ui its 111% increase\n",
    "ptl events odds increases more than 3 fold\n",
    "aa mothers is 267% higher compared to caucasian mothers\n",
    "\n",
    "for other mothers its 135% highger compared to caucasian mothers."
   ]
  },
  {
   "cell_type": "code",
   "execution_count": 27,
   "metadata": {},
   "outputs": [],
   "source": [
    "# type = response is syaing do it on the probability \n",
    "# scale, not the log-odds scale\n",
    "# Look up log-odds scale"
   ]
  },
  {
   "cell_type": "markdown",
   "metadata": {},
   "source": [
    "Can we make the model better?"
   ]
  },
  {
   "cell_type": "code",
   "execution_count": null,
   "metadata": {},
   "outputs": [],
   "source": []
  },
  {
   "cell_type": "markdown",
   "metadata": {},
   "source": [
    "Finding the closest point to the upper LHS corner. Can be done with a package or yourself. \n",
    "\n",
    "He wants us to do it ourselves and compare with package."
   ]
  },
  {
   "cell_type": "code",
   "execution_count": null,
   "metadata": {},
   "outputs": [],
   "source": []
  },
  {
   "cell_type": "markdown",
   "metadata": {},
   "source": [
    "Building a model with interactions, lets see how much AUC would improve."
   ]
  },
  {
   "cell_type": "code",
   "execution_count": 28,
   "metadata": {},
   "outputs": [
    {
     "name": "stdout",
     "output_type": "stream",
     "text": [
      "Start:  AIC=217.5\n",
      "low ~ age + lwt + smoke + ht + ui + ptl.cat + ftv.cat + race.cat\n",
      "\n",
      "                   Df Deviance    AIC\n",
      "+ age:ftv.cat       2   184.47 210.47\n",
      "- ftv.cat           2   196.83 214.83\n",
      "- age               1   196.37 216.37\n",
      "<none>                  195.50 217.50\n",
      "+ smoke:ui          1   193.86 217.86\n",
      "- ui                1   197.90 217.90\n",
      "+ lwt:smoke         1   194.10 218.10\n",
      "+ lwt:ui            1   194.18 218.18\n",
      "+ ui:ptl.cat        1   194.31 218.31\n",
      "+ ui:race.cat       2   192.43 218.43\n",
      "+ age:ptl.cat       1   194.51 218.51\n",
      "+ ht:ptl.cat        1   194.54 218.54\n",
      "+ age:ht            1   194.60 218.60\n",
      "+ age:smoke         1   194.62 218.62\n",
      "- smoke             1   198.82 218.82\n",
      "+ lwt:ftv.cat       2   193.10 219.10\n",
      "+ smoke:ht          1   195.16 219.16\n",
      "+ smoke:ptl.cat     1   195.23 219.23\n",
      "+ smoke:race.cat    2   193.28 219.28\n",
      "- race.cat          2   201.29 219.29\n",
      "+ lwt:ptl.cat       1   195.38 219.38\n",
      "+ lwt:ht            1   195.47 219.47\n",
      "+ age:lwt           1   195.50 219.50\n",
      "+ age:ui            1   195.50 219.50\n",
      "+ ht:ftv.cat        2   194.36 220.36\n",
      "+ ui:ftv.cat        2   194.50 220.50\n",
      "+ lwt:race.cat      2   194.51 220.51\n",
      "- lwt               1   200.65 220.65\n",
      "+ ptl.cat:ftv.cat   2   194.72 220.72\n",
      "+ age:race.cat      2   194.83 220.83\n",
      "+ ptl.cat:race.cat  2   195.04 221.04\n",
      "+ ht:race.cat       2   195.12 221.12\n",
      "+ smoke:ftv.cat     2   195.20 221.20\n",
      "- ht                1   202.30 222.30\n",
      "- ptl.cat           1   202.86 222.86\n",
      "+ ftv.cat:race.cat  4   194.56 224.56\n",
      "\n",
      "Step:  AIC=210.47\n",
      "low ~ age + lwt + smoke + ht + ui + ptl.cat + ftv.cat + race.cat + \n",
      "    age:ftv.cat\n",
      "\n"
     ]
    },
    {
     "name": "stderr",
     "output_type": "stream",
     "text": [
      "Warning message:\n",
      "“glm.fit: fitted probabilities numerically 0 or 1 occurred”\n"
     ]
    },
    {
     "name": "stdout",
     "output_type": "stream",
     "text": [
      "                   Df Deviance    AIC\n",
      "+ lwt:ftv.cat       2   177.47 207.47\n",
      "+ smoke:ui          1   181.86 209.86\n",
      "+ ui:ptl.cat        1   181.95 209.95\n",
      "+ lwt:smoke         1   182.25 210.25\n",
      "- race.cat          2   188.29 210.29\n",
      "<none>                  184.47 210.47\n",
      "+ lwt:ui            1   183.30 211.30\n",
      "+ ht:ptl.cat        1   183.35 211.35\n",
      "+ ui:race.cat       2   181.48 211.48\n",
      "+ age:smoke         1   183.66 211.66\n",
      "- smoke             1   187.86 211.86\n",
      "- ui                1   187.91 211.91\n",
      "+ smoke:ptl.cat     1   184.14 212.14\n",
      "+ age:ptl.cat       1   184.25 212.25\n",
      "+ lwt:ptl.cat       1   184.26 212.26\n",
      "+ smoke:ht          1   184.33 212.33\n",
      "+ age:ht            1   184.34 212.34\n",
      "+ age:ui            1   184.46 212.46\n",
      "+ lwt:ht            1   184.47 212.47\n",
      "+ age:lwt           1   184.47 212.47\n",
      "+ smoke:race.cat    2   182.64 212.64\n",
      "+ age:race.cat      2   183.00 213.00\n",
      "+ smoke:ftv.cat     2   183.50 213.50\n",
      "+ ht:ftv.cat        2   183.62 213.62\n",
      "- lwt               1   189.85 213.85\n",
      "+ lwt:race.cat      2   183.96 213.96\n",
      "+ ht:race.cat       2   184.15 214.15\n",
      "+ ptl.cat:ftv.cat   2   184.34 214.34\n",
      "+ ui:ftv.cat        2   184.36 214.36\n",
      "+ ptl.cat:race.cat  2   184.41 214.41\n",
      "- ht                1   190.71 214.71\n",
      "+ ftv.cat:race.cat  4   182.25 216.25\n",
      "- ptl.cat           1   192.32 216.32\n",
      "- age:ftv.cat       2   195.50 217.50\n"
     ]
    },
    {
     "name": "stderr",
     "output_type": "stream",
     "text": [
      "Warning message:\n",
      "“glm.fit: fitted probabilities numerically 0 or 1 occurred”\n"
     ]
    },
    {
     "name": "stdout",
     "output_type": "stream",
     "text": [
      "\n",
      "Step:  AIC=207.47\n",
      "low ~ age + lwt + smoke + ht + ui + ptl.cat + ftv.cat + race.cat + \n",
      "    age:ftv.cat + lwt:ftv.cat\n",
      "\n"
     ]
    },
    {
     "name": "stderr",
     "output_type": "stream",
     "text": [
      "Warning message:\n",
      "“glm.fit: fitted probabilities numerically 0 or 1 occurred”\n",
      "Warning message:\n",
      "“glm.fit: fitted probabilities numerically 0 or 1 occurred”\n",
      "Warning message:\n",
      "“glm.fit: fitted probabilities numerically 0 or 1 occurred”\n",
      "Warning message:\n",
      "“glm.fit: fitted probabilities numerically 0 or 1 occurred”\n",
      "Warning message:\n",
      "“glm.fit: fitted probabilities numerically 0 or 1 occurred”\n",
      "Warning message:\n",
      "“glm.fit: fitted probabilities numerically 0 or 1 occurred”\n",
      "Warning message:\n",
      "“glm.fit: fitted probabilities numerically 0 or 1 occurred”\n",
      "Warning message:\n",
      "“glm.fit: fitted probabilities numerically 0 or 1 occurred”\n",
      "Warning message:\n",
      "“glm.fit: fitted probabilities numerically 0 or 1 occurred”\n",
      "Warning message:\n",
      "“glm.fit: fitted probabilities numerically 0 or 1 occurred”\n",
      "Warning message:\n",
      "“glm.fit: fitted probabilities numerically 0 or 1 occurred”\n",
      "Warning message:\n",
      "“glm.fit: fitted probabilities numerically 0 or 1 occurred”\n",
      "Warning message:\n",
      "“glm.fit: fitted probabilities numerically 0 or 1 occurred”\n",
      "Warning message:\n",
      "“glm.fit: fitted probabilities numerically 0 or 1 occurred”\n",
      "Warning message:\n",
      "“glm.fit: fitted probabilities numerically 0 or 1 occurred”\n",
      "Warning message:\n",
      "“glm.fit: fitted probabilities numerically 0 or 1 occurred”\n",
      "Warning message:\n",
      "“glm.fit: fitted probabilities numerically 0 or 1 occurred”\n",
      "Warning message:\n",
      "“glm.fit: fitted probabilities numerically 0 or 1 occurred”\n",
      "Warning message:\n",
      "“glm.fit: fitted probabilities numerically 0 or 1 occurred”\n",
      "Warning message:\n",
      "“glm.fit: fitted probabilities numerically 0 or 1 occurred”\n",
      "Warning message:\n",
      "“glm.fit: fitted probabilities numerically 0 or 1 occurred”\n",
      "Warning message:\n",
      "“glm.fit: fitted probabilities numerically 0 or 1 occurred”\n",
      "Warning message:\n",
      "“glm.fit: fitted probabilities numerically 0 or 1 occurred”\n",
      "Warning message:\n",
      "“glm.fit: fitted probabilities numerically 0 or 1 occurred”\n",
      "Warning message:\n",
      "“glm.fit: fitted probabilities numerically 0 or 1 occurred”\n",
      "Warning message:\n",
      "“glm.fit: fitted probabilities numerically 0 or 1 occurred”\n",
      "Warning message:\n",
      "“glm.fit: fitted probabilities numerically 0 or 1 occurred”\n",
      "Warning message:\n",
      "“glm.fit: fitted probabilities numerically 0 or 1 occurred”\n",
      "Warning message:\n",
      "“glm.fit: fitted probabilities numerically 0 or 1 occurred”\n",
      "Warning message:\n",
      "“glm.fit: fitted probabilities numerically 0 or 1 occurred”\n",
      "Warning message:\n",
      "“glm.fit: fitted probabilities numerically 0 or 1 occurred”\n",
      "Warning message:\n",
      "“glm.fit: fitted probabilities numerically 0 or 1 occurred”\n"
     ]
    },
    {
     "name": "stdout",
     "output_type": "stream",
     "text": [
      "                   Df Deviance    AIC\n",
      "+ ui:ptl.cat        1   174.81 206.81\n",
      "- race.cat          2   181.11 207.11\n",
      "+ smoke:ui          1   175.14 207.14\n",
      "<none>                  177.47 207.47\n",
      "+ lwt:smoke         1   175.62 207.62\n",
      "+ age:smoke         1   175.92 207.92\n",
      "- smoke             1   180.01 208.01\n",
      "+ ht:ptl.cat        1   176.39 208.39\n",
      "- ui                1   180.64 208.64\n",
      "+ smoke:ptl.cat     1   176.69 208.69\n",
      "+ lwt:ptl.cat       1   176.89 208.89\n",
      "+ lwt:ui            1   176.94 208.94\n",
      "+ ui:race.cat       2   175.08 209.08\n",
      "+ age:ht            1   177.29 209.29\n",
      "+ age:lwt           1   177.32 209.32\n",
      "+ smoke:ht          1   177.40 209.40\n",
      "+ age:ptl.cat       1   177.40 209.40\n",
      "+ age:ui            1   177.40 209.40\n",
      "+ lwt:ht            1   177.46 209.46\n",
      "+ age:race.cat      2   175.91 209.91\n",
      "+ smoke:race.cat    2   176.29 210.29\n",
      "- ht                1   182.46 210.46\n",
      "- lwt:ftv.cat       2   184.47 210.47\n",
      "+ smoke:ftv.cat     2   176.77 210.77\n",
      "+ ht:race.cat       2   176.88 210.88\n",
      "+ lwt:race.cat      2   176.91 210.91\n",
      "+ ht:ftv.cat        2   177.17 211.17\n",
      "+ ptl.cat:race.cat  2   177.31 211.31\n",
      "+ ptl.cat:ftv.cat   2   177.42 211.42\n",
      "+ ui:ftv.cat        2   177.46 211.46\n",
      "- ptl.cat           1   184.93 212.93\n",
      "+ ftv.cat:race.cat  4   177.39 215.39\n",
      "- age:ftv.cat       2   193.10 219.10\n"
     ]
    },
    {
     "name": "stderr",
     "output_type": "stream",
     "text": [
      "Warning message:\n",
      "“glm.fit: fitted probabilities numerically 0 or 1 occurred”\n"
     ]
    },
    {
     "name": "stdout",
     "output_type": "stream",
     "text": [
      "\n",
      "Step:  AIC=206.81\n",
      "low ~ age + lwt + smoke + ht + ui + ptl.cat + ftv.cat + race.cat + \n",
      "    age:ftv.cat + lwt:ftv.cat + ui:ptl.cat\n",
      "\n"
     ]
    },
    {
     "name": "stderr",
     "output_type": "stream",
     "text": [
      "Warning message:\n",
      "“glm.fit: fitted probabilities numerically 0 or 1 occurred”\n",
      "Warning message:\n",
      "“glm.fit: fitted probabilities numerically 0 or 1 occurred”\n",
      "Warning message:\n",
      "“glm.fit: fitted probabilities numerically 0 or 1 occurred”\n",
      "Warning message:\n",
      "“glm.fit: fitted probabilities numerically 0 or 1 occurred”\n",
      "Warning message:\n",
      "“glm.fit: fitted probabilities numerically 0 or 1 occurred”\n",
      "Warning message:\n",
      "“glm.fit: fitted probabilities numerically 0 or 1 occurred”\n",
      "Warning message:\n",
      "“glm.fit: fitted probabilities numerically 0 or 1 occurred”\n",
      "Warning message:\n",
      "“glm.fit: fitted probabilities numerically 0 or 1 occurred”\n",
      "Warning message:\n",
      "“glm.fit: fitted probabilities numerically 0 or 1 occurred”\n",
      "Warning message:\n",
      "“glm.fit: fitted probabilities numerically 0 or 1 occurred”\n",
      "Warning message:\n",
      "“glm.fit: fitted probabilities numerically 0 or 1 occurred”\n",
      "Warning message:\n",
      "“glm.fit: fitted probabilities numerically 0 or 1 occurred”\n",
      "Warning message:\n",
      "“glm.fit: fitted probabilities numerically 0 or 1 occurred”\n",
      "Warning message:\n",
      "“glm.fit: fitted probabilities numerically 0 or 1 occurred”\n",
      "Warning message:\n",
      "“glm.fit: fitted probabilities numerically 0 or 1 occurred”\n",
      "Warning message:\n",
      "“glm.fit: fitted probabilities numerically 0 or 1 occurred”\n",
      "Warning message:\n",
      "“glm.fit: fitted probabilities numerically 0 or 1 occurred”\n",
      "Warning message:\n",
      "“glm.fit: fitted probabilities numerically 0 or 1 occurred”\n",
      "Warning message:\n",
      "“glm.fit: fitted probabilities numerically 0 or 1 occurred”\n",
      "Warning message:\n",
      "“glm.fit: fitted probabilities numerically 0 or 1 occurred”\n",
      "Warning message:\n",
      "“glm.fit: fitted probabilities numerically 0 or 1 occurred”\n",
      "Warning message:\n",
      "“glm.fit: fitted probabilities numerically 0 or 1 occurred”\n",
      "Warning message:\n",
      "“glm.fit: fitted probabilities numerically 0 or 1 occurred”\n",
      "Warning message:\n",
      "“glm.fit: fitted probabilities numerically 0 or 1 occurred”\n",
      "Warning message:\n",
      "“glm.fit: fitted probabilities numerically 0 or 1 occurred”\n",
      "Warning message:\n",
      "“glm.fit: fitted probabilities numerically 0 or 1 occurred”\n",
      "Warning message:\n",
      "“glm.fit: fitted probabilities numerically 0 or 1 occurred”\n",
      "Warning message:\n",
      "“glm.fit: fitted probabilities numerically 0 or 1 occurred”\n",
      "Warning message:\n",
      "“glm.fit: fitted probabilities numerically 0 or 1 occurred”\n",
      "Warning message:\n",
      "“glm.fit: fitted probabilities numerically 0 or 1 occurred”\n"
     ]
    },
    {
     "name": "stdout",
     "output_type": "stream",
     "text": [
      "                   Df Deviance    AIC\n",
      "- race.cat          2   177.56 205.56\n",
      "+ lwt:smoke         1   172.65 206.65\n",
      "<none>                  174.81 206.81\n",
      "+ age:smoke         1   173.13 207.13\n",
      "+ smoke:ui          1   173.25 207.25\n",
      "- smoke             1   177.26 207.26\n",
      "- ui:ptl.cat        1   177.47 207.47\n",
      "+ smoke:ptl.cat     1   173.95 207.95\n",
      "+ ht:ptl.cat        1   174.10 208.10\n",
      "+ lwt:ui            1   174.12 208.12\n",
      "+ lwt:ptl.cat       1   174.29 208.29\n",
      "+ age:ptl.cat       1   174.41 208.41\n",
      "+ age:ui            1   174.56 208.56\n",
      "+ age:lwt           1   174.58 208.58\n",
      "+ age:ht            1   174.68 208.68\n",
      "+ smoke:ht          1   174.74 208.74\n",
      "+ lwt:ht            1   174.80 208.80\n",
      "+ ui:race.cat       2   173.45 209.45\n",
      "+ age:race.cat      2   173.50 209.50\n",
      "- ht                1   179.62 209.62\n",
      "+ smoke:race.cat    2   173.66 209.66\n",
      "- lwt:ftv.cat       2   181.95 209.95\n",
      "+ smoke:ftv.cat     2   174.04 210.04\n",
      "+ ht:race.cat       2   174.07 210.07\n",
      "+ ptl.cat:race.cat  2   174.34 210.34\n",
      "+ lwt:race.cat      2   174.53 210.53\n",
      "+ ht:ftv.cat        2   174.65 210.65\n",
      "+ ui:ftv.cat        2   174.76 210.76\n",
      "+ ptl.cat:ftv.cat   2   174.80 210.80\n",
      "+ ftv.cat:race.cat  4   174.66 214.66\n",
      "- age:ftv.cat       2   191.97 219.97\n"
     ]
    },
    {
     "name": "stderr",
     "output_type": "stream",
     "text": [
      "Warning message:\n",
      "“glm.fit: fitted probabilities numerically 0 or 1 occurred”\n"
     ]
    },
    {
     "name": "stdout",
     "output_type": "stream",
     "text": [
      "\n",
      "Step:  AIC=205.56\n",
      "low ~ age + lwt + smoke + ht + ui + ptl.cat + ftv.cat + age:ftv.cat + \n",
      "    lwt:ftv.cat + ui:ptl.cat\n",
      "\n"
     ]
    },
    {
     "name": "stderr",
     "output_type": "stream",
     "text": [
      "Warning message:\n",
      "“glm.fit: fitted probabilities numerically 0 or 1 occurred”\n",
      "Warning message:\n",
      "“glm.fit: fitted probabilities numerically 0 or 1 occurred”\n",
      "Warning message:\n",
      "“glm.fit: fitted probabilities numerically 0 or 1 occurred”\n",
      "Warning message:\n",
      "“glm.fit: fitted probabilities numerically 0 or 1 occurred”\n",
      "Warning message:\n",
      "“glm.fit: fitted probabilities numerically 0 or 1 occurred”\n",
      "Warning message:\n",
      "“glm.fit: fitted probabilities numerically 0 or 1 occurred”\n",
      "Warning message:\n",
      "“glm.fit: fitted probabilities numerically 0 or 1 occurred”\n",
      "Warning message:\n",
      "“glm.fit: fitted probabilities numerically 0 or 1 occurred”\n",
      "Warning message:\n",
      "“glm.fit: fitted probabilities numerically 0 or 1 occurred”\n",
      "Warning message:\n",
      "“glm.fit: fitted probabilities numerically 0 or 1 occurred”\n",
      "Warning message:\n",
      "“glm.fit: fitted probabilities numerically 0 or 1 occurred”\n",
      "Warning message:\n",
      "“glm.fit: fitted probabilities numerically 0 or 1 occurred”\n",
      "Warning message:\n",
      "“glm.fit: fitted probabilities numerically 0 or 1 occurred”\n",
      "Warning message:\n",
      "“glm.fit: fitted probabilities numerically 0 or 1 occurred”\n",
      "Warning message:\n",
      "“glm.fit: fitted probabilities numerically 0 or 1 occurred”\n",
      "Warning message:\n",
      "“glm.fit: fitted probabilities numerically 0 or 1 occurred”\n",
      "Warning message:\n",
      "“glm.fit: fitted probabilities numerically 0 or 1 occurred”\n",
      "Warning message:\n",
      "“glm.fit: fitted probabilities numerically 0 or 1 occurred”\n",
      "Warning message:\n",
      "“glm.fit: fitted probabilities numerically 0 or 1 occurred”\n",
      "Warning message:\n",
      "“glm.fit: fitted probabilities numerically 0 or 1 occurred”\n",
      "Warning message:\n",
      "“glm.fit: fitted probabilities numerically 0 or 1 occurred”\n",
      "Warning message:\n",
      "“glm.fit: fitted probabilities numerically 0 or 1 occurred”\n",
      "Warning message:\n",
      "“glm.fit: fitted probabilities numerically 0 or 1 occurred”\n"
     ]
    },
    {
     "name": "stdout",
     "output_type": "stream",
     "text": [
      "                  Df Deviance    AIC\n",
      "+ lwt:smoke        1   174.85 204.85\n",
      "+ age:smoke        1   174.91 204.91\n",
      "- smoke            1   178.94 204.94\n",
      "+ smoke:ui         1   175.53 205.53\n",
      "<none>                 177.56 205.56\n",
      "+ lwt:ui           1   176.44 206.44\n",
      "+ race.cat         2   174.81 206.81\n",
      "+ smoke:ptl.cat    1   176.85 206.85\n",
      "+ ht:ptl.cat       1   176.92 206.92\n",
      "+ lwt:ptl.cat      1   176.98 206.98\n",
      "- ui:ptl.cat       1   181.11 207.11\n",
      "+ age:ui           1   177.14 207.14\n",
      "+ age:ht           1   177.19 207.19\n",
      "+ age:ptl.cat      1   177.27 207.27\n",
      "+ age:lwt          1   177.38 207.38\n",
      "+ lwt:ht           1   177.50 207.50\n",
      "+ smoke:ht         1   177.51 207.51\n",
      "+ smoke:ftv.cat    2   176.65 208.65\n",
      "- ht               1   182.79 208.79\n",
      "- lwt:ftv.cat      2   185.00 209.00\n",
      "+ ui:ftv.cat       2   177.52 209.52\n",
      "+ ht:ftv.cat       2   177.55 209.55\n",
      "+ ptl.cat:ftv.cat  2   177.55 209.55\n",
      "- age:ftv.cat      2   197.46 221.46\n"
     ]
    },
    {
     "name": "stderr",
     "output_type": "stream",
     "text": [
      "Warning message:\n",
      "“glm.fit: fitted probabilities numerically 0 or 1 occurred”\n"
     ]
    },
    {
     "name": "stdout",
     "output_type": "stream",
     "text": [
      "\n",
      "Step:  AIC=204.85\n",
      "low ~ age + lwt + smoke + ht + ui + ptl.cat + ftv.cat + age:ftv.cat + \n",
      "    lwt:ftv.cat + ui:ptl.cat + lwt:smoke\n",
      "\n"
     ]
    },
    {
     "name": "stderr",
     "output_type": "stream",
     "text": [
      "Warning message:\n",
      "“glm.fit: fitted probabilities numerically 0 or 1 occurred”\n",
      "Warning message:\n",
      "“glm.fit: fitted probabilities numerically 0 or 1 occurred”\n",
      "Warning message:\n",
      "“glm.fit: fitted probabilities numerically 0 or 1 occurred”\n",
      "Warning message:\n",
      "“glm.fit: fitted probabilities numerically 0 or 1 occurred”\n",
      "Warning message:\n",
      "“glm.fit: fitted probabilities numerically 0 or 1 occurred”\n",
      "Warning message:\n",
      "“glm.fit: fitted probabilities numerically 0 or 1 occurred”\n",
      "Warning message:\n",
      "“glm.fit: fitted probabilities numerically 0 or 1 occurred”\n",
      "Warning message:\n",
      "“glm.fit: fitted probabilities numerically 0 or 1 occurred”\n",
      "Warning message:\n",
      "“glm.fit: fitted probabilities numerically 0 or 1 occurred”\n",
      "Warning message:\n",
      "“glm.fit: fitted probabilities numerically 0 or 1 occurred”\n",
      "Warning message:\n",
      "“glm.fit: fitted probabilities numerically 0 or 1 occurred”\n",
      "Warning message:\n",
      "“glm.fit: fitted probabilities numerically 0 or 1 occurred”\n",
      "Warning message:\n",
      "“glm.fit: fitted probabilities numerically 0 or 1 occurred”\n",
      "Warning message:\n",
      "“glm.fit: fitted probabilities numerically 0 or 1 occurred”\n",
      "Warning message:\n",
      "“glm.fit: fitted probabilities numerically 0 or 1 occurred”\n",
      "Warning message:\n",
      "“glm.fit: fitted probabilities numerically 0 or 1 occurred”\n",
      "Warning message:\n",
      "“glm.fit: fitted probabilities numerically 0 or 1 occurred”\n",
      "Warning message:\n",
      "“glm.fit: fitted probabilities numerically 0 or 1 occurred”\n",
      "Warning message:\n",
      "“glm.fit: fitted probabilities numerically 0 or 1 occurred”\n",
      "Warning message:\n",
      "“glm.fit: fitted probabilities numerically 0 or 1 occurred”\n",
      "Warning message:\n",
      "“glm.fit: fitted probabilities numerically 0 or 1 occurred”\n",
      "Warning message:\n",
      "“glm.fit: fitted probabilities numerically 0 or 1 occurred”\n"
     ]
    },
    {
     "name": "stdout",
     "output_type": "stream",
     "text": [
      "                  Df Deviance    AIC\n",
      "+ lwt:ui           1   172.71 204.71\n",
      "+ age:smoke        1   172.77 204.77\n",
      "<none>                 174.85 204.85\n",
      "+ smoke:ui         1   173.35 205.35\n",
      "- lwt:smoke        1   177.56 205.56\n",
      "+ ht:ptl.cat       1   173.99 205.99\n",
      "+ smoke:ptl.cat    1   174.02 206.02\n",
      "+ lwt:ptl.cat      1   174.34 206.34\n",
      "+ age:ht           1   174.43 206.43\n",
      "+ age:ptl.cat      1   174.44 206.44\n",
      "- ht               1   178.58 206.58\n",
      "+ race.cat         2   172.65 206.65\n",
      "+ smoke:ht         1   174.66 206.66\n",
      "+ age:lwt          1   174.70 206.70\n",
      "+ age:ui           1   174.70 206.70\n",
      "- ui:ptl.cat       1   178.78 206.78\n",
      "+ lwt:ht           1   174.84 206.84\n",
      "+ smoke:ftv.cat    2   174.15 208.15\n",
      "- lwt:ftv.cat      2   182.26 208.26\n",
      "+ ptl.cat:ftv.cat  2   174.79 208.79\n",
      "+ ht:ftv.cat       2   174.81 208.81\n",
      "+ ui:ftv.cat       2   174.81 208.81\n",
      "- age:ftv.cat      2   195.62 221.62\n"
     ]
    },
    {
     "name": "stderr",
     "output_type": "stream",
     "text": [
      "Warning message:\n",
      "“glm.fit: fitted probabilities numerically 0 or 1 occurred”\n"
     ]
    },
    {
     "name": "stdout",
     "output_type": "stream",
     "text": [
      "\n",
      "Step:  AIC=204.71\n",
      "low ~ age + lwt + smoke + ht + ui + ptl.cat + ftv.cat + age:ftv.cat + \n",
      "    lwt:ftv.cat + ui:ptl.cat + lwt:smoke + lwt:ui\n",
      "\n"
     ]
    },
    {
     "name": "stderr",
     "output_type": "stream",
     "text": [
      "Warning message:\n",
      "“glm.fit: fitted probabilities numerically 0 or 1 occurred”\n",
      "Warning message:\n",
      "“glm.fit: fitted probabilities numerically 0 or 1 occurred”\n",
      "Warning message:\n",
      "“glm.fit: fitted probabilities numerically 0 or 1 occurred”\n",
      "Warning message:\n",
      "“glm.fit: fitted probabilities numerically 0 or 1 occurred”\n",
      "Warning message:\n",
      "“glm.fit: fitted probabilities numerically 0 or 1 occurred”\n",
      "Warning message:\n",
      "“glm.fit: fitted probabilities numerically 0 or 1 occurred”\n",
      "Warning message:\n",
      "“glm.fit: fitted probabilities numerically 0 or 1 occurred”\n",
      "Warning message:\n",
      "“glm.fit: fitted probabilities numerically 0 or 1 occurred”\n",
      "Warning message:\n",
      "“glm.fit: fitted probabilities numerically 0 or 1 occurred”\n",
      "Warning message:\n",
      "“glm.fit: fitted probabilities numerically 0 or 1 occurred”\n",
      "Warning message:\n",
      "“glm.fit: fitted probabilities numerically 0 or 1 occurred”\n",
      "Warning message:\n",
      "“glm.fit: fitted probabilities numerically 0 or 1 occurred”\n",
      "Warning message:\n",
      "“glm.fit: fitted probabilities numerically 0 or 1 occurred”\n",
      "Warning message:\n",
      "“glm.fit: fitted probabilities numerically 0 or 1 occurred”\n",
      "Warning message:\n",
      "“glm.fit: fitted probabilities numerically 0 or 1 occurred”\n",
      "Warning message:\n",
      "“glm.fit: fitted probabilities numerically 0 or 1 occurred”\n",
      "Warning message:\n",
      "“glm.fit: fitted probabilities numerically 0 or 1 occurred”\n",
      "Warning message:\n",
      "“glm.fit: fitted probabilities numerically 0 or 1 occurred”\n",
      "Warning message:\n",
      "“glm.fit: fitted probabilities numerically 0 or 1 occurred”\n",
      "Warning message:\n",
      "“glm.fit: fitted probabilities numerically 0 or 1 occurred”\n",
      "Warning message:\n",
      "“glm.fit: fitted probabilities numerically 0 or 1 occurred”\n",
      "Warning message:\n",
      "“glm.fit: fitted probabilities numerically 0 or 1 occurred”\n"
     ]
    },
    {
     "name": "stdout",
     "output_type": "stream",
     "text": [
      "                  Df Deviance    AIC\n",
      "<none>                 172.71 204.71\n",
      "- lwt:ui           1   174.85 204.85\n",
      "+ age:smoke        1   171.32 205.32\n",
      "+ ht:ptl.cat       1   171.63 205.63\n",
      "+ smoke:ptl.cat    1   171.93 205.93\n",
      "+ lwt:ptl.cat      1   172.08 206.08\n",
      "+ age:ht           1   172.32 206.32\n",
      "+ smoke:ui         1   172.33 206.33\n",
      "+ age:ptl.cat      1   172.39 206.39\n",
      "- lwt:smoke        1   176.44 206.44\n",
      "+ smoke:ht         1   172.51 206.51\n",
      "+ age:ui           1   172.60 206.60\n",
      "+ lwt:ht           1   172.62 206.62\n",
      "+ age:lwt          1   172.71 206.71\n",
      "- lwt:ftv.cat      2   178.82 206.82\n",
      "- ht               1   177.02 207.02\n",
      "+ race.cat         2   171.10 207.10\n",
      "- ui:ptl.cat       1   177.12 207.12\n",
      "+ smoke:ftv.cat    2   172.13 208.13\n",
      "+ ui:ftv.cat       2   172.62 208.62\n",
      "+ ht:ftv.cat       2   172.65 208.65\n",
      "+ ptl.cat:ftv.cat  2   172.69 208.69\n",
      "- age:ftv.cat      2   192.42 220.42\n"
     ]
    }
   ],
   "source": [
    "final2 = stepAIC(base,~.^2) #model w interactions"
   ]
  },
  {
   "cell_type": "code",
   "execution_count": 29,
   "metadata": {},
   "outputs": [],
   "source": [
    "probability_lbwt = predict(final2, type=\"response\")"
   ]
  },
  {
   "cell_type": "code",
   "execution_count": 30,
   "metadata": {},
   "outputs": [
    {
     "name": "stderr",
     "output_type": "stream",
     "text": [
      "Setting levels: control = 0, case = 1\n",
      "\n",
      "Setting direction: controls < cases\n",
      "\n"
     ]
    },
    {
     "data": {
      "text/plain": [
       "\n",
       "Call:\n",
       "roc.default(response = df$low, predictor = probability_lbwt,     plot = T)\n",
       "\n",
       "Data: probability_lbwt in 130 controls (df$low 0) < 59 cases (df$low 1).\n",
       "Area under the curve: 0.8283"
      ]
     },
     "metadata": {},
     "output_type": "display_data"
    },
    {
     "data": {
      "image/png": "[encoded data removed]",
      "text/plain": [
       "plot without title"
      ]
     },
     "metadata": {
      "image/png": {
       "height": 420,
       "width": 420
      },
      "text/plain": {
       "height": 420,
       "width": 420
      }
     },
     "output_type": "display_data"
    }
   ],
   "source": [
    "roc(df$low, probability_lbwt, plot=T)"
   ]
  },
  {
   "cell_type": "code",
   "execution_count": 31,
   "metadata": {},
   "outputs": [
    {
     "name": "stderr",
     "output_type": "stream",
     "text": [
      "Setting levels: control = 0, case = 1\n",
      "\n",
      "Setting direction: controls < cases\n",
      "\n"
     ]
    },
    {
     "data": {
      "image/png": "[encoded data removed]",
      "text/plain": [
       "plot without title"
      ]
     },
     "metadata": {
      "image/png": {
       "height": 420,
       "width": 420
      },
      "text/plain": {
       "height": 420,
       "width": 420
      }
     },
     "output_type": "display_data"
    }
   ],
   "source": [
    "my_roc = roc(df$low, probability_lbwt, plot=T)"
   ]
  },
  {
   "cell_type": "code",
   "execution_count": 32,
   "metadata": {},
   "outputs": [
    {
     "data": {
      "text/html": [
       "0.828292046936115"
      ],
      "text/latex": [
       "0.828292046936115"
      ],
      "text/markdown": [
       "0.828292046936115"
      ],
      "text/plain": [
       "Area under the curve: 0.8283"
      ]
     },
     "metadata": {},
     "output_type": "display_data"
    }
   ],
   "source": [
    "auc(my_roc)"
   ]
  },
  {
   "cell_type": "markdown",
   "metadata": {},
   "source": [
    "Finding the coordinates on ROC that gets optimal sensi/specif\n",
    "\n",
    "Threshold that corresp to the point on the upper lhs has \n",
    "specif of 1 and sensi of 0. this threshold is 0. \n",
    "\n",
    "well do this by hand in R\n",
    "\n",
    "\n"
   ]
  },
  {
   "cell_type": "markdown",
   "metadata": {},
   "source": [
    "### Finding the optimal threshold by balancing specificity and sensitivity"
   ]
  },
  {
   "cell_type": "code",
   "execution_count": null,
   "metadata": {},
   "outputs": [],
   "source": []
  },
  {
   "cell_type": "code",
   "execution_count": 33,
   "metadata": {},
   "outputs": [],
   "source": [
    "thetas = seq(0,1,.001)\n",
    "# Model 1\n",
    "sens1 = rep(0,length(thetas))\n",
    "spec1 = rep(0, length(thetas))\n",
    "# Model 2\n",
    "sens2 = rep(0,length(thetas))\n",
    "spec2 = rep(0, length(thetas))\n",
    "\n",
    "# Distances to roc from upper lhs corner \n",
    "dist1 = rep(0,length(thetas))\n",
    "dist2 = rep(0, length(thetas))\n",
    "\n",
    "# For every threshold theta we have a corresponding sensitivity and specificity\n",
    "# These will be the points on the ROC curve\n",
    "\n",
    "# age, lwt, smoke, ht ui, ptl cat1, ftv ftv, age ftv age ftv, ui ptlcat1\n",
    "\n",
    "# We should have the 1000 points so we can get all changes in ROC\n",
    "pp1 = predict(final1, type=\"response\")\n",
    "pp2 = predict(final2, type=\"response\") # final2 had model inxns\n",
    "\n",
    "for (i in 1:length(thetas)) {\n",
    "    # Cut the probabilities by a threshold and create a 0,1 vector\n",
    "    # the predicted probs will be replaced by 0s and 1s\n",
    "    # Low birthweight indicator variable at a particular threshold\n",
    "    classns_at_threshold1 = as.numeric(pp1 > thetas[i]) # as numeric changes from TF to 0,1\n",
    "    classns_at_threshold2 = as.numeric(pp2 > thetas[i]) # as numeric changes from TF to 0,1\n",
    "    \n",
    "    # How much will the optimal threshold change from a model\n",
    "    # from main effects only to main+inxns\n",
    "    \n",
    "    # Sensitivity:\n",
    "    # Remember now the sensi and spec can be calculated\n",
    "    # Based on how well the 0,1s from these vectors match to the\n",
    "    # True LBWT status variable, \"low\"\n",
    "    # total # ppl that model predicts will have lbwt baby and actually have it /total number of people w lbwt babies\n",
    "    # Specificity:\n",
    "    # Among the people that dont have the lbwt babies, how many the model says they dont have lbwt baby\n",
    "    # / total number of 0s\n",
    "    \n",
    "    sens1[i] =  sum(df$low*classns_at_threshold1)/sum(df$low)\n",
    "    spec1[i] =  sum((1-df$low)*(1-classns_at_threshold1))/(length(thetas)-sum(df$low)) \n",
    "    sens2[i] =  sum(df$low*classns_at_threshold2)/sum(df$low)\n",
    "    spec2[i] =  sum((1-df$low)*(1-classns_at_threshold2))/(length(thetas)-sum(df$low))\n",
    "\n",
    "    # Euclidean distance\n",
    "    # d(P, Ri) = sqrt((1-sens_i)^2 + (1-spec_i)^2)\n",
    "    dist1[i] = sqrt((1-sens1[i])^2 + (1-spec1[i])^2)\n",
    "    dist2[i] = sqrt((1-sens2[i])^2 + (1-spec2[i])^2)\n",
    "    \n",
    "}"
   ]
  },
  {
   "cell_type": "code",
   "execution_count": 34,
   "metadata": {},
   "outputs": [],
   "source": [
    "# as.numeric(pp1 > .2)"
   ]
  },
  {
   "cell_type": "code",
   "execution_count": 35,
   "metadata": {},
   "outputs": [
    {
     "data": {
      "image/png": "[encoded data removed]",
      "text/plain": [
       "plot without title"
      ]
     },
     "metadata": {
      "image/png": {
       "height": 420,
       "width": 420
      },
      "text/plain": {
       "height": 420,
       "width": 420
      }
     },
     "output_type": "display_data"
    },
    {
     "data": {
      "image/png": "[encoded data removed]",
      "text/plain": [
       "plot without title"
      ]
     },
     "metadata": {
      "image/png": {
       "height": 420,
       "width": 420
      },
      "text/plain": {
       "height": 420,
       "width": 420
      }
     },
     "output_type": "display_data"
    }
   ],
   "source": [
    "plot(1-spec1, sens1, type=\"l\")\n",
    "plot(1-spec2, sens2, type=\"l\")"
   ]
  },
  {
   "cell_type": "markdown",
   "metadata": {},
   "source": [
    "compare to plot from package"
   ]
  },
  {
   "cell_type": "code",
   "execution_count": 36,
   "metadata": {},
   "outputs": [
    {
     "name": "stderr",
     "output_type": "stream",
     "text": [
      "Setting levels: control = 0, case = 1\n",
      "\n",
      "Setting direction: controls < cases\n",
      "\n"
     ]
    },
    {
     "data": {
      "text/plain": [
       "\n",
       "Call:\n",
       "roc.default(response = df$low, predictor = pp1, plot = TRUE)\n",
       "\n",
       "Data: pp1 in 130 controls (df$low 0) < 59 cases (df$low 1).\n",
       "Area under the curve: 0.758"
      ]
     },
     "metadata": {},
     "output_type": "display_data"
    },
    {
     "name": "stderr",
     "output_type": "stream",
     "text": [
      "Setting levels: control = 0, case = 1\n",
      "\n",
      "Setting direction: controls < cases\n",
      "\n"
     ]
    },
    {
     "data": {
      "image/png": "[encoded data removed]",
      "text/plain": [
       "plot without title"
      ]
     },
     "metadata": {
      "image/png": {
       "height": 420,
       "width": 420
      },
      "text/plain": {
       "height": 420,
       "width": 420
      }
     },
     "output_type": "display_data"
    },
    {
     "data": {
      "text/plain": [
       "\n",
       "Call:\n",
       "roc.default(response = df$low, predictor = pp2, plot = TRUE)\n",
       "\n",
       "Data: pp2 in 130 controls (df$low 0) < 59 cases (df$low 1).\n",
       "Area under the curve: 0.8283"
      ]
     },
     "metadata": {},
     "output_type": "display_data"
    },
    {
     "data": {
      "image/png": "[encoded data removed]",
      "text/plain": [
       "plot without title"
      ]
     },
     "metadata": {
      "image/png": {
       "height": 420,
       "width": 420
      },
      "text/plain": {
       "height": 420,
       "width": 420
      }
     },
     "output_type": "display_data"
    }
   ],
   "source": [
    "roc(df$low, pp1, plot=TRUE)\n",
    "roc(df$low, pp2, plot=TRUE)"
   ]
  },
  {
   "cell_type": "code",
   "execution_count": 37,
   "metadata": {},
   "outputs": [
    {
     "name": "stderr",
     "output_type": "stream",
     "text": [
      "Setting levels: control = 0, case = 1\n",
      "\n",
      "Setting direction: controls < cases\n",
      "\n"
     ]
    },
    {
     "data": {
      "text/plain": [
       "\n",
       "Call:\n",
       "roc.default(response = df$low, predictor = pp1, plot = TRUE)\n",
       "\n",
       "Data: pp1 in 130 controls (df$low 0) < 59 cases (df$low 1).\n",
       "Area under the curve: 0.758"
      ]
     },
     "metadata": {},
     "output_type": "display_data"
    },
    {
     "data": {
      "image/png": "[encoded data removed]",
      "text/plain": [
       "plot without title"
      ]
     },
     "metadata": {
      "image/png": {
       "height": 420,
       "width": 420
      },
      "text/plain": {
       "height": 420,
       "width": 420
      }
     },
     "output_type": "display_data"
    }
   ],
   "source": [
    "par(mfrow=c(1,2))\n",
    "roc(df$low, pp1, plot=TRUE)"
   ]
  },
  {
   "cell_type": "markdown",
   "metadata": {},
   "source": [
    "how can we find the minimum distance?"
   ]
  },
  {
   "cell_type": "code",
   "execution_count": 38,
   "metadata": {},
   "outputs": [
    {
     "data": {
      "text/html": [
       "266"
      ],
      "text/latex": [
       "266"
      ],
      "text/markdown": [
       "266"
      ],
      "text/plain": [
       "[1] 266"
      ]
     },
     "metadata": {},
     "output_type": "display_data"
    }
   ],
   "source": [
    "which.min(dist1) # 282\n",
    "# 282nd point on our graph as the minimum distance\n",
    "# Which theshold theta that produced it? \n",
    "# Since we went from 0-1 it should be .82"
   ]
  },
  {
   "cell_type": "code",
   "execution_count": 39,
   "metadata": {},
   "outputs": [
    {
     "data": {
      "text/html": [
       "219"
      ],
      "text/latex": [
       "219"
      ],
      "text/markdown": [
       "219"
      ],
      "text/plain": [
       "[1] 219"
      ]
     },
     "metadata": {},
     "output_type": "display_data"
    }
   ],
   "source": [
    "which.min(dist2) # 371"
   ]
  },
  {
   "cell_type": "code",
   "execution_count": 40,
   "metadata": {},
   "outputs": [],
   "source": [
    "# Lets emphasize this point with a special symbol on the plot "
   ]
  },
  {
   "cell_type": "code",
   "execution_count": 41,
   "metadata": {},
   "outputs": [
    {
     "data": {
      "image/png": "[encoded data removed]",
      "text/plain": [
       "plot without title"
      ]
     },
     "metadata": {
      "image/png": {
       "height": 420,
       "width": 420
      },
      "text/plain": {
       "height": 420,
       "width": 420
      }
     },
     "output_type": "display_data"
    }
   ],
   "source": [
    "plot(1-spec1, sens1, type=\"l\")\n",
    "points(1-spec1[which.min(dist1)], sens1[which.min(dist1)], pch=16)"
   ]
  },
  {
   "cell_type": "code",
   "execution_count": 42,
   "metadata": {},
   "outputs": [
    {
     "data": {
      "image/png": "[encoded data removed]",
      "text/plain": [
       "plot without title"
      ]
     },
     "metadata": {
      "image/png": {
       "height": 420,
       "width": 420
      },
      "text/plain": {
       "height": 420,
       "width": 420
      }
     },
     "output_type": "display_data"
    }
   ],
   "source": [
    "plot(1-spec2, sens2, type=\"l\")\n",
    "points(1-spec2[which.min(dist2)], sens2[which.min(dist2)], pch=16)"
   ]
  },
  {
   "cell_type": "code",
   "execution_count": 43,
   "metadata": {},
   "outputs": [],
   "source": [
    "# How can we integrate under the curve "
   ]
  },
  {
   "cell_type": "code",
   "execution_count": null,
   "metadata": {},
   "outputs": [],
   "source": []
  },
  {
   "cell_type": "code",
   "execution_count": 44,
   "metadata": {},
   "outputs": [],
   "source": [
    "# Quiz Nov 19\n",
    "# Review log reg\n",
    "# model buildling, interactions, threshold choosing\n",
    "# Logistic regression has other variations like conditional logreg\n",
    "# Its used when people with and without the disease are matched on\n",
    "# variables that are important but not of primary interest of the study\n",
    "# Age, gender, race\n",
    "# Good and bad - good bc u can no longer blame age race or gender for being responsible for differences in the outcome variable of interest because the people youre working on have the exact same values\n",
    "# Thats a different way to control variables\n",
    "# You analyze them slightly differently when theyre matched \n",
    "# The likelyhood function is different, interp of coefs is same\n",
    "# This is not as popular any more. They believe that\n",
    "# Just include them as covariates in the model, thats how you adjust for the effect\n",
    "# Problem for matching - its hard to match\n",
    "# ALso when you match usually some people are unmatched so you have to toss them out which leaves a bad taste in your mouth which seems like a waste of information\n",
    "# PEOPLE DONT MATCH MUCH ANY MORE SO WE WONT TLAK ABOUT IT \n",
    "\n",
    "# The last one of the generalized linear model family: Possion regression\n",
    "\n"
   ]
  },
  {
   "cell_type": "code",
   "execution_count": null,
   "metadata": {},
   "outputs": [],
   "source": []
  },
  {
   "cell_type": "code",
   "execution_count": null,
   "metadata": {},
   "outputs": [],
   "source": []
  },
  {
   "cell_type": "code",
   "execution_count": null,
   "metadata": {},
   "outputs": [],
   "source": []
  },
  {
   "cell_type": "code",
   "execution_count": null,
   "metadata": {},
   "outputs": [],
   "source": []
  },
  {
   "cell_type": "code",
   "execution_count": null,
   "metadata": {},
   "outputs": [],
   "source": []
  }
 ],
 "metadata": {
  "kernelspec": {
   "display_name": "R",
   "language": "R",
   "name": "ir"
  },
  "language_info": {
   "codemirror_mode": "r",
   "file_extension": ".r",
   "mimetype": "text/x-r-source",
   "name": "R",
   "pygments_lexer": "r",
   "version": "3.6.1"
  }
 },
 "nbformat": 4,
 "nbformat_minor": 2
}
