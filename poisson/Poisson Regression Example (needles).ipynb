{
 "cells": [
  {
   "cell_type": "markdown",
   "metadata": {},
   "source": [
    "### Poisson Regression\n",
    "\n"
   ]
  },
  {
   "cell_type": "code",
   "execution_count": 1,
   "metadata": {},
   "outputs": [],
   "source": [
    "library(foreign)\n",
    "library(MASS)"
   ]
  },
  {
   "cell_type": "markdown",
   "metadata": {},
   "source": [
    "Read data "
   ]
  },
  {
   "cell_type": "code",
   "execution_count": 2,
   "metadata": {},
   "outputs": [],
   "source": [
    "d=read.dta(\"needle_sharing.dta\")"
   ]
  },
  {
   "cell_type": "markdown",
   "metadata": {},
   "source": [
    "Preprocess data "
   ]
  },
  {
   "cell_type": "code",
   "execution_count": 3,
   "metadata": {},
   "outputs": [],
   "source": [
    "d=d[-which(d$sex==\"Trans\"),] # Remove rows where sex is Trans \n",
    "d=d[-which(d$hivstat==2),] # Remove rows where hiv status us 2\n",
    "\n",
    "d=within(d,{ \n",
    "  id=NULL\n",
    "  sex=factor(sex)\n",
    "  sexabuse=factor(sexabuse)\n",
    "  ethn=factor(ifelse(d$ethn==\"AA\"|d$ethn==\"White\"|d$ethn==\"Hispanic\",d$ethn,\"Other\"))\n",
    "  shsyryn=NULL\n",
    "  sqrtnivd=NULL \n",
    "  logshsyr=NULL \n",
    "  sqrtninj=NULL\n",
    "  hivstat=factor(hivstat)\n",
    "  polydrug=factor(polydrug)\n",
    "  homeless=factor(homeless) \n",
    "  shsyr=NULL\n",
    "})\n",
    "\n",
    "d=na.omit(d)"
   ]
  },
  {
   "cell_type": "markdown",
   "metadata": {},
   "source": [
    "Create base poisson model, stepwise model building, optimized by AIC "
   ]
  },
  {
   "cell_type": "code",
   "execution_count": 4,
   "metadata": {},
   "outputs": [
    {
     "name": "stdout",
     "output_type": "stream",
     "text": [
      "Start:  AIC=847.29\n",
      "shared_syr ~ sex + ethn + age + dprsn_dx + sexabuse + hivstat + \n",
      "    hplsns + nivdu + polydrug + homeless\n",
      "\n",
      "           Df Deviance     AIC\n",
      "<none>          750.19  847.29\n",
      "- dprsn_dx  1   757.11  852.20\n",
      "- nivdu     1   757.28  852.38\n",
      "- hplsns    1   760.31  855.41\n",
      "- sexabuse  1   768.51  863.60\n",
      "- age       1   776.03  871.13\n",
      "- sex       1   783.83  878.93\n",
      "- ethn      3   788.45  879.54\n",
      "- polydrug  1   804.07  899.16\n",
      "- hivstat   1   807.56  902.66\n",
      "- homeless  1   920.29 1015.39\n"
     ]
    }
   ],
   "source": [
    "base = glm(shared_syr~., data=d, family=\"poisson\") # fit model on everything\n",
    "final1 = stepAIC(base)"
   ]
  },
  {
   "cell_type": "code",
   "execution_count": 5,
   "metadata": {},
   "outputs": [
    {
     "data": {
      "text/plain": [
       "\n",
       "Call:\n",
       "glm(formula = shared_syr ~ sex + ethn + age + dprsn_dx + sexabuse + \n",
       "    hivstat + hplsns + nivdu + polydrug + homeless, family = \"poisson\", \n",
       "    data = d)\n",
       "\n",
       "Deviance Residuals: \n",
       "    Min       1Q   Median       3Q      Max  \n",
       "-6.4702  -1.9005  -1.0660  -0.5624  11.6138  \n",
       "\n",
       "Coefficients:\n",
       "               Estimate Std. Error z value Pr(>|z|)    \n",
       "(Intercept)   3.1598121  0.4899611   6.449 1.13e-10 ***\n",
       "sexM         -0.9209149  0.1546092  -5.956 2.58e-09 ***\n",
       "ethnHispanic -0.2829113  0.3314318  -0.854  0.39332    \n",
       "ethnOther    -0.8262423  0.4368334  -1.891  0.05857 .  \n",
       "ethnWhite    -1.1604997  0.1950254  -5.951 2.67e-09 ***\n",
       "age          -0.0486900  0.0098113  -4.963 6.95e-07 ***\n",
       "dprsn_dx      0.1465354  0.0547094   2.678  0.00740 ** \n",
       "sexabuse1    -1.2116955  0.3308155  -3.663  0.00025 ***\n",
       "hivstat1     -2.6141802  0.4776113  -5.473 4.41e-08 ***\n",
       "hplsns       -0.0521137  0.0168866  -3.086  0.00203 ** \n",
       "nivdu        -0.0020485  0.0008824  -2.322  0.02025 *  \n",
       "polydrug1    -1.8488332  0.3142561  -5.883 4.02e-09 ***\n",
       "homeless1     2.2307549  0.1876461  11.888  < 2e-16 ***\n",
       "---\n",
       "Signif. codes:  0 ‘***’ 0.001 ‘**’ 0.01 ‘*’ 0.05 ‘.’ 0.1 ‘ ’ 1\n",
       "\n",
       "(Dispersion parameter for poisson family taken to be 1)\n",
       "\n",
       "    Null deviance: 1024.97  on 105  degrees of freedom\n",
       "Residual deviance:  750.19  on  93  degrees of freedom\n",
       "AIC: 847.29\n",
       "\n",
       "Number of Fisher Scoring iterations: 8\n"
      ]
     },
     "metadata": {},
     "output_type": "display_data"
    }
   ],
   "source": [
    "summary(final1)"
   ]
  },
  {
   "cell_type": "code",
   "execution_count": 8,
   "metadata": {},
   "outputs": [],
   "source": [
    "# we accidentially forced linreg and nothing came back significant with a 65 disp parm"
   ]
  },
  {
   "cell_type": "markdown",
   "metadata": {},
   "source": [
    "In parenthases we see the dispersion parameter is 1. This means the overdispersion parameter is forced to be 1. \n",
    "\n",
    "Null deviance - deviance of the model with just an intercept. \n",
    "Residual deviance - difference of deviance between our model and saturated model."
   ]
  },
  {
   "cell_type": "markdown",
   "metadata": {},
   "source": [
    "How can we test if this model is good as is?\n",
    "hypothesis test of residual deviance. \n",
    "Why the dof 93? why 105 for dof of null deviance? \n",
    "93: n-(p+1) \n",
    "\n",
    "dim(data) = 106. So why dof 105? cuz it has a single param in the model, intercept only. \n",
    "\n",
    "why 93? 106- num parameters in model: 13. "
   ]
  },
  {
   "cell_type": "markdown",
   "metadata": {},
   "source": [
    "How to check if model fits the data well?\n",
    "residual deviance is X2 distributed with 93 DOF.  Remember it rejects for large values. \n",
    "p-chi2"
   ]
  },
  {
   "cell_type": "code",
   "execution_count": 12,
   "metadata": {},
   "outputs": [
    {
     "data": {
      "text/html": [
       "750.189595363944"
      ],
      "text/latex": [
       "750.189595363944"
      ],
      "text/markdown": [
       "750.189595363944"
      ],
      "text/plain": [
       "[1] 750.1896"
      ]
     },
     "metadata": {},
     "output_type": "display_data"
    },
    {
     "data": {
      "text/html": [
       "93"
      ],
      "text/latex": [
       "93"
      ],
      "text/markdown": [
       "93"
      ],
      "text/plain": [
       "[1] 93"
      ]
     },
     "metadata": {},
     "output_type": "display_data"
    }
   ],
   "source": [
    "# Grab the deviance from the output\n",
    "final1$deviance # residual deviance\n",
    "final1$df.residual # degrees of freedom of residual deviance"
   ]
  },
  {
   "cell_type": "markdown",
   "metadata": {},
   "source": [
    "p value of hypothesis test for redisual deviance\n"
   ]
  },
  {
   "cell_type": "code",
   "execution_count": 11,
   "metadata": {},
   "outputs": [
    {
     "data": {
      "text/html": [
       "0"
      ],
      "text/latex": [
       "0"
      ],
      "text/markdown": [
       "0"
      ],
      "text/plain": [
       "[1] 0"
      ]
     },
     "metadata": {},
     "output_type": "display_data"
    }
   ],
   "source": [
    "1-pchisq(final1$deviance, final1$df.residual)"
   ]
  },
  {
   "cell_type": "markdown",
   "metadata": {},
   "source": [
    "So is the model good? a p value of 0. the null hypothesis is that the model is good. It's overwhelmingly rejected.\n",
    "\n",
    "remember X2 stat with n degrees of freedom has a mean of n and var of 2n. so when the dof is 92 and the value of the test statistic is 750 yo uare WAY away from a good fit, thats why the p value is 0. ***review\n",
    "\n",
    "No.\n",
    "\n",
    "What should we do?"
   ]
  },
  {
   "cell_type": "markdown",
   "metadata": {},
   "source": [
    "Just to practice, if we really liked this model and didnt check the GOF. How would we interpret the coefs?"
   ]
  },
  {
   "cell_type": "code",
   "execution_count": 13,
   "metadata": {},
   "outputs": [
    {
     "data": {
      "text/html": [
       "<style>\n",
       ".dl-inline {width: auto; margin:0; padding: 0}\n",
       ".dl-inline>dt, .dl-inline>dd {float: none; width: auto; display: inline-block}\n",
       ".dl-inline>dt::after {content: \":\\0020\"; padding-right: .5ex}\n",
       ".dl-inline>dt:not(:first-of-type) {padding-left: .5ex}\n",
       "</style><dl class=dl-inline><dt>(Intercept)</dt><dd>23.5661667594922</dd><dt>sexM</dt><dd>0.398154621012792</dd><dt>ethnHispanic</dt><dd>0.753586599518966</dd><dt>ethnOther</dt><dd>0.437690908336395</dd><dt>ethnWhite</dt><dd>0.31332957930871</dd><dt>age</dt><dd>0.952476347401349</dd><dt>dprsn_dx</dt><dd>1.15781588182172</dd><dt>sexabuse1</dt><dd>0.297692104518235</dd><dt>hivstat1</dt><dd>0.0732277937079238</dd><dt>hplsns</dt><dd>0.949220977034515</dd><dt>nivdu</dt><dd>0.997953570949525</dd><dt>polydrug1</dt><dd>0.157420745221142</dd><dt>homeless1</dt><dd>9.306889278195</dd></dl>\n"
      ],
      "text/latex": [
       "\\begin{description*}\n",
       "\\item[(Intercept)] 23.5661667594922\n",
       "\\item[sexM] 0.398154621012792\n",
       "\\item[ethnHispanic] 0.753586599518966\n",
       "\\item[ethnOther] 0.437690908336395\n",
       "\\item[ethnWhite] 0.31332957930871\n",
       "\\item[age] 0.952476347401349\n",
       "\\item[dprsn\\textbackslash{}\\_dx] 1.15781588182172\n",
       "\\item[sexabuse1] 0.297692104518235\n",
       "\\item[hivstat1] 0.0732277937079238\n",
       "\\item[hplsns] 0.949220977034515\n",
       "\\item[nivdu] 0.997953570949525\n",
       "\\item[polydrug1] 0.157420745221142\n",
       "\\item[homeless1] 9.306889278195\n",
       "\\end{description*}\n"
      ],
      "text/markdown": [
       "(Intercept)\n",
       ":   23.5661667594922sexM\n",
       ":   0.398154621012792ethnHispanic\n",
       ":   0.753586599518966ethnOther\n",
       ":   0.437690908336395ethnWhite\n",
       ":   0.31332957930871age\n",
       ":   0.952476347401349dprsn_dx\n",
       ":   1.15781588182172sexabuse1\n",
       ":   0.297692104518235hivstat1\n",
       ":   0.0732277937079238hplsns\n",
       ":   0.949220977034515nivdu\n",
       ":   0.997953570949525polydrug1\n",
       ":   0.157420745221142homeless1\n",
       ":   9.306889278195\n",
       "\n"
      ],
      "text/plain": [
       " (Intercept)         sexM ethnHispanic    ethnOther    ethnWhite          age \n",
       " 23.56616676   0.39815462   0.75358660   0.43769091   0.31332958   0.95247635 \n",
       "    dprsn_dx    sexabuse1     hivstat1       hplsns        nivdu    polydrug1 \n",
       "  1.15781588   0.29769210   0.07322779   0.94922098   0.99795357   0.15742075 \n",
       "   homeless1 \n",
       "  9.30688928 "
      ]
     },
     "metadata": {},
     "output_type": "display_data"
    }
   ],
   "source": [
    "exp(final1$coef)"
   ]
  },
  {
   "cell_type": "markdown",
   "metadata": {},
   "source": [
    "expected number of syringes they shared with baseline cats\n",
    "female baseline\n",
    "ethnicity baseline AA\n",
    "\n",
    "61% lower for males, everything else being equal\n",
    "hispanic drug users 25% less than AA \n",
    "other \"\" 66% lower...\n",
    "as you get older, each addtl year reduces number of shared needles by 5%\n",
    "\n",
    "those that use multiple drugs have 84% decrease in number of shared needles. \n",
    "\n",
    "we kind of like it but it doesnt fit the data well. "
   ]
  },
  {
   "cell_type": "code",
   "execution_count": 16,
   "metadata": {},
   "outputs": [
    {
     "data": {
      "text/plain": [
       "\n",
       "\tOverdispersion test\n",
       "\n",
       "data:  final1\n",
       "z = 2.2554, p-value = 0.01206\n",
       "alternative hypothesis: true dispersion is greater than 1\n",
       "sample estimates:\n",
       "dispersion \n",
       "  12.34147 \n"
      ]
     },
     "metadata": {},
     "output_type": "display_data"
    }
   ],
   "source": [
    "# We can test if overdispersion is present\n",
    "library(AER)\n",
    "dispersiontest(final1)"
   ]
  },
  {
   "cell_type": "markdown",
   "metadata": {},
   "source": [
    "we reject the null hypothesis that there is no dispersion in favor of the aletenative that the dispersion parameter is greater than 1. in fact the disp parameter is 12.4\n",
    "Our model had forced it to be 1. \n",
    "\n",
    "Lets refit the model, final1, with "
   ]
  },
  {
   "cell_type": "code",
   "execution_count": 18,
   "metadata": {},
   "outputs": [],
   "source": [
    "# final1# get the call and paste"
   ]
  },
  {
   "cell_type": "markdown",
   "metadata": {},
   "source": [
    "Quasi poisson"
   ]
  },
  {
   "cell_type": "code",
   "execution_count": 19,
   "metadata": {},
   "outputs": [],
   "source": [
    "final2 = glm(formula = shared_syr ~ sex + ethn + age + dprsn_dx + sexabuse + \n",
    "    hivstat + hplsns + nivdu + polydrug + homeless, family = \"quasipoisson\", \n",
    "    data = d)"
   ]
  },
  {
   "cell_type": "code",
   "execution_count": 20,
   "metadata": {},
   "outputs": [
    {
     "data": {
      "text/plain": [
       "\n",
       "Call:\n",
       "glm(formula = shared_syr ~ sex + ethn + age + dprsn_dx + sexabuse + \n",
       "    hivstat + hplsns + nivdu + polydrug + homeless, family = \"quasipoisson\", \n",
       "    data = d)\n",
       "\n",
       "Deviance Residuals: \n",
       "    Min       1Q   Median       3Q      Max  \n",
       "-6.4702  -1.9005  -1.0660  -0.5624  11.6138  \n",
       "\n",
       "Coefficients:\n",
       "              Estimate Std. Error t value Pr(>|t|)   \n",
       "(Intercept)   3.159812   1.836732   1.720  0.08870 . \n",
       "sexM         -0.920915   0.579588  -1.589  0.11547   \n",
       "ethnHispanic -0.282911   1.242448  -0.228  0.82038   \n",
       "ethnOther    -0.826242   1.637570  -0.505  0.61507   \n",
       "ethnWhite    -1.160500   0.731098  -1.587  0.11583   \n",
       "age          -0.048690   0.036780  -1.324  0.18881   \n",
       "dprsn_dx      0.146535   0.205091   0.714  0.47671   \n",
       "sexabuse1    -1.211696   1.240138  -0.977  0.33107   \n",
       "hivstat1     -2.614180   1.790436  -1.460  0.14764   \n",
       "hplsns       -0.052114   0.063303  -0.823  0.41248   \n",
       "nivdu        -0.002049   0.003308  -0.619  0.53722   \n",
       "polydrug1    -1.848833   1.178061  -1.569  0.11995   \n",
       "homeless1     2.230755   0.703434   3.171  0.00206 **\n",
       "---\n",
       "Signif. codes:  0 ‘***’ 0.001 ‘**’ 0.01 ‘*’ 0.05 ‘.’ 0.1 ‘ ’ 1\n",
       "\n",
       "(Dispersion parameter for quasipoisson family taken to be 14.05297)\n",
       "\n",
       "    Null deviance: 1024.97  on 105  degrees of freedom\n",
       "Residual deviance:  750.19  on  93  degrees of freedom\n",
       "AIC: NA\n",
       "\n",
       "Number of Fisher Scoring iterations: 8\n"
      ]
     },
     "metadata": {},
     "output_type": "display_data"
    }
   ],
   "source": [
    "summary(final2)"
   ]
  },
  {
   "cell_type": "markdown",
   "metadata": {},
   "source": [
    "The effect sizes (beta estimates) didnt change. The variance that we forced is allowed to flow to be 12x bigger. this changed the significance. "
   ]
  },
  {
   "cell_type": "code",
   "execution_count": 21,
   "metadata": {},
   "outputs": [
    {
     "data": {
      "text/html": [
       "9.29986607948359"
      ],
      "text/latex": [
       "9.29986607948359"
      ],
      "text/markdown": [
       "9.29986607948359"
      ],
      "text/plain": [
       "[1] 9.299866"
      ]
     },
     "metadata": {},
     "output_type": "display_data"
    }
   ],
   "source": [
    "exp(2.23)"
   ]
  },
  {
   "cell_type": "markdown",
   "metadata": {},
   "source": [
    "With everything else constant, those who are homeless compared to the baseline of not homeless are 9.29 more likely to share syringes. "
   ]
  },
  {
   "cell_type": "markdown",
   "metadata": {},
   "source": [
    "### Negative Binomial Regression"
   ]
  },
  {
   "cell_type": "code",
   "execution_count": 23,
   "metadata": {},
   "outputs": [
    {
     "name": "stderr",
     "output_type": "stream",
     "text": [
      "Warning message:\n",
      "“glm.fit: algorithm did not converge”\n",
      "Warning message:\n",
      "“glm.fit: algorithm did not converge”\n",
      "Warning message:\n",
      "“glm.fit: algorithm did not converge”\n",
      "Warning message:\n",
      "“glm.fit: algorithm did not converge”\n",
      "Warning message:\n",
      "“glm.fit: algorithm did not converge”\n",
      "Warning message:\n",
      "“glm.fit: algorithm did not converge”\n",
      "Warning message:\n",
      "“glm.fit: algorithm did not converge”\n",
      "Warning message:\n",
      "“glm.fit: algorithm did not converge”\n",
      "Warning message:\n",
      "“glm.fit: algorithm did not converge”\n",
      "Warning message:\n",
      "“glm.fit: algorithm did not converge”\n",
      "Warning message:\n",
      "“glm.fit: algorithm did not converge”\n",
      "Warning message:\n",
      "“glm.fit: algorithm did not converge”\n",
      "Warning message:\n",
      "“glm.fit: algorithm did not converge”\n",
      "Warning message:\n",
      "“glm.fit: algorithm did not converge”\n",
      "Warning message:\n",
      "“glm.fit: algorithm did not converge”\n",
      "Warning message:\n",
      "“glm.fit: algorithm did not converge”\n",
      "Warning message:\n",
      "“glm.fit: algorithm did not converge”\n",
      "Warning message:\n",
      "“glm.fit: algorithm did not converge”\n",
      "Warning message:\n",
      "“glm.fit: algorithm did not converge”\n",
      "Warning message:\n",
      "“glm.fit: algorithm did not converge”\n",
      "Warning message:\n",
      "“glm.fit: algorithm did not converge”\n",
      "Warning message:\n",
      "“glm.fit: algorithm did not converge”\n",
      "Warning message:\n",
      "“glm.fit: algorithm did not converge”\n",
      "Warning message:\n",
      "“glm.fit: algorithm did not converge”\n",
      "Warning message:\n",
      "“glm.fit: algorithm did not converge”\n",
      "Warning message in glm.nb(formula = shared_syr ~ sex + ethn + age + dprsn_dx + sexabuse + :\n",
      "“alternation limit reached”\n"
     ]
    }
   ],
   "source": [
    "final3 = glm.nb(formula = shared_syr ~ sex + ethn + age + dprsn_dx + sexabuse + \n",
    "    hivstat + hplsns + nivdu + polydrug + homeless,  \n",
    "    data = d)"
   ]
  },
  {
   "cell_type": "markdown",
   "metadata": {},
   "source": [
    "warnings mean that we are overfitting"
   ]
  },
  {
   "cell_type": "code",
   "execution_count": 24,
   "metadata": {},
   "outputs": [
    {
     "data": {
      "text/plain": [
       "\n",
       "Call:\n",
       "glm.nb(formula = shared_syr ~ sex + ethn + age + dprsn_dx + sexabuse + \n",
       "    hivstat + hplsns + nivdu + polydrug + homeless, data = d, \n",
       "    init.theta = 0.09180651863, link = log)\n",
       "\n",
       "Deviance Residuals: \n",
       "    Min       1Q   Median       3Q      Max  \n",
       "-1.1426  -0.7400  -0.5057  -0.2215   1.9104  \n",
       "\n",
       "Coefficients:\n",
       "              Estimate Std. Error z value Pr(>|z|)   \n",
       "(Intercept)   4.198740   2.449838   1.714  0.08655 . \n",
       "sexM         -0.561843   0.932189  -0.603  0.54670   \n",
       "ethnHispanic  1.936667   1.739433   1.113  0.26554   \n",
       "ethnOther    -2.104401   2.276698  -0.924  0.35532   \n",
       "ethnWhite    -0.204575   0.971663  -0.211  0.83325   \n",
       "age          -0.096842   0.047922  -2.021  0.04330 * \n",
       "dprsn_dx      0.230686   0.257752   0.895  0.37079   \n",
       "sexabuse1    -2.124947   1.292540  -1.644  0.10017   \n",
       "hivstat1     -2.364185   1.654765  -1.429  0.15309   \n",
       "hplsns        0.040089   0.079165   0.506  0.61258   \n",
       "nivdu        -0.007208   0.006500  -1.109  0.26747   \n",
       "polydrug1    -3.627161   1.381279  -2.626  0.00864 **\n",
       "homeless1     2.189683   0.896181   2.443  0.01455 * \n",
       "---\n",
       "Signif. codes:  0 ‘***’ 0.001 ‘**’ 0.01 ‘*’ 0.05 ‘.’ 0.1 ‘ ’ 1\n",
       "\n",
       "(Dispersion parameter for Negative Binomial(0.09) family taken to be 1)\n",
       "\n",
       "    Null deviance: 60.043  on 105  degrees of freedom\n",
       "Residual deviance: 46.284  on  93  degrees of freedom\n",
       "AIC: 249.52\n",
       "\n",
       "Number of Fisher Scoring iterations: 25\n",
       "\n",
       "\n",
       "              Theta:  0.0918 \n",
       "          Std. Err.:  0.0250 \n",
       "Warning while fitting theta: alternation limit reached \n",
       "\n",
       " 2 x log-likelihood:  -221.5160 "
      ]
     },
     "metadata": {},
     "output_type": "display_data"
    }
   ],
   "source": [
    "summary(final3)"
   ]
  },
  {
   "cell_type": "markdown",
   "metadata": {},
   "source": [
    "if you compare the coefs\n",
    "obviously pois and qpois had the same estimates with different p values and std errors.\n",
    "\n",
    "Comparing coefs from the 3 models"
   ]
  },
  {
   "cell_type": "code",
   "execution_count": 27,
   "metadata": {},
   "outputs": [
    {
     "data": {
      "text/html": [
       "<table>\n",
       "<caption>A matrix: 13 × 3 of type dbl</caption>\n",
       "<tbody>\n",
       "\t<tr><th scope=row>(Intercept)</th><td> 3.159812072</td><td> 3.159812072</td><td> 4.198740178</td></tr>\n",
       "\t<tr><th scope=row>sexM</th><td>-0.920914854</td><td>-0.920914854</td><td>-0.561842743</td></tr>\n",
       "\t<tr><th scope=row>ethnHispanic</th><td>-0.282911338</td><td>-0.282911338</td><td> 1.936666577</td></tr>\n",
       "\t<tr><th scope=row>ethnOther</th><td>-0.826242306</td><td>-0.826242306</td><td>-2.104400761</td></tr>\n",
       "\t<tr><th scope=row>ethnWhite</th><td>-1.160499673</td><td>-1.160499673</td><td>-0.204574533</td></tr>\n",
       "\t<tr><th scope=row>age</th><td>-0.048690004</td><td>-0.048690004</td><td>-0.096842178</td></tr>\n",
       "\t<tr><th scope=row>dprsn_dx</th><td> 0.146535370</td><td> 0.146535370</td><td> 0.230686226</td></tr>\n",
       "\t<tr><th scope=row>sexabuse1</th><td>-1.211695533</td><td>-1.211695533</td><td>-2.124947301</td></tr>\n",
       "\t<tr><th scope=row>hivstat1</th><td>-2.614180235</td><td>-2.614180235</td><td>-2.364185095</td></tr>\n",
       "\t<tr><th scope=row>hplsns</th><td>-0.052113655</td><td>-0.052113655</td><td> 0.040089063</td></tr>\n",
       "\t<tr><th scope=row>nivdu</th><td>-0.002048526</td><td>-0.002048526</td><td>-0.007208498</td></tr>\n",
       "\t<tr><th scope=row>polydrug1</th><td>-1.848833152</td><td>-1.848833152</td><td>-3.627161099</td></tr>\n",
       "\t<tr><th scope=row>homeless1</th><td> 2.230754909</td><td> 2.230754909</td><td> 2.189682564</td></tr>\n",
       "</tbody>\n",
       "</table>\n"
      ],
      "text/latex": [
       "A matrix: 13 × 3 of type dbl\n",
       "\\begin{tabular}{r|lll}\n",
       "\t(Intercept) &  3.159812072 &  3.159812072 &  4.198740178\\\\\n",
       "\tsexM & -0.920914854 & -0.920914854 & -0.561842743\\\\\n",
       "\tethnHispanic & -0.282911338 & -0.282911338 &  1.936666577\\\\\n",
       "\tethnOther & -0.826242306 & -0.826242306 & -2.104400761\\\\\n",
       "\tethnWhite & -1.160499673 & -1.160499673 & -0.204574533\\\\\n",
       "\tage & -0.048690004 & -0.048690004 & -0.096842178\\\\\n",
       "\tdprsn\\_dx &  0.146535370 &  0.146535370 &  0.230686226\\\\\n",
       "\tsexabuse1 & -1.211695533 & -1.211695533 & -2.124947301\\\\\n",
       "\thivstat1 & -2.614180235 & -2.614180235 & -2.364185095\\\\\n",
       "\thplsns & -0.052113655 & -0.052113655 &  0.040089063\\\\\n",
       "\tnivdu & -0.002048526 & -0.002048526 & -0.007208498\\\\\n",
       "\tpolydrug1 & -1.848833152 & -1.848833152 & -3.627161099\\\\\n",
       "\thomeless1 &  2.230754909 &  2.230754909 &  2.189682564\\\\\n",
       "\\end{tabular}\n"
      ],
      "text/markdown": [
       "\n",
       "A matrix: 13 × 3 of type dbl\n",
       "\n",
       "| (Intercept) |  3.159812072 |  3.159812072 |  4.198740178 |\n",
       "| sexM | -0.920914854 | -0.920914854 | -0.561842743 |\n",
       "| ethnHispanic | -0.282911338 | -0.282911338 |  1.936666577 |\n",
       "| ethnOther | -0.826242306 | -0.826242306 | -2.104400761 |\n",
       "| ethnWhite | -1.160499673 | -1.160499673 | -0.204574533 |\n",
       "| age | -0.048690004 | -0.048690004 | -0.096842178 |\n",
       "| dprsn_dx |  0.146535370 |  0.146535370 |  0.230686226 |\n",
       "| sexabuse1 | -1.211695533 | -1.211695533 | -2.124947301 |\n",
       "| hivstat1 | -2.614180235 | -2.614180235 | -2.364185095 |\n",
       "| hplsns | -0.052113655 | -0.052113655 |  0.040089063 |\n",
       "| nivdu | -0.002048526 | -0.002048526 | -0.007208498 |\n",
       "| polydrug1 | -1.848833152 | -1.848833152 | -3.627161099 |\n",
       "| homeless1 |  2.230754909 |  2.230754909 |  2.189682564 |\n",
       "\n"
      ],
      "text/plain": [
       "             [,1]         [,2]         [,3]        \n",
       "(Intercept)   3.159812072  3.159812072  4.198740178\n",
       "sexM         -0.920914854 -0.920914854 -0.561842743\n",
       "ethnHispanic -0.282911338 -0.282911338  1.936666577\n",
       "ethnOther    -0.826242306 -0.826242306 -2.104400761\n",
       "ethnWhite    -1.160499673 -1.160499673 -0.204574533\n",
       "age          -0.048690004 -0.048690004 -0.096842178\n",
       "dprsn_dx      0.146535370  0.146535370  0.230686226\n",
       "sexabuse1    -1.211695533 -1.211695533 -2.124947301\n",
       "hivstat1     -2.614180235 -2.614180235 -2.364185095\n",
       "hplsns       -0.052113655 -0.052113655  0.040089063\n",
       "nivdu        -0.002048526 -0.002048526 -0.007208498\n",
       "polydrug1    -1.848833152 -1.848833152 -3.627161099\n",
       "homeless1     2.230754909  2.230754909  2.189682564"
      ]
     },
     "metadata": {},
     "output_type": "display_data"
    }
   ],
   "source": [
    "cbind(final1$coef, final2$coef, final3$coef)"
   ]
  },
  {
   "cell_type": "markdown",
   "metadata": {},
   "source": [
    "Wyt about hte first 2 cols? Pois, qpois, thirs col nb\n",
    "\n",
    "relative risk ratios in pois regren.\n",
    "\n",
    "next time:\n",
    "different people are followed over diff periods of time: you have to force a variable in the model called an offset."
   ]
  },
  {
   "cell_type": "code",
   "execution_count": null,
   "metadata": {},
   "outputs": [],
   "source": []
  },
  {
   "cell_type": "code",
   "execution_count": null,
   "metadata": {},
   "outputs": [],
   "source": []
  },
  {
   "cell_type": "code",
   "execution_count": null,
   "metadata": {},
   "outputs": [],
   "source": []
  },
  {
   "cell_type": "code",
   "execution_count": null,
   "metadata": {},
   "outputs": [],
   "source": []
  }
 ],
 "metadata": {
  "kernelspec": {
   "display_name": "R",
   "language": "R",
   "name": "ir"
  },
  "language_info": {
   "codemirror_mode": "r",
   "file_extension": ".r",
   "mimetype": "text/x-r-source",
   "name": "R",
   "pygments_lexer": "r",
   "version": "3.6.1"
  }
 },
 "nbformat": 4,
 "nbformat_minor": 2
}
